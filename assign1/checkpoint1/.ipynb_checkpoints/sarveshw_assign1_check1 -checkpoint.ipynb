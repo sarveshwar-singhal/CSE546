{
 "cells": [
  {
   "cell_type": "code",
   "execution_count": null,
   "metadata": {
    "id": "9WBoOCB-nSN_"
   },
   "outputs": [],
   "source": []
  },
  {
   "cell_type": "markdown",
   "metadata": {
    "id": "h5GkGexlnTAN"
   },
   "source": [
    "I certify that the code and data in this assignment were generated independently, using only the tools\n",
    "and resources defined in the course and that I did not receive any external help, coaching or contributions\n",
    "during the production of this work."
   ]
  },
  {
   "cell_type": "code",
   "execution_count": null,
   "metadata": {
    "colab": {
     "base_uri": "https://localhost:8080/"
    },
    "id": "gJ2NIWY_VqBq",
    "outputId": "eb74ba14-4b2f-403b-cb4a-ec7d4c3d681e"
   },
   "outputs": [
    {
     "name": "stdout",
     "output_type": "stream",
     "text": [
      "Requirement already satisfied: gym in /usr/local/lib/python3.7/dist-packages (0.17.3)\n",
      "Requirement already satisfied: cloudpickle<1.7.0,>=1.2.0 in /usr/local/lib/python3.7/dist-packages (from gym) (1.3.0)\n",
      "Requirement already satisfied: numpy>=1.10.4 in /usr/local/lib/python3.7/dist-packages (from gym) (1.19.5)\n",
      "Requirement already satisfied: pyglet<=1.5.0,>=1.4.0 in /usr/local/lib/python3.7/dist-packages (from gym) (1.5.0)\n",
      "Requirement already satisfied: scipy in /usr/local/lib/python3.7/dist-packages (from gym) (1.4.1)\n",
      "Requirement already satisfied: future in /usr/local/lib/python3.7/dist-packages (from pyglet<=1.5.0,>=1.4.0->gym) (0.16.0)\n"
     ]
    }
   ],
   "source": [
    "!pip install gym"
   ]
  },
  {
   "cell_type": "code",
   "execution_count": 1,
   "metadata": {
    "executionInfo": {
     "elapsed": 627,
     "status": "ok",
     "timestamp": 1645403412305,
     "user": {
      "displayName": "Sarveshwar Singhal",
      "photoUrl": "https://lh3.googleusercontent.com/a/default-user=s64",
      "userId": "13192401686961074385"
     },
     "user_tz": 300
    },
    "id": "9j4Qb7nU6RuC"
   },
   "outputs": [],
   "source": [
    "import numpy as np\n",
    "import matplotlib.pyplot as plt\n",
    "import gym\n",
    "from gym import spaces"
   ]
  },
  {
   "cell_type": "code",
   "execution_count": 99,
   "metadata": {
    "executionInfo": {
     "elapsed": 297,
     "status": "ok",
     "timestamp": 1645413691067,
     "user": {
      "displayName": "Sarveshwar Singhal",
      "photoUrl": "https://lh3.googleusercontent.com/a/default-user=s64",
      "userId": "13192401686961074385"
     },
     "user_tz": 300
    },
    "id": "2YlPM3PmTFq0"
   },
   "outputs": [],
   "source": [
    "\n",
    "import pandas as pd"
   ]
  },
  {
   "cell_type": "code",
   "execution_count": 15,
   "metadata": {
    "colab": {
     "base_uri": "https://localhost:8080/"
    },
    "executionInfo": {
     "elapsed": 302,
     "status": "ok",
     "timestamp": 1645405797397,
     "user": {
      "displayName": "Sarveshwar Singhal",
      "photoUrl": "https://lh3.googleusercontent.com/a/default-user=s64",
      "userId": "13192401686961074385"
     },
     "user_tz": 300
    },
    "id": "5q2ods0l6b-2",
    "outputId": "353287ab-b9e4-4d45-ebac-b61fae797c4d"
   },
   "outputs": [
    {
     "name": "stdout",
     "output_type": "stream",
     "text": [
      "[[0. 0. 0.]\n",
      " [0. 0. 0.]\n",
      " [0. 0. 0.]]\n"
     ]
    }
   ],
   "source": [
    "grid = np.zeros((3, 3))\n",
    "print(grid)"
   ]
  },
  {
   "cell_type": "code",
   "execution_count": 16,
   "metadata": {
    "colab": {
     "base_uri": "https://localhost:8080/"
    },
    "executionInfo": {
     "elapsed": 3,
     "status": "ok",
     "timestamp": 1645405798429,
     "user": {
      "displayName": "Sarveshwar Singhal",
      "photoUrl": "https://lh3.googleusercontent.com/a/default-user=s64",
      "userId": "13192401686961074385"
     },
     "user_tz": 300
    },
    "id": "DuUnFoP26iA0",
    "outputId": "ad79ade4-42c0-4e02-9b24-f1c590ad0114"
   },
   "outputs": [
    {
     "name": "stdout",
     "output_type": "stream",
     "text": [
      "[[1.  0.  0. ]\n",
      " [0.  0.  0. ]\n",
      " [0.  0.  0.5]]\n"
     ]
    }
   ],
   "source": [
    "pos1 = [0, 0]\n",
    "pos2 = [2, 2]\n",
    "\n",
    "grid[tuple(pos1)] = 1\n",
    "grid[tuple(pos2)] = 0.5\n",
    "\n",
    "print(grid)"
   ]
  },
  {
   "cell_type": "code",
   "execution_count": 20,
   "metadata": {
    "colab": {
     "base_uri": "https://localhost:8080/",
     "height": 287
    },
    "executionInfo": {
     "elapsed": 479,
     "status": "ok",
     "timestamp": 1645405804534,
     "user": {
      "displayName": "Sarveshwar Singhal",
      "photoUrl": "https://lh3.googleusercontent.com/a/default-user=s64",
      "userId": "13192401686961074385"
     },
     "user_tz": 300
    },
    "id": "Dm-hGSkw6r82",
    "outputId": "d31322a6-8bae-4db1-f69e-268eee395d5c"
   },
   "outputs": [
    {
     "data": {
      "text/plain": [
       "<matplotlib.image.AxesImage at 0x7fab8525fb50>"
      ]
     },
     "execution_count": 20,
     "metadata": {},
     "output_type": "execute_result"
    },
    {
     "data": {
      "image/png": "[encoded data removed]",
      "text/plain": [
       "<Figure size 432x288 with 1 Axes>"
      ]
     },
     "metadata": {
      "needs_background": "light"
     },
     "output_type": "display_data"
    }
   ],
   "source": [
    "plt.imshow(grid)"
   ]
  },
  {
   "cell_type": "code",
   "execution_count": 41,
   "metadata": {
    "colab": {
     "base_uri": "https://localhost:8080/",
     "height": 273
    },
    "executionInfo": {
     "elapsed": 6228,
     "status": "ok",
     "timestamp": 1645410936998,
     "user": {
      "displayName": "Sarveshwar Singhal",
      "photoUrl": "https://lh3.googleusercontent.com/a/default-user=s64",
      "userId": "13192401686961074385"
     },
     "user_tz": 300
    },
    "id": "iUXzzdrO6w96",
    "outputId": "2ff89d8c-6f83-45b3-8a7e-bdb3aa7a5b15"
   },
   "outputs": [
    {
     "data": {
      "text/html": [
       "<style>\n",
       "       table#id32, #id32 > tbody > tr > th, #id32 > tbody > tr > td {\n",
       "         border: 1px solid lightgray;\n",
       "         border-collapse:collapse;\n",
       "         \n",
       "        }</style>"
      ],
      "text/plain": [
       "<IPython.core.display.HTML object>"
      ]
     },
     "metadata": {},
     "output_type": "display_data"
    },
    {
     "data": {
      "text/html": [
       "<table id=id32><tr><td id=id32-0-0></td></tr></table>"
      ],
      "text/plain": [
       "<IPython.core.display.HTML object>"
      ]
     },
     "metadata": {},
     "output_type": "display_data"
    },
    {
     "data": {
      "application/javascript": [
       "window[\"efd78398-92be-11ec-ae42-0242ac1c0002\"] = google.colab.output.getActiveOutputArea();\n",
       "//# sourceURL=js_5bcc2ab3ee"
      ],
      "text/plain": [
       "<IPython.core.display.Javascript object>"
      ]
     },
     "metadata": {},
     "output_type": "display_data"
    },
    {
     "data": {
      "application/javascript": [
       "window[\"efd800fc-92be-11ec-ae42-0242ac1c0002\"] = document.querySelector(\"#id32-0-0\");\n",
       "//# sourceURL=js_e42e973569"
      ],
      "text/plain": [
       "<IPython.core.display.Javascript object>"
      ]
     },
     "metadata": {},
     "output_type": "display_data"
    },
    {
     "data": {
      "application/javascript": [
       "window[\"efd880a4-92be-11ec-ae42-0242ac1c0002\"] = google.colab.output.setActiveOutputArea(window[\"efd800fc-92be-11ec-ae42-0242ac1c0002\"]);\n",
       "//# sourceURL=js_5256bbc46b"
      ],
      "text/plain": [
       "<IPython.core.display.Javascript object>"
      ]
     },
     "metadata": {},
     "output_type": "display_data"
    },
    {
     "data": {
      "application/javascript": [
       "window[\"efefe85c-92be-11ec-ae42-0242ac1c0002\"] = google.colab.output.setActiveOutputArea(window[\"efd78398-92be-11ec-ae42-0242ac1c0002\"]);\n",
       "//# sourceURL=js_be720df0ba"
      ],
      "text/plain": [
       "<IPython.core.display.Javascript object>"
      ]
     },
     "metadata": {},
     "output_type": "display_data"
    },
    {
     "data": {
      "application/javascript": [
       "window[\"f08a988e-92be-11ec-ae42-0242ac1c0002\"] = google.colab.output.getActiveOutputArea();\n",
       "//# sourceURL=js_64714517f1"
      ],
      "text/plain": [
       "<IPython.core.display.Javascript object>"
      ]
     },
     "metadata": {},
     "output_type": "display_data"
    },
    {
     "data": {
      "application/javascript": [
       "window[\"f08add80-92be-11ec-ae42-0242ac1c0002\"] = document.querySelector(\"#id32-0-0\");\n",
       "//# sourceURL=js_c862130b41"
      ],
      "text/plain": [
       "<IPython.core.display.Javascript object>"
      ]
     },
     "metadata": {},
     "output_type": "display_data"
    },
    {
     "data": {
      "application/javascript": [
       "window[\"f08b20ba-92be-11ec-ae42-0242ac1c0002\"] = google.colab.output.setActiveOutputArea(window[\"f08add80-92be-11ec-ae42-0242ac1c0002\"]);\n",
       "//# sourceURL=js_cb83f48aaf"
      ],
      "text/plain": [
       "<IPython.core.display.Javascript object>"
      ]
     },
     "metadata": {},
     "output_type": "display_data"
    },
    {
     "data": {
      "application/javascript": [
       "window[\"f0a3c692-92be-11ec-ae42-0242ac1c0002\"] = google.colab.output.setActiveOutputArea(window[\"f08a988e-92be-11ec-ae42-0242ac1c0002\"]);\n",
       "//# sourceURL=js_56ee6f6ba5"
      ],
      "text/plain": [
       "<IPython.core.display.Javascript object>"
      ]
     },
     "metadata": {},
     "output_type": "display_data"
    },
    {
     "data": {
      "application/javascript": [
       "window[\"f13e6f62-92be-11ec-ae42-0242ac1c0002\"] = google.colab.output.getActiveOutputArea();\n",
       "//# sourceURL=js_e1aa4147a3"
      ],
      "text/plain": [
       "<IPython.core.display.Javascript object>"
      ]
     },
     "metadata": {},
     "output_type": "display_data"
    },
    {
     "data": {
      "application/javascript": [
       "window[\"f13eb76a-92be-11ec-ae42-0242ac1c0002\"] = document.querySelector(\"#id32-0-0\");\n",
       "//# sourceURL=js_9fc58a65e2"
      ],
      "text/plain": [
       "<IPython.core.display.Javascript object>"
      ]
     },
     "metadata": {},
     "output_type": "display_data"
    },
    {
     "data": {
      "application/javascript": [
       "window[\"f13f0166-92be-11ec-ae42-0242ac1c0002\"] = google.colab.output.setActiveOutputArea(window[\"f13eb76a-92be-11ec-ae42-0242ac1c0002\"]);\n",
       "//# sourceURL=js_8d243ba5a9"
      ],
      "text/plain": [
       "<IPython.core.display.Javascript object>"
      ]
     },
     "metadata": {},
     "output_type": "display_data"
    },
    {
     "data": {
      "application/javascript": [
       "window[\"f158fde6-92be-11ec-ae42-0242ac1c0002\"] = google.colab.output.setActiveOutputArea(window[\"f13e6f62-92be-11ec-ae42-0242ac1c0002\"]);\n",
       "//# sourceURL=js_5b2e568b7b"
      ],
      "text/plain": [
       "<IPython.core.display.Javascript object>"
      ]
     },
     "metadata": {},
     "output_type": "display_data"
    },
    {
     "data": {
      "application/javascript": [
       "window[\"f1f5a100-92be-11ec-ae42-0242ac1c0002\"] = google.colab.output.getActiveOutputArea();\n",
       "//# sourceURL=js_4a222b70b2"
      ],
      "text/plain": [
       "<IPython.core.display.Javascript object>"
      ]
     },
     "metadata": {},
     "output_type": "display_data"
    },
    {
     "data": {
      "application/javascript": [
       "window[\"f1f608e8-92be-11ec-ae42-0242ac1c0002\"] = document.querySelector(\"#id32-0-0\");\n",
       "//# sourceURL=js_07eed2a03b"
      ],
      "text/plain": [
       "<IPython.core.display.Javascript object>"
      ]
     },
     "metadata": {},
     "output_type": "display_data"
    },
    {
     "data": {
      "application/javascript": [
       "window[\"f1f679f4-92be-11ec-ae42-0242ac1c0002\"] = google.colab.output.setActiveOutputArea(window[\"f1f608e8-92be-11ec-ae42-0242ac1c0002\"]);\n",
       "//# sourceURL=js_e22fa34199"
      ],
      "text/plain": [
       "<IPython.core.display.Javascript object>"
      ]
     },
     "metadata": {},
     "output_type": "display_data"
    },
    {
     "data": {
      "application/javascript": [
       "window[\"f20f3ebc-92be-11ec-ae42-0242ac1c0002\"] = google.colab.output.setActiveOutputArea(window[\"f1f5a100-92be-11ec-ae42-0242ac1c0002\"]);\n",
       "//# sourceURL=js_121b6cc56c"
      ],
      "text/plain": [
       "<IPython.core.display.Javascript object>"
      ]
     },
     "metadata": {},
     "output_type": "display_data"
    },
    {
     "data": {
      "application/javascript": [
       "window[\"f2a9b6a4-92be-11ec-ae42-0242ac1c0002\"] = google.colab.output.getActiveOutputArea();\n",
       "//# sourceURL=js_daebc2cb51"
      ],
      "text/plain": [
       "<IPython.core.display.Javascript object>"
      ]
     },
     "metadata": {},
     "output_type": "display_data"
    },
    {
     "data": {
      "application/javascript": [
       "window[\"f2aa0190-92be-11ec-ae42-0242ac1c0002\"] = document.querySelector(\"#id32-0-0\");\n",
       "//# sourceURL=js_ffb35e9e48"
      ],
      "text/plain": [
       "<IPython.core.display.Javascript object>"
      ]
     },
     "metadata": {},
     "output_type": "display_data"
    },
    {
     "data": {
      "application/javascript": [
       "window[\"f2aa46dc-92be-11ec-ae42-0242ac1c0002\"] = google.colab.output.setActiveOutputArea(window[\"f2aa0190-92be-11ec-ae42-0242ac1c0002\"]);\n",
       "//# sourceURL=js_0af6a7362d"
      ],
      "text/plain": [
       "<IPython.core.display.Javascript object>"
      ]
     },
     "metadata": {},
     "output_type": "display_data"
    },
    {
     "data": {
      "image/png": "[encoded data removed]",
      "text/plain": [
       "<Figure size 432x288 with 1 Axes>"
      ]
     },
     "metadata": {
      "needs_background": "light"
     },
     "output_type": "display_data"
    },
    {
     "data": {
      "application/javascript": [
       "window[\"f2c4b2c4-92be-11ec-ae42-0242ac1c0002\"] = google.colab.output.setActiveOutputArea(window[\"f2a9b6a4-92be-11ec-ae42-0242ac1c0002\"]);\n",
       "//# sourceURL=js_4da9d93904"
      ],
      "text/plain": [
       "<IPython.core.display.Javascript object>"
      ]
     },
     "metadata": {},
     "output_type": "display_data"
    }
   ],
   "source": [
    "from google.colab import widgets\n",
    "import time\n",
    "\n",
    "# plt.figimage\n",
    "output_grid = widgets.Grid(1, 1)\n",
    "for _ in range(5):\n",
    "  grid = np.zeros((3, 3))\n",
    "  grid[np.random.randint(3), np.random.randint(3)] = 1\n",
    "  with output_grid.output_to(0, 0):\n",
    "    output_grid.clear_cell()\n",
    "    plt.imshow(grid)\n",
    "  time.sleep(1)\n",
    "  # with output_grid.output_to(0, 0):\n",
    "  #   output_grid.clear_cell()\n",
    "  # plt.plot(grid)\n",
    "  # plt.imshow(grid)\n",
    "  # # plt.show()\n",
    "  # time.sleep(1)"
   ]
  },
  {
   "cell_type": "code",
   "execution_count": 168,
   "metadata": {
    "executionInfo": {
     "elapsed": 314,
     "status": "ok",
     "timestamp": 1645419063170,
     "user": {
      "displayName": "Sarveshwar Singhal",
      "photoUrl": "https://lh3.googleusercontent.com/a/default-user=s64",
      "userId": "13192401686961074385"
     },
     "user_tz": 300
    },
    "id": "5Y1Bo_Fsnk8t"
   },
   "outputs": [],
   "source": [
    "#fetching the rewards excel"
   ]
  },
  {
   "cell_type": "code",
   "execution_count": 104,
   "metadata": {
    "executionInfo": {
     "elapsed": 313,
     "status": "ok",
     "timestamp": 1645413874032,
     "user": {
      "displayName": "Sarveshwar Singhal",
      "photoUrl": "https://lh3.googleusercontent.com/a/default-user=s64",
      "userId": "13192401686961074385"
     },
     "user_tz": 300
    },
    "id": "ISNljVS-TMS3"
   },
   "outputs": [],
   "source": [
    "data = pd.read_excel('env.xlsx')"
   ]
  },
  {
   "cell_type": "code",
   "execution_count": 105,
   "metadata": {
    "colab": {
     "base_uri": "https://localhost:8080/",
     "height": 551
    },
    "executionInfo": {
     "elapsed": 7,
     "status": "ok",
     "timestamp": 1645413875025,
     "user": {
      "displayName": "Sarveshwar Singhal",
      "photoUrl": "https://lh3.googleusercontent.com/a/default-user=s64",
      "userId": "13192401686961074385"
     },
     "user_tz": 300
    },
    "id": "R7xLGBEBTl0-",
    "outputId": "ab06cd6d-a027-462b-c72b-1cb6bd77cd15"
   },
   "outputs": [
    {
     "data": {
      "text/html": [
       "\n",
       "  <div id=\"df-c0905fde-24bc-4626-a61b-90387f29e878\">\n",
       "    <div class=\"colab-df-container\">\n",
       "      <div>\n",
       "<style scoped>\n",
       "    .dataframe tbody tr th:only-of-type {\n",
       "        vertical-align: middle;\n",
       "    }\n",
       "\n",
       "    .dataframe tbody tr th {\n",
       "        vertical-align: top;\n",
       "    }\n",
       "\n",
       "    .dataframe thead th {\n",
       "        text-align: right;\n",
       "    }\n",
       "</style>\n",
       "<table border=\"1\" class=\"dataframe\">\n",
       "  <thead>\n",
       "    <tr style=\"text-align: right;\">\n",
       "      <th></th>\n",
       "      <th>pos</th>\n",
       "      <th>reward</th>\n",
       "    </tr>\n",
       "  </thead>\n",
       "  <tbody>\n",
       "    <tr>\n",
       "      <th>0</th>\n",
       "      <td>(0,0)</td>\n",
       "      <td>0.0</td>\n",
       "    </tr>\n",
       "    <tr>\n",
       "      <th>1</th>\n",
       "      <td>(1,0)</td>\n",
       "      <td>0.5</td>\n",
       "    </tr>\n",
       "    <tr>\n",
       "      <th>2</th>\n",
       "      <td>(2,0)</td>\n",
       "      <td>1.0</td>\n",
       "    </tr>\n",
       "    <tr>\n",
       "      <th>3</th>\n",
       "      <td>(3,0)</td>\n",
       "      <td>1.5</td>\n",
       "    </tr>\n",
       "    <tr>\n",
       "      <th>4</th>\n",
       "      <td>(0,1)</td>\n",
       "      <td>0.5</td>\n",
       "    </tr>\n",
       "    <tr>\n",
       "      <th>5</th>\n",
       "      <td>(1,1)</td>\n",
       "      <td>1.0</td>\n",
       "    </tr>\n",
       "    <tr>\n",
       "      <th>6</th>\n",
       "      <td>(2,1)</td>\n",
       "      <td>1.5</td>\n",
       "    </tr>\n",
       "    <tr>\n",
       "      <th>7</th>\n",
       "      <td>(3,1)</td>\n",
       "      <td>2.0</td>\n",
       "    </tr>\n",
       "    <tr>\n",
       "      <th>8</th>\n",
       "      <td>(0,2)</td>\n",
       "      <td>1.0</td>\n",
       "    </tr>\n",
       "    <tr>\n",
       "      <th>9</th>\n",
       "      <td>(1,2)</td>\n",
       "      <td>1.5</td>\n",
       "    </tr>\n",
       "    <tr>\n",
       "      <th>10</th>\n",
       "      <td>(2,2)</td>\n",
       "      <td>2.0</td>\n",
       "    </tr>\n",
       "    <tr>\n",
       "      <th>11</th>\n",
       "      <td>(3,2)</td>\n",
       "      <td>2.5</td>\n",
       "    </tr>\n",
       "    <tr>\n",
       "      <th>12</th>\n",
       "      <td>(0,3)</td>\n",
       "      <td>1.5</td>\n",
       "    </tr>\n",
       "    <tr>\n",
       "      <th>13</th>\n",
       "      <td>(1,3)</td>\n",
       "      <td>2.0</td>\n",
       "    </tr>\n",
       "    <tr>\n",
       "      <th>14</th>\n",
       "      <td>(2,3)</td>\n",
       "      <td>2.5</td>\n",
       "    </tr>\n",
       "    <tr>\n",
       "      <th>15</th>\n",
       "      <td>(3,3)</td>\n",
       "      <td>3.0</td>\n",
       "    </tr>\n",
       "  </tbody>\n",
       "</table>\n",
       "</div>\n",
       "      <button class=\"colab-df-convert\" onclick=\"convertToInteractive('df-c0905fde-24bc-4626-a61b-90387f29e878')\"\n",
       "              title=\"Convert this dataframe to an interactive table.\"\n",
       "              style=\"display:none;\">\n",
       "        \n",
       "  <svg xmlns=\"http://www.w3.org/2000/svg\" height=\"24px\"viewBox=\"0 0 24 24\"\n",
       "       width=\"24px\">\n",
       "    <path d=\"M0 0h24v24H0V0z\" fill=\"none\"/>\n",
       "    <path d=\"M18.56 5.44l.94 2.06.94-2.06 2.06-.94-2.06-.94-.94-2.06-.94 2.06-2.06.94zm-11 1L8.5 8.5l.94-2.06 2.06-.94-2.06-.94L8.5 2.5l-.94 2.06-2.06.94zm10 10l.94 2.06.94-2.06 2.06-.94-2.06-.94-.94-2.06-.94 2.06-2.06.94z\"/><path d=\"M17.41 7.96l-1.37-1.37c-.4-.4-.92-.59-1.43-.59-.52 0-1.04.2-1.43.59L10.3 9.45l-7.72 7.72c-.78.78-.78 2.05 0 2.83L4 21.41c.39.39.9.59 1.41.59.51 0 1.02-.2 1.41-.59l7.78-7.78 2.81-2.81c.8-.78.8-2.07 0-2.86zM5.41 20L4 18.59l7.72-7.72 1.47 1.35L5.41 20z\"/>\n",
       "  </svg>\n",
       "      </button>\n",
       "      \n",
       "  <style>\n",
       "    .colab-df-container {\n",
       "      display:flex;\n",
       "      flex-wrap:wrap;\n",
       "      gap: 12px;\n",
       "    }\n",
       "\n",
       "    .colab-df-convert {\n",
       "      background-color: #E8F0FE;\n",
       "      border: none;\n",
       "      border-radius: 50%;\n",
       "      cursor: pointer;\n",
       "      display: none;\n",
       "      fill: #1967D2;\n",
       "      height: 32px;\n",
       "      padding: 0 0 0 0;\n",
       "      width: 32px;\n",
       "    }\n",
       "\n",
       "    .colab-df-convert:hover {\n",
       "      background-color: #E2EBFA;\n",
       "      box-shadow: 0px 1px 2px rgba(60, 64, 67, 0.3), 0px 1px 3px 1px rgba(60, 64, 67, 0.15);\n",
       "      fill: #174EA6;\n",
       "    }\n",
       "\n",
       "    [theme=dark] .colab-df-convert {\n",
       "      background-color: #3B4455;\n",
       "      fill: #D2E3FC;\n",
       "    }\n",
       "\n",
       "    [theme=dark] .colab-df-convert:hover {\n",
       "      background-color: #434B5C;\n",
       "      box-shadow: 0px 1px 3px 1px rgba(0, 0, 0, 0.15);\n",
       "      filter: drop-shadow(0px 1px 2px rgba(0, 0, 0, 0.3));\n",
       "      fill: #FFFFFF;\n",
       "    }\n",
       "  </style>\n",
       "\n",
       "      <script>\n",
       "        const buttonEl =\n",
       "          document.querySelector('#df-c0905fde-24bc-4626-a61b-90387f29e878 button.colab-df-convert');\n",
       "        buttonEl.style.display =\n",
       "          google.colab.kernel.accessAllowed ? 'block' : 'none';\n",
       "\n",
       "        async function convertToInteractive(key) {\n",
       "          const element = document.querySelector('#df-c0905fde-24bc-4626-a61b-90387f29e878');\n",
       "          const dataTable =\n",
       "            await google.colab.kernel.invokeFunction('convertToInteractive',\n",
       "                                                     [key], {});\n",
       "          if (!dataTable) return;\n",
       "\n",
       "          const docLinkHtml = 'Like what you see? Visit the ' +\n",
       "            '<a target=\"_blank\" href=https://colab.research.google.com/notebooks/data_table.ipynb>data table notebook</a>'\n",
       "            + ' to learn more about interactive tables.';\n",
       "          element.innerHTML = '';\n",
       "          dataTable['output_type'] = 'display_data';\n",
       "          await google.colab.output.renderOutput(dataTable, element);\n",
       "          const docLink = document.createElement('div');\n",
       "          docLink.innerHTML = docLinkHtml;\n",
       "          element.appendChild(docLink);\n",
       "        }\n",
       "      </script>\n",
       "    </div>\n",
       "  </div>\n",
       "  "
      ],
      "text/plain": [
       "      pos  reward\n",
       "0   (0,0)     0.0\n",
       "1   (1,0)     0.5\n",
       "2   (2,0)     1.0\n",
       "3   (3,0)     1.5\n",
       "4   (0,1)     0.5\n",
       "5   (1,1)     1.0\n",
       "6   (2,1)     1.5\n",
       "7   (3,1)     2.0\n",
       "8   (0,2)     1.0\n",
       "9   (1,2)     1.5\n",
       "10  (2,2)     2.0\n",
       "11  (3,2)     2.5\n",
       "12  (0,3)     1.5\n",
       "13  (1,3)     2.0\n",
       "14  (2,3)     2.5\n",
       "15  (3,3)     3.0"
      ]
     },
     "execution_count": 105,
     "metadata": {},
     "output_type": "execute_result"
    }
   ],
   "source": [
    "data"
   ]
  },
  {
   "cell_type": "code",
   "execution_count": 134,
   "metadata": {
    "executionInfo": {
     "elapsed": 266,
     "status": "ok",
     "timestamp": 1645414645994,
     "user": {
      "displayName": "Sarveshwar Singhal",
      "photoUrl": "https://lh3.googleusercontent.com/a/default-user=s64",
      "userId": "13192401686961074385"
     },
     "user_tz": 300
    },
    "id": "gbTpUWteT6Ko"
   },
   "outputs": [],
   "source": [
    "reward_dict = {}\n",
    "i=0\n",
    "for j in range(4):\n",
    "  for k in range(4):\n",
    "    reward_dict[(k,j)] = data['reward'][i]\n",
    "    i+=1"
   ]
  },
  {
   "cell_type": "code",
   "execution_count": 135,
   "metadata": {
    "colab": {
     "base_uri": "https://localhost:8080/"
    },
    "executionInfo": {
     "elapsed": 6,
     "status": "ok",
     "timestamp": 1645414647209,
     "user": {
      "displayName": "Sarveshwar Singhal",
      "photoUrl": "https://lh3.googleusercontent.com/a/default-user=s64",
      "userId": "13192401686961074385"
     },
     "user_tz": 300
    },
    "id": "qTN5XoIAUQRD",
    "outputId": "4341dd43-0e07-46bc-c500-421c04fc803d"
   },
   "outputs": [
    {
     "data": {
      "text/plain": [
       "{(0, 0): 0.0,\n",
       " (0, 1): 0.5,\n",
       " (0, 2): 1.0,\n",
       " (0, 3): 1.5,\n",
       " (1, 0): 0.5,\n",
       " (1, 1): 1.0,\n",
       " (1, 2): 1.5,\n",
       " (1, 3): 2.0,\n",
       " (2, 0): 1.0,\n",
       " (2, 1): 1.5,\n",
       " (2, 2): 2.0,\n",
       " (2, 3): 2.5,\n",
       " (3, 0): 1.5,\n",
       " (3, 1): 2.0,\n",
       " (3, 2): 2.5,\n",
       " (3, 3): 3.0}"
      ]
     },
     "execution_count": 135,
     "metadata": {},
     "output_type": "execute_result"
    }
   ],
   "source": [
    "reward_dict"
   ]
  },
  {
   "cell_type": "code",
   "execution_count": 127,
   "metadata": {
    "executionInfo": {
     "elapsed": 308,
     "status": "ok",
     "timestamp": 1645414526845,
     "user": {
      "displayName": "Sarveshwar Singhal",
      "photoUrl": "https://lh3.googleusercontent.com/a/default-user=s64",
      "userId": "13192401686961074385"
     },
     "user_tz": 300
    },
    "id": "4bMT3-bqU4vc"
   },
   "outputs": [],
   "source": [
    "# type(reward_dict.keys()[0])\n",
    "# (reward_dict.keys())[0]\n",
    "# for key in reward_dict.keys():\n",
    "  # print(type(key))"
   ]
  },
  {
   "cell_type": "code",
   "execution_count": 161,
   "metadata": {
    "executionInfo": {
     "elapsed": 506,
     "status": "ok",
     "timestamp": 1645417400651,
     "user": {
      "displayName": "Sarveshwar Singhal",
      "photoUrl": "https://lh3.googleusercontent.com/a/default-user=s64",
      "userId": "13192401686961074385"
     },
     "user_tz": 300
    },
    "id": "UM3-Q6zv68Ib"
   },
   "outputs": [],
   "source": [
    "class GridEnvironment(gym.Env):\n",
    "  metadata = { 'render.modes': []}\n",
    "\n",
    "  #mode = 0 (deterministic); mode=1 (stochastic)\n",
    "  def __init__(self, mode=0):\n",
    "    self.observation_space = spaces.Discrete(16)\n",
    "    self.action_space = spaces.Discrete(4)\n",
    "    self.max_timesteps = 16\n",
    "    # self.reward = np.arange(0.0,0.5,0.1)\n",
    "    self.reward_li = reward_dict\n",
    "    self.mode = mode\n",
    "    # self.timestep = 0\n",
    "    # self.agent_pos = [0, 0]\n",
    "    # self.goal_pos = [3, 3]\n",
    "    # self.state = np.zeros((4,4))\n",
    "    # self.state[tuple(self.agent_pos)] = 1\n",
    "    # self.state[tuple(self.goal_pos)] = 0.5\n",
    "\n",
    "  def reset(self):\n",
    "    self.timestep = 0\n",
    "    self.agent_pos = [0, 0]\n",
    "    self.goal_pos = [3, 3]\n",
    "    self.state = np.zeros((4, 4))\n",
    "    self.state[tuple(self.agent_pos)] = 1\n",
    "    self.state[tuple(self.goal_pos)] = 0.5\n",
    "    observation = self.state.flatten()\n",
    "    return observation\n",
    "\n",
    "  def step(self, action):\n",
    "    prob = np.random.random()\n",
    "    # prob = 0.05\n",
    "    if self.mode==1 and (self.agent_pos[0] == self.agent_pos[1]) and prob<0.10:\n",
    "      pass\n",
    "    else:\n",
    "      if action == 0:\n",
    "        self.agent_pos[0] += 1\n",
    "      if action == 1:\n",
    "        self.agent_pos[0] -= 1\n",
    "      if action == 2:\n",
    "        self.agent_pos[1] += 1\n",
    "      if action == 3:\n",
    "        self.agent_pos[1] -= 1        \n",
    "    \n",
    "    self.agent_pos = np.clip(self.agent_pos, 0, 3)\n",
    "    # self.agent_pos = np.clip(self.agent_pos, 0, 2)\n",
    "    self.state = np.zeros((4,4))\n",
    "    self.state[tuple(self.agent_pos)] = 1\n",
    "    self.state[tuple(self.goal_pos)] = 0.5\n",
    "    observation = self.state.flatten()\n",
    "\n",
    "    # reward = np.random.choice(self.reward)\n",
    "    # if (self.agent_pos == self.goal_pos).all():\n",
    "    #   reward = 1\n",
    "    reward = self.reward_li[tuple(self.agent_pos)]\n",
    "    # print(reward)\n",
    "\n",
    "    self.timestep += 1\n",
    "    done = True if self.timestep >= self.max_timesteps or (self.agent_pos == self.goal_pos).all() else False\n",
    "    info = {}\n",
    "\n",
    "    return observation, reward, done, info\n",
    "\n",
    "  def render(self):\n",
    "    plt.imshow(self.state)"
   ]
  },
  {
   "cell_type": "code",
   "execution_count": 62,
   "metadata": {
    "colab": {
     "base_uri": "https://localhost:8080/",
     "height": 269
    },
    "executionInfo": {
     "elapsed": 312,
     "status": "ok",
     "timestamp": 1645411413012,
     "user": {
      "displayName": "Sarveshwar Singhal",
      "photoUrl": "https://lh3.googleusercontent.com/a/default-user=s64",
      "userId": "13192401686961074385"
     },
     "user_tz": 300
    },
    "id": "8Rk7dsV99XZ2",
    "outputId": "19cd0d31-6c43-4743-f12e-50c1bb47b781"
   },
   "outputs": [
    {
     "data": {
      "image/png": "[encoded data removed]",
      "text/plain": [
       "<Figure size 432x288 with 1 Axes>"
      ]
     },
     "metadata": {
      "needs_background": "light"
     },
     "output_type": "display_data"
    }
   ],
   "source": [
    "#dummy\n",
    "env = GridEnvironment()\n",
    "obs = env.reset()\n",
    "env.render()"
   ]
  },
  {
   "cell_type": "code",
   "execution_count": 63,
   "metadata": {
    "colab": {
     "base_uri": "https://localhost:8080/",
     "height": 287
    },
    "executionInfo": {
     "elapsed": 6,
     "status": "ok",
     "timestamp": 1645411414675,
     "user": {
      "displayName": "Sarveshwar Singhal",
      "photoUrl": "https://lh3.googleusercontent.com/a/default-user=s64",
      "userId": "13192401686961074385"
     },
     "user_tz": 300
    },
    "id": "iYkVISkn9dJp",
    "outputId": "189f3b5d-6a75-4627-fdbd-68b398f08a4a"
   },
   "outputs": [
    {
     "name": "stdout",
     "output_type": "stream",
     "text": [
      "Reward:  0\n"
     ]
    },
    {
     "data": {
      "image/png": "[encoded data removed]",
      "text/plain": [
       "<Figure size 432x288 with 1 Axes>"
      ]
     },
     "metadata": {
      "needs_background": "light"
     },
     "output_type": "display_data"
    }
   ],
   "source": [
    "#test\n",
    "action = 1\n",
    "observation, reward, done, _ = env.step(action)\n",
    "env.render()\n",
    "print('Reward: ', reward)"
   ]
  },
  {
   "cell_type": "code",
   "execution_count": 166,
   "metadata": {
    "executionInfo": {
     "elapsed": 315,
     "status": "ok",
     "timestamp": 1645417523517,
     "user": {
      "displayName": "Sarveshwar Singhal",
      "photoUrl": "https://lh3.googleusercontent.com/a/default-user=s64",
      "userId": "13192401686961074385"
     },
     "user_tz": 300
    },
    "id": "hTEIeTGGHK-_"
   },
   "outputs": [],
   "source": [
    "env = GridEnvironment(mode=0)\n",
    "obs = env.reset()"
   ]
  },
  {
   "cell_type": "code",
   "execution_count": 167,
   "metadata": {
    "colab": {
     "base_uri": "https://localhost:8080/",
     "height": 309
    },
    "executionInfo": {
     "elapsed": 8256,
     "status": "ok",
     "timestamp": 1645417533220,
     "user": {
      "displayName": "Sarveshwar Singhal",
      "photoUrl": "https://lh3.googleusercontent.com/a/default-user=s64",
      "userId": "13192401686961074385"
     },
     "user_tz": 300
    },
    "id": "zXLT91H39pRX",
    "outputId": "e5f2cd25-df4a-4bc3-d7f2-3eafecd8b536"
   },
   "outputs": [
    {
     "data": {
      "text/html": [
       "<style>\n",
       "       table#id138, #id138 > tbody > tr > th, #id138 > tbody > tr > td {\n",
       "         border: 1px solid lightgray;\n",
       "         border-collapse:collapse;\n",
       "         \n",
       "        }</style>"
      ],
      "text/plain": [
       "<IPython.core.display.HTML object>"
      ]
     },
     "metadata": {},
     "output_type": "display_data"
    },
    {
     "data": {
      "text/html": [
       "<table id=id138><tr><td id=id138-0-0></td></tr></table>"
      ],
      "text/plain": [
       "<IPython.core.display.HTML object>"
      ]
     },
     "metadata": {},
     "output_type": "display_data"
    },
    {
     "data": {
      "application/javascript": [
       "window[\"4a0b5aec-92ce-11ec-ae42-0242ac1c0002\"] = google.colab.output.getActiveOutputArea();\n",
       "//# sourceURL=js_582bdd8afa"
      ],
      "text/plain": [
       "<IPython.core.display.Javascript object>"
      ]
     },
     "metadata": {},
     "output_type": "display_data"
    },
    {
     "data": {
      "application/javascript": [
       "window[\"4a0be9f8-92ce-11ec-ae42-0242ac1c0002\"] = document.querySelector(\"#id138-0-0\");\n",
       "//# sourceURL=js_c73ed194d1"
      ],
      "text/plain": [
       "<IPython.core.display.Javascript object>"
      ]
     },
     "metadata": {},
     "output_type": "display_data"
    },
    {
     "data": {
      "application/javascript": [
       "window[\"4a0c670c-92ce-11ec-ae42-0242ac1c0002\"] = google.colab.output.setActiveOutputArea(window[\"4a0be9f8-92ce-11ec-ae42-0242ac1c0002\"]);\n",
       "//# sourceURL=js_0f8500c3f1"
      ],
      "text/plain": [
       "<IPython.core.display.Javascript object>"
      ]
     },
     "metadata": {},
     "output_type": "display_data"
    },
    {
     "data": {
      "application/javascript": [
       "window[\"4a2659b4-92ce-11ec-ae42-0242ac1c0002\"] = google.colab.output.setActiveOutputArea(window[\"4a0b5aec-92ce-11ec-ae42-0242ac1c0002\"]);\n",
       "//# sourceURL=js_be211ddbf2"
      ],
      "text/plain": [
       "<IPython.core.display.Javascript object>"
      ]
     },
     "metadata": {},
     "output_type": "display_data"
    },
    {
     "data": {
      "application/javascript": [
       "window[\"4a656096-92ce-11ec-ae42-0242ac1c0002\"] = google.colab.output.getActiveOutputArea();\n",
       "//# sourceURL=js_ef1de0cc22"
      ],
      "text/plain": [
       "<IPython.core.display.Javascript object>"
      ]
     },
     "metadata": {},
     "output_type": "display_data"
    },
    {
     "data": {
      "application/javascript": [
       "window[\"4a65d51c-92ce-11ec-ae42-0242ac1c0002\"] = document.querySelector(\"#id138-0-0\");\n",
       "//# sourceURL=js_559c752e1c"
      ],
      "text/plain": [
       "<IPython.core.display.Javascript object>"
      ]
     },
     "metadata": {},
     "output_type": "display_data"
    },
    {
     "data": {
      "application/javascript": [
       "window[\"4a6638d6-92ce-11ec-ae42-0242ac1c0002\"] = google.colab.output.setActiveOutputArea(window[\"4a65d51c-92ce-11ec-ae42-0242ac1c0002\"]);\n",
       "//# sourceURL=js_bfe371f4e3"
      ],
      "text/plain": [
       "<IPython.core.display.Javascript object>"
      ]
     },
     "metadata": {},
     "output_type": "display_data"
    },
    {
     "data": {
      "application/javascript": [
       "window[\"4a7eb758-92ce-11ec-ae42-0242ac1c0002\"] = google.colab.output.setActiveOutputArea(window[\"4a656096-92ce-11ec-ae42-0242ac1c0002\"]);\n",
       "//# sourceURL=js_a81609eafe"
      ],
      "text/plain": [
       "<IPython.core.display.Javascript object>"
      ]
     },
     "metadata": {},
     "output_type": "display_data"
    },
    {
     "data": {
      "application/javascript": [
       "window[\"4abdefae-92ce-11ec-ae42-0242ac1c0002\"] = google.colab.output.getActiveOutputArea();\n",
       "//# sourceURL=js_7d4df61fda"
      ],
      "text/plain": [
       "<IPython.core.display.Javascript object>"
      ]
     },
     "metadata": {},
     "output_type": "display_data"
    },
    {
     "data": {
      "application/javascript": [
       "window[\"4abe5a70-92ce-11ec-ae42-0242ac1c0002\"] = document.querySelector(\"#id138-0-0\");\n",
       "//# sourceURL=js_ff9f0f7313"
      ],
      "text/plain": [
       "<IPython.core.display.Javascript object>"
      ]
     },
     "metadata": {},
     "output_type": "display_data"
    },
    {
     "data": {
      "application/javascript": [
       "window[\"4abecda2-92ce-11ec-ae42-0242ac1c0002\"] = google.colab.output.setActiveOutputArea(window[\"4abe5a70-92ce-11ec-ae42-0242ac1c0002\"]);\n",
       "//# sourceURL=js_7a5dd2aa19"
      ],
      "text/plain": [
       "<IPython.core.display.Javascript object>"
      ]
     },
     "metadata": {},
     "output_type": "display_data"
    },
    {
     "data": {
      "application/javascript": [
       "window[\"4ad99d4e-92ce-11ec-ae42-0242ac1c0002\"] = google.colab.output.setActiveOutputArea(window[\"4abdefae-92ce-11ec-ae42-0242ac1c0002\"]);\n",
       "//# sourceURL=js_5f3b7ed266"
      ],
      "text/plain": [
       "<IPython.core.display.Javascript object>"
      ]
     },
     "metadata": {},
     "output_type": "display_data"
    },
    {
     "data": {
      "application/javascript": [
       "window[\"4b18c9d8-92ce-11ec-ae42-0242ac1c0002\"] = google.colab.output.getActiveOutputArea();\n",
       "//# sourceURL=js_20fe587ea2"
      ],
      "text/plain": [
       "<IPython.core.display.Javascript object>"
      ]
     },
     "metadata": {},
     "output_type": "display_data"
    },
    {
     "data": {
      "application/javascript": [
       "window[\"4b190cea-92ce-11ec-ae42-0242ac1c0002\"] = document.querySelector(\"#id138-0-0\");\n",
       "//# sourceURL=js_f3b1745695"
      ],
      "text/plain": [
       "<IPython.core.display.Javascript object>"
      ]
     },
     "metadata": {},
     "output_type": "display_data"
    },
    {
     "data": {
      "application/javascript": [
       "window[\"4b194a34-92ce-11ec-ae42-0242ac1c0002\"] = google.colab.output.setActiveOutputArea(window[\"4b190cea-92ce-11ec-ae42-0242ac1c0002\"]);\n",
       "//# sourceURL=js_b62acb49c2"
      ],
      "text/plain": [
       "<IPython.core.display.Javascript object>"
      ]
     },
     "metadata": {},
     "output_type": "display_data"
    },
    {
     "data": {
      "application/javascript": [
       "window[\"4b3417c4-92ce-11ec-ae42-0242ac1c0002\"] = google.colab.output.setActiveOutputArea(window[\"4b18c9d8-92ce-11ec-ae42-0242ac1c0002\"]);\n",
       "//# sourceURL=js_bf756fde16"
      ],
      "text/plain": [
       "<IPython.core.display.Javascript object>"
      ]
     },
     "metadata": {},
     "output_type": "display_data"
    },
    {
     "data": {
      "application/javascript": [
       "window[\"4b73359e-92ce-11ec-ae42-0242ac1c0002\"] = google.colab.output.getActiveOutputArea();\n",
       "//# sourceURL=js_19ef6031c4"
      ],
      "text/plain": [
       "<IPython.core.display.Javascript object>"
      ]
     },
     "metadata": {},
     "output_type": "display_data"
    },
    {
     "data": {
      "application/javascript": [
       "window[\"4b7376bc-92ce-11ec-ae42-0242ac1c0002\"] = document.querySelector(\"#id138-0-0\");\n",
       "//# sourceURL=js_df97081aec"
      ],
      "text/plain": [
       "<IPython.core.display.Javascript object>"
      ]
     },
     "metadata": {},
     "output_type": "display_data"
    },
    {
     "data": {
      "application/javascript": [
       "window[\"4b73b2f8-92ce-11ec-ae42-0242ac1c0002\"] = google.colab.output.setActiveOutputArea(window[\"4b7376bc-92ce-11ec-ae42-0242ac1c0002\"]);\n",
       "//# sourceURL=js_b375bd81f6"
      ],
      "text/plain": [
       "<IPython.core.display.Javascript object>"
      ]
     },
     "metadata": {},
     "output_type": "display_data"
    },
    {
     "data": {
      "application/javascript": [
       "window[\"4b8ec912-92ce-11ec-ae42-0242ac1c0002\"] = google.colab.output.setActiveOutputArea(window[\"4b73359e-92ce-11ec-ae42-0242ac1c0002\"]);\n",
       "//# sourceURL=js_47bb4b5c33"
      ],
      "text/plain": [
       "<IPython.core.display.Javascript object>"
      ]
     },
     "metadata": {},
     "output_type": "display_data"
    },
    {
     "data": {
      "application/javascript": [
       "window[\"4bcfa2e8-92ce-11ec-ae42-0242ac1c0002\"] = google.colab.output.getActiveOutputArea();\n",
       "//# sourceURL=js_6308e29579"
      ],
      "text/plain": [
       "<IPython.core.display.Javascript object>"
      ]
     },
     "metadata": {},
     "output_type": "display_data"
    },
    {
     "data": {
      "application/javascript": [
       "window[\"4bd0204c-92ce-11ec-ae42-0242ac1c0002\"] = document.querySelector(\"#id138-0-0\");\n",
       "//# sourceURL=js_4ba498bb6f"
      ],
      "text/plain": [
       "<IPython.core.display.Javascript object>"
      ]
     },
     "metadata": {},
     "output_type": "display_data"
    },
    {
     "data": {
      "application/javascript": [
       "window[\"4bd089e2-92ce-11ec-ae42-0242ac1c0002\"] = google.colab.output.setActiveOutputArea(window[\"4bd0204c-92ce-11ec-ae42-0242ac1c0002\"]);\n",
       "//# sourceURL=js_fd164156ff"
      ],
      "text/plain": [
       "<IPython.core.display.Javascript object>"
      ]
     },
     "metadata": {},
     "output_type": "display_data"
    },
    {
     "data": {
      "application/javascript": [
       "window[\"4be97a10-92ce-11ec-ae42-0242ac1c0002\"] = google.colab.output.setActiveOutputArea(window[\"4bcfa2e8-92ce-11ec-ae42-0242ac1c0002\"]);\n",
       "//# sourceURL=js_197c7d51a3"
      ],
      "text/plain": [
       "<IPython.core.display.Javascript object>"
      ]
     },
     "metadata": {},
     "output_type": "display_data"
    },
    {
     "data": {
      "application/javascript": [
       "window[\"4c2927f0-92ce-11ec-ae42-0242ac1c0002\"] = google.colab.output.getActiveOutputArea();\n",
       "//# sourceURL=js_adfcf8e0e0"
      ],
      "text/plain": [
       "<IPython.core.display.Javascript object>"
      ]
     },
     "metadata": {},
     "output_type": "display_data"
    },
    {
     "data": {
      "application/javascript": [
       "window[\"4c29bbfc-92ce-11ec-ae42-0242ac1c0002\"] = document.querySelector(\"#id138-0-0\");\n",
       "//# sourceURL=js_ade48686ac"
      ],
      "text/plain": [
       "<IPython.core.display.Javascript object>"
      ]
     },
     "metadata": {},
     "output_type": "display_data"
    },
    {
     "data": {
      "application/javascript": [
       "window[\"4c2a47de-92ce-11ec-ae42-0242ac1c0002\"] = google.colab.output.setActiveOutputArea(window[\"4c29bbfc-92ce-11ec-ae42-0242ac1c0002\"]);\n",
       "//# sourceURL=js_4746bd4f4c"
      ],
      "text/plain": [
       "<IPython.core.display.Javascript object>"
      ]
     },
     "metadata": {},
     "output_type": "display_data"
    },
    {
     "data": {
      "application/javascript": [
       "window[\"4c435cec-92ce-11ec-ae42-0242ac1c0002\"] = google.colab.output.setActiveOutputArea(window[\"4c2927f0-92ce-11ec-ae42-0242ac1c0002\"]);\n",
       "//# sourceURL=js_e212661947"
      ],
      "text/plain": [
       "<IPython.core.display.Javascript object>"
      ]
     },
     "metadata": {},
     "output_type": "display_data"
    },
    {
     "data": {
      "application/javascript": [
       "window[\"4c843be0-92ce-11ec-ae42-0242ac1c0002\"] = google.colab.output.getActiveOutputArea();\n",
       "//# sourceURL=js_453397f61c"
      ],
      "text/plain": [
       "<IPython.core.display.Javascript object>"
      ]
     },
     "metadata": {},
     "output_type": "display_data"
    },
    {
     "data": {
      "application/javascript": [
       "window[\"4c8488d4-92ce-11ec-ae42-0242ac1c0002\"] = document.querySelector(\"#id138-0-0\");\n",
       "//# sourceURL=js_87049404da"
      ],
      "text/plain": [
       "<IPython.core.display.Javascript object>"
      ]
     },
     "metadata": {},
     "output_type": "display_data"
    },
    {
     "data": {
      "application/javascript": [
       "window[\"4c84d35c-92ce-11ec-ae42-0242ac1c0002\"] = google.colab.output.setActiveOutputArea(window[\"4c8488d4-92ce-11ec-ae42-0242ac1c0002\"]);\n",
       "//# sourceURL=js_9c087a888d"
      ],
      "text/plain": [
       "<IPython.core.display.Javascript object>"
      ]
     },
     "metadata": {},
     "output_type": "display_data"
    },
    {
     "data": {
      "application/javascript": [
       "window[\"4ca19f28-92ce-11ec-ae42-0242ac1c0002\"] = google.colab.output.setActiveOutputArea(window[\"4c843be0-92ce-11ec-ae42-0242ac1c0002\"]);\n",
       "//# sourceURL=js_224c12a921"
      ],
      "text/plain": [
       "<IPython.core.display.Javascript object>"
      ]
     },
     "metadata": {},
     "output_type": "display_data"
    },
    {
     "data": {
      "application/javascript": [
       "window[\"4ce28916-92ce-11ec-ae42-0242ac1c0002\"] = google.colab.output.getActiveOutputArea();\n",
       "//# sourceURL=js_77dc41f7e4"
      ],
      "text/plain": [
       "<IPython.core.display.Javascript object>"
      ]
     },
     "metadata": {},
     "output_type": "display_data"
    },
    {
     "data": {
      "application/javascript": [
       "window[\"4ce2f734-92ce-11ec-ae42-0242ac1c0002\"] = document.querySelector(\"#id138-0-0\");\n",
       "//# sourceURL=js_e141e7a02a"
      ],
      "text/plain": [
       "<IPython.core.display.Javascript object>"
      ]
     },
     "metadata": {},
     "output_type": "display_data"
    },
    {
     "data": {
      "application/javascript": [
       "window[\"4ce39310-92ce-11ec-ae42-0242ac1c0002\"] = google.colab.output.setActiveOutputArea(window[\"4ce2f734-92ce-11ec-ae42-0242ac1c0002\"]);\n",
       "//# sourceURL=js_72f46639f6"
      ],
      "text/plain": [
       "<IPython.core.display.Javascript object>"
      ]
     },
     "metadata": {},
     "output_type": "display_data"
    },
    {
     "data": {
      "application/javascript": [
       "window[\"4cfcf580-92ce-11ec-ae42-0242ac1c0002\"] = google.colab.output.setActiveOutputArea(window[\"4ce28916-92ce-11ec-ae42-0242ac1c0002\"]);\n",
       "//# sourceURL=js_390437dab3"
      ],
      "text/plain": [
       "<IPython.core.display.Javascript object>"
      ]
     },
     "metadata": {},
     "output_type": "display_data"
    },
    {
     "data": {
      "application/javascript": [
       "window[\"4d3c3c0e-92ce-11ec-ae42-0242ac1c0002\"] = google.colab.output.getActiveOutputArea();\n",
       "//# sourceURL=js_76be0afc1f"
      ],
      "text/plain": [
       "<IPython.core.display.Javascript object>"
      ]
     },
     "metadata": {},
     "output_type": "display_data"
    },
    {
     "data": {
      "application/javascript": [
       "window[\"4d3c9b90-92ce-11ec-ae42-0242ac1c0002\"] = document.querySelector(\"#id138-0-0\");\n",
       "//# sourceURL=js_98f2e470a1"
      ],
      "text/plain": [
       "<IPython.core.display.Javascript object>"
      ]
     },
     "metadata": {},
     "output_type": "display_data"
    },
    {
     "data": {
      "application/javascript": [
       "window[\"4d3cfbb2-92ce-11ec-ae42-0242ac1c0002\"] = google.colab.output.setActiveOutputArea(window[\"4d3c9b90-92ce-11ec-ae42-0242ac1c0002\"]);\n",
       "//# sourceURL=js_4e41ebc139"
      ],
      "text/plain": [
       "<IPython.core.display.Javascript object>"
      ]
     },
     "metadata": {},
     "output_type": "display_data"
    },
    {
     "data": {
      "application/javascript": [
       "window[\"4d56603e-92ce-11ec-ae42-0242ac1c0002\"] = google.colab.output.setActiveOutputArea(window[\"4d3c3c0e-92ce-11ec-ae42-0242ac1c0002\"]);\n",
       "//# sourceURL=js_a0fabb6850"
      ],
      "text/plain": [
       "<IPython.core.display.Javascript object>"
      ]
     },
     "metadata": {},
     "output_type": "display_data"
    },
    {
     "data": {
      "application/javascript": [
       "window[\"4d958e9e-92ce-11ec-ae42-0242ac1c0002\"] = google.colab.output.getActiveOutputArea();\n",
       "//# sourceURL=js_3d4dc4c753"
      ],
      "text/plain": [
       "<IPython.core.display.Javascript object>"
      ]
     },
     "metadata": {},
     "output_type": "display_data"
    },
    {
     "data": {
      "application/javascript": [
       "window[\"4d95f794-92ce-11ec-ae42-0242ac1c0002\"] = document.querySelector(\"#id138-0-0\");\n",
       "//# sourceURL=js_4d87e9c3af"
      ],
      "text/plain": [
       "<IPython.core.display.Javascript object>"
      ]
     },
     "metadata": {},
     "output_type": "display_data"
    },
    {
     "data": {
      "application/javascript": [
       "window[\"4d965b76-92ce-11ec-ae42-0242ac1c0002\"] = google.colab.output.setActiveOutputArea(window[\"4d95f794-92ce-11ec-ae42-0242ac1c0002\"]);\n",
       "//# sourceURL=js_808f513eab"
      ],
      "text/plain": [
       "<IPython.core.display.Javascript object>"
      ]
     },
     "metadata": {},
     "output_type": "display_data"
    },
    {
     "data": {
      "application/javascript": [
       "window[\"4db07ace-92ce-11ec-ae42-0242ac1c0002\"] = google.colab.output.setActiveOutputArea(window[\"4d958e9e-92ce-11ec-ae42-0242ac1c0002\"]);\n",
       "//# sourceURL=js_a637d3310f"
      ],
      "text/plain": [
       "<IPython.core.display.Javascript object>"
      ]
     },
     "metadata": {},
     "output_type": "display_data"
    },
    {
     "data": {
      "application/javascript": [
       "window[\"4defd214-92ce-11ec-ae42-0242ac1c0002\"] = google.colab.output.getActiveOutputArea();\n",
       "//# sourceURL=js_f2f5b83623"
      ],
      "text/plain": [
       "<IPython.core.display.Javascript object>"
      ]
     },
     "metadata": {},
     "output_type": "display_data"
    },
    {
     "data": {
      "application/javascript": [
       "window[\"4df032ea-92ce-11ec-ae42-0242ac1c0002\"] = document.querySelector(\"#id138-0-0\");\n",
       "//# sourceURL=js_77492c392a"
      ],
      "text/plain": [
       "<IPython.core.display.Javascript object>"
      ]
     },
     "metadata": {},
     "output_type": "display_data"
    },
    {
     "data": {
      "application/javascript": [
       "window[\"4df0a7de-92ce-11ec-ae42-0242ac1c0002\"] = google.colab.output.setActiveOutputArea(window[\"4df032ea-92ce-11ec-ae42-0242ac1c0002\"]);\n",
       "//# sourceURL=js_fab1ad737f"
      ],
      "text/plain": [
       "<IPython.core.display.Javascript object>"
      ]
     },
     "metadata": {},
     "output_type": "display_data"
    },
    {
     "data": {
      "application/javascript": [
       "window[\"4e0b49a4-92ce-11ec-ae42-0242ac1c0002\"] = google.colab.output.setActiveOutputArea(window[\"4defd214-92ce-11ec-ae42-0242ac1c0002\"]);\n",
       "//# sourceURL=js_3b5e2913c6"
      ],
      "text/plain": [
       "<IPython.core.display.Javascript object>"
      ]
     },
     "metadata": {},
     "output_type": "display_data"
    },
    {
     "data": {
      "application/javascript": [
       "window[\"4e4b22b8-92ce-11ec-ae42-0242ac1c0002\"] = google.colab.output.getActiveOutputArea();\n",
       "//# sourceURL=js_47b238cc4f"
      ],
      "text/plain": [
       "<IPython.core.display.Javascript object>"
      ]
     },
     "metadata": {},
     "output_type": "display_data"
    },
    {
     "data": {
      "application/javascript": [
       "window[\"4e4b8c26-92ce-11ec-ae42-0242ac1c0002\"] = document.querySelector(\"#id138-0-0\");\n",
       "//# sourceURL=js_3fb0aa5b6f"
      ],
      "text/plain": [
       "<IPython.core.display.Javascript object>"
      ]
     },
     "metadata": {},
     "output_type": "display_data"
    },
    {
     "data": {
      "application/javascript": [
       "window[\"4e4c0be2-92ce-11ec-ae42-0242ac1c0002\"] = google.colab.output.setActiveOutputArea(window[\"4e4b8c26-92ce-11ec-ae42-0242ac1c0002\"]);\n",
       "//# sourceURL=js_cbeb94d250"
      ],
      "text/plain": [
       "<IPython.core.display.Javascript object>"
      ]
     },
     "metadata": {},
     "output_type": "display_data"
    },
    {
     "data": {
      "application/javascript": [
       "window[\"4e679772-92ce-11ec-ae42-0242ac1c0002\"] = google.colab.output.setActiveOutputArea(window[\"4e4b22b8-92ce-11ec-ae42-0242ac1c0002\"]);\n",
       "//# sourceURL=js_05d9e31f35"
      ],
      "text/plain": [
       "<IPython.core.display.Javascript object>"
      ]
     },
     "metadata": {},
     "output_type": "display_data"
    },
    {
     "data": {
      "application/javascript": [
       "window[\"4ea8498e-92ce-11ec-ae42-0242ac1c0002\"] = google.colab.output.getActiveOutputArea();\n",
       "//# sourceURL=js_7e4c621422"
      ],
      "text/plain": [
       "<IPython.core.display.Javascript object>"
      ]
     },
     "metadata": {},
     "output_type": "display_data"
    },
    {
     "data": {
      "application/javascript": [
       "window[\"4ea88b38-92ce-11ec-ae42-0242ac1c0002\"] = document.querySelector(\"#id138-0-0\");\n",
       "//# sourceURL=js_46740f162b"
      ],
      "text/plain": [
       "<IPython.core.display.Javascript object>"
      ]
     },
     "metadata": {},
     "output_type": "display_data"
    },
    {
     "data": {
      "application/javascript": [
       "window[\"4ea8c88c-92ce-11ec-ae42-0242ac1c0002\"] = google.colab.output.setActiveOutputArea(window[\"4ea88b38-92ce-11ec-ae42-0242ac1c0002\"]);\n",
       "//# sourceURL=js_bfeb7f6528"
      ],
      "text/plain": [
       "<IPython.core.display.Javascript object>"
      ]
     },
     "metadata": {},
     "output_type": "display_data"
    },
    {
     "name": "stdout",
     "output_type": "stream",
     "text": [
      "Reward:  3.0\n"
     ]
    },
    {
     "data": {
      "image/png": "[encoded data removed]",
      "text/plain": [
       "<Figure size 432x288 with 1 Axes>"
      ]
     },
     "metadata": {
      "needs_background": "light"
     },
     "output_type": "display_data"
    },
    {
     "data": {
      "application/javascript": [
       "window[\"4ec2cd72-92ce-11ec-ae42-0242ac1c0002\"] = google.colab.output.setActiveOutputArea(window[\"4ea8498e-92ce-11ec-ae42-0242ac1c0002\"]);\n",
       "//# sourceURL=js_1e9c7f7767"
      ],
      "text/plain": [
       "<IPython.core.display.Javascript object>"
      ]
     },
     "metadata": {},
     "output_type": "display_data"
    },
    {
     "name": "stdout",
     "output_type": "stream",
     "text": [
      "no of iterations 14\n"
     ]
    }
   ],
   "source": [
    "#main action\n",
    "# selected_action = []\n",
    "count = 0\n",
    "obs = env.reset()\n",
    "output_grid = widgets.Grid(1, 1)\n",
    "while True:\n",
    "  count += 1\n",
    "  # action = np.random.randint(3)\n",
    "  action = np.random.choice([0,1,2,3])\n",
    "  # selected_action.append(action)\n",
    "  observation, reward, done, _ = env.step(action)\n",
    "  with output_grid.output_to(0,0):\n",
    "    output_grid.clear_cell()\n",
    "    env.render()\n",
    "    print('Reward: ', reward)\n",
    "  time.sleep(0.4)\n",
    "  if done:\n",
    "    break\n",
    "print(\"no of iterations\", count)\n",
    "# print(selected_action)"
   ]
  },
  {
   "cell_type": "code",
   "execution_count": null,
   "metadata": {
    "id": "0brJ7pxtHQj_"
   },
   "outputs": [],
   "source": [
    "  #  with output_grid.output_to(0, 0):\n",
    "  #   output_grid.clear_cell()\n",
    "  #   plt.imshow(grid)\n",
    "  # time.sleep(1)\n",
    "# output_grid = widgets.Grid(1, 1)\n",
    "# for _ in range(5):\n",
    "#   grid = np.zeros((3, 3))\n",
    "#   grid[np.random.randint(3), np.random.randint(3)] = 1\n",
    "#   with output_grid.output_to(0, 0):\n",
    "#     output_grid.clear_cell()\n",
    "#     plt.imshow(grid)\n",
    "#   time.sleep(1)"
   ]
  }
 ],
 "metadata": {
  "colab": {
   "collapsed_sections": [],
   "name": "sarveshw_assign1_check1 .ipynb",
   "provenance": []
  },
  "kernelspec": {
   "display_name": "rl",
   "language": "python",
   "name": "rl"
  },
  "language_info": {
   "codemirror_mode": {
    "name": "ipython",
    "version": 3
   },
   "file_extension": ".py",
   "mimetype": "text/x-python",
   "name": "python",
   "nbconvert_exporter": "python",
   "pygments_lexer": "ipython3",
   "version": "3.8.10"
  }
 },
 "nbformat": 4,
 "nbformat_minor": 1
}
