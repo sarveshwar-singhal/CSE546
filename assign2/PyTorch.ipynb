{
 "cells": [
  {
   "cell_type": "code",
   "execution_count": 1,
   "metadata": {},
   "outputs": [],
   "source": [
    "import numpy as np"
   ]
  },
  {
   "cell_type": "code",
   "execution_count": 2,
   "metadata": {},
   "outputs": [],
   "source": [
    "import torch\n",
    "from torch import nn\n",
    "from torch.utils.data import DataLoader\n",
    "from torchvision import datasets\n",
    "from torchvision.transforms import ToTensor"
   ]
  },
  {
   "cell_type": "code",
   "execution_count": 17,
   "metadata": {},
   "outputs": [],
   "source": [
    "training_data = datasets.FashionMNIST(\n",
    "                        root = \"data\",\n",
    "                        train=True,\n",
    "                        download=True,\n",
    "                        transform=ToTensor())\n",
    "test_data = datasets.FashionMNIST(root=\"data\", train=False, download=True, transform=ToTensor())"
   ]
  },
  {
   "cell_type": "code",
   "execution_count": 20,
   "metadata": {},
   "outputs": [
    {
     "name": "stdout",
     "output_type": "stream",
     "text": [
      "Dataset FashionMNIST\n",
      "    Number of datapoints: 60000\n",
      "    Root location: data\n",
      "    Split: Train\n",
      "    StandardTransform\n",
      "Transform: ToTensor()\n",
      "<class 'torchvision.datasets.mnist.FashionMNIST'>\n"
     ]
    }
   ],
   "source": [
    "print(training_data)\n",
    "print(type(training_data))"
   ]
  },
  {
   "cell_type": "code",
   "execution_count": 24,
   "metadata": {},
   "outputs": [
    {
     "data": {
      "text/plain": [
       "type"
      ]
     },
     "execution_count": 24,
     "metadata": {},
     "output_type": "execute_result"
    }
   ],
   "source": [
    "type(ToTensor)"
   ]
  },
  {
   "cell_type": "code",
   "execution_count": 27,
   "metadata": {},
   "outputs": [
    {
     "data": {
      "text/plain": [
       "torch.utils.data.dataloader.DataLoader"
      ]
     },
     "execution_count": 27,
     "metadata": {},
     "output_type": "execute_result"
    }
   ],
   "source": [
    "DataLoader"
   ]
  },
  {
   "cell_type": "code",
   "execution_count": 28,
   "metadata": {},
   "outputs": [],
   "source": [
    "batch_size = 64\n",
    "\n",
    "train_dataloader = DataLoader(training_data, batch_size = batch_size)\n",
    "test_dataloader = DataLoader(test_data, batch_size = batch_size)"
   ]
  },
  {
   "cell_type": "code",
   "execution_count": 34,
   "metadata": {},
   "outputs": [
    {
     "name": "stdout",
     "output_type": "stream",
     "text": [
      "Shape of X [N, C, H, W]: torch.Size([64, 1, 28, 28]) torch.float32\n",
      "Shape of y: torch.Size([64]) torch.int64\n"
     ]
    }
   ],
   "source": [
    "count = 0\n",
    "for X, y in test_dataloader:\n",
    "    count +=1\n",
    "    print(f\"Shape of X [N, C, H, W]: {X.shape} {X.dtype}\")\n",
    "    print(f\"Shape of y: {y.shape} {y.dtype}\")\n",
    "    break\n",
    "# print(count)"
   ]
  },
  {
   "cell_type": "code",
   "execution_count": 35,
   "metadata": {},
   "outputs": [
    {
     "name": "stdout",
     "output_type": "stream",
     "text": [
      "using cpu device\n"
     ]
    }
   ],
   "source": [
    "device = 'cuda' if torch.cuda.is_available() else 'cpu'\n",
    "print(f\"using {device} device\")\n",
    "\n",
    "class NeuralNetwork(nn.Module):\n",
    "    def __init__(self):\n",
    "        super(NeuralNetwork, self).__init__()\n",
    "        self.flatten = nn.Flatten()\n",
    "        self.linear_relu_stack = nn.Sequential(\n",
    "            nn.Linear(28*28, 512),\n",
    "            nn.ReLU(),\n",
    "            nn.Linear(512, 512),\n",
    "            nn.ReLU(),\n",
    "            nn.Linear(512, 10)\n",
    "        )\n",
    "    \n",
    "    def forward(self, x):\n",
    "        x = self.flatten(x)\n",
    "        logits = self.linear_relu_stack(x)\n",
    "        return logits\n"
   ]
  },
  {
   "cell_type": "code",
   "execution_count": 140,
   "metadata": {},
   "outputs": [
    {
     "name": "stdout",
     "output_type": "stream",
     "text": [
      "NeuralNetwork(\n",
      "  (flatten): Flatten(start_dim=1, end_dim=-1)\n",
      "  (linear_relu_stack): Sequential(\n",
      "    (0): Linear(in_features=784, out_features=512, bias=True)\n",
      "    (1): ReLU()\n",
      "    (2): Linear(in_features=512, out_features=512, bias=True)\n",
      "    (3): ReLU()\n",
      "    (4): Linear(in_features=512, out_features=10, bias=True)\n",
      "  )\n",
      ")\n"
     ]
    }
   ],
   "source": [
    "model = NeuralNetwork().to(device)\n",
    "print(model)"
   ]
  },
  {
   "cell_type": "code",
   "execution_count": 42,
   "metadata": {},
   "outputs": [
    {
     "name": "stdout",
     "output_type": "stream",
     "text": [
      "<class 'type'>\n"
     ]
    }
   ],
   "source": [
    "# type(model)\n",
    "print(type(nn.Softmax))"
   ]
  },
  {
   "cell_type": "code",
   "execution_count": 44,
   "metadata": {},
   "outputs": [],
   "source": [
    "# nn.Softmax"
   ]
  },
  {
   "cell_type": "code",
   "execution_count": 45,
   "metadata": {},
   "outputs": [],
   "source": [
    "X = torch.rand(1, 28, 28, device=device)\n",
    "logits = model(X)\n",
    "pred_probab = nn.Softmax(dim=1)(logits)\n",
    "y_pred = pred_probab.argmax(1)"
   ]
  },
  {
   "cell_type": "code",
   "execution_count": 46,
   "metadata": {},
   "outputs": [
    {
     "name": "stdout",
     "output_type": "stream",
     "text": [
      "Predicted class: tensor([6])\n"
     ]
    }
   ],
   "source": [
    "print(f\"Predicted class: {y_pred}\")"
   ]
  },
  {
   "cell_type": "code",
   "execution_count": 49,
   "metadata": {},
   "outputs": [
    {
     "data": {
      "text/plain": [
       "tensor([[-0.1311, -0.0647, -0.0620, -0.0078, -0.1267, -0.0083,  0.0321, -0.0430,\n",
       "         -0.1124, -0.0366]], grad_fn=<AddmmBackward0>)"
      ]
     },
     "execution_count": 49,
     "metadata": {},
     "output_type": "execute_result"
    }
   ],
   "source": [
    "# nn.Softmax(dim=1)\n",
    "logits"
   ]
  },
  {
   "cell_type": "code",
   "execution_count": 55,
   "metadata": {},
   "outputs": [
    {
     "data": {
      "text/plain": [
       "1.0"
      ]
     },
     "execution_count": 55,
     "metadata": {},
     "output_type": "execute_result"
    }
   ],
   "source": [
    "pred_probab.detach().numpy().sum()"
   ]
  },
  {
   "cell_type": "code",
   "execution_count": 60,
   "metadata": {},
   "outputs": [
    {
     "data": {
      "text/plain": [
       "tensor([[0.0926, 0.0990, 0.0993, 0.1048, 0.0931, 0.1047, 0.1091, 0.1012, 0.0944,\n",
       "         0.1018]], grad_fn=<SoftmaxBackward0>)"
      ]
     },
     "execution_count": 60,
     "metadata": {},
     "output_type": "execute_result"
    }
   ],
   "source": [
    "pred_probab"
   ]
  },
  {
   "cell_type": "code",
   "execution_count": 65,
   "metadata": {},
   "outputs": [
    {
     "name": "stdout",
     "output_type": "stream",
     "text": [
      "tensor(6)\n",
      "tensor([6])\n"
     ]
    }
   ],
   "source": [
    "print(pred_probab.argmax())\n",
    "print(pred_probab.argmax(1))"
   ]
  },
  {
   "cell_type": "code",
   "execution_count": 69,
   "metadata": {},
   "outputs": [
    {
     "name": "stdout",
     "output_type": "stream",
     "text": [
      "<class 'numpy.int64'>\n"
     ]
    }
   ],
   "source": [
    "pred_probab.argmax(1).numpy()[0]\n",
    "print(type(pred_probab.argmax(1).numpy()[0]))"
   ]
  },
  {
   "cell_type": "code",
   "execution_count": 71,
   "metadata": {},
   "outputs": [
    {
     "name": "stdout",
     "output_type": "stream",
     "text": [
      "torch.Size([3, 28, 28])\n"
     ]
    }
   ],
   "source": [
    "input_image = torch.rand(3,28,28)\n",
    "print(input_image.size())"
   ]
  },
  {
   "cell_type": "code",
   "execution_count": 72,
   "metadata": {},
   "outputs": [
    {
     "name": "stdout",
     "output_type": "stream",
     "text": [
      "torch.Size([3, 784])\n"
     ]
    }
   ],
   "source": [
    "flatten = nn.Flatten()\n",
    "flat_image = flatten(input_image)\n",
    "print(flat_image.size())"
   ]
  },
  {
   "cell_type": "code",
   "execution_count": 73,
   "metadata": {},
   "outputs": [
    {
     "name": "stdout",
     "output_type": "stream",
     "text": [
      "torch.Size([3, 20])\n"
     ]
    }
   ],
   "source": [
    "layer1 = nn.Linear(in_features=28*28, out_features=20)\n",
    "hidden1 = layer1(flat_image)\n",
    "print(hidden1.size())"
   ]
  },
  {
   "cell_type": "code",
   "execution_count": 74,
   "metadata": {},
   "outputs": [
    {
     "name": "stdout",
     "output_type": "stream",
     "text": [
      "Before ReLU: tensor([[-0.0875, -0.1183,  0.1280,  0.0654, -0.7107, -0.2359,  0.0894, -0.2541,\n",
      "          0.2653,  0.4125, -0.3341,  0.0292,  0.4587, -0.3108, -0.2459,  0.5545,\n",
      "          0.0916, -0.0042,  0.3453,  0.1377],\n",
      "        [ 0.0277,  0.0812,  0.2251,  0.0594, -0.4826, -0.0345,  0.1187,  0.0009,\n",
      "         -0.0460,  0.2232, -0.0452, -0.6066,  0.3425, -0.6105, -0.2486,  0.5447,\n",
      "          0.3980,  0.1251,  0.3853,  0.3901],\n",
      "        [ 0.1157,  0.0675,  0.1639, -0.0406, -0.4993,  0.0405,  0.1111, -0.2823,\n",
      "          0.3881, -0.2318,  0.0764, -0.3150,  0.5621, -0.3444, -0.2126,  0.6391,\n",
      "         -0.0165, -0.0760,  0.2251,  0.3621]], grad_fn=<AddmmBackward0>)\n",
      "\n",
      "\n",
      "After ReLU: tensor([[0.0000, 0.0000, 0.1280, 0.0654, 0.0000, 0.0000, 0.0894, 0.0000, 0.2653,\n",
      "         0.4125, 0.0000, 0.0292, 0.4587, 0.0000, 0.0000, 0.5545, 0.0916, 0.0000,\n",
      "         0.3453, 0.1377],\n",
      "        [0.0277, 0.0812, 0.2251, 0.0594, 0.0000, 0.0000, 0.1187, 0.0009, 0.0000,\n",
      "         0.2232, 0.0000, 0.0000, 0.3425, 0.0000, 0.0000, 0.5447, 0.3980, 0.1251,\n",
      "         0.3853, 0.3901],\n",
      "        [0.1157, 0.0675, 0.1639, 0.0000, 0.0000, 0.0405, 0.1111, 0.0000, 0.3881,\n",
      "         0.0000, 0.0764, 0.0000, 0.5621, 0.0000, 0.0000, 0.6391, 0.0000, 0.0000,\n",
      "         0.2251, 0.3621]], grad_fn=<ReluBackward0>)\n"
     ]
    }
   ],
   "source": [
    "print(f\"Before ReLU: {hidden1}\\n\\n\")\n",
    "hidden1 = nn.ReLU()(hidden1)\n",
    "print(f\"After ReLU: {hidden1}\")"
   ]
  },
  {
   "cell_type": "code",
   "execution_count": 101,
   "metadata": {},
   "outputs": [],
   "source": [
    "input_image = torch.rand(3, 28, 28)"
   ]
  },
  {
   "cell_type": "code",
   "execution_count": 108,
   "metadata": {},
   "outputs": [],
   "source": [
    "seq_modules = nn.Sequential(\n",
    "    flatten,\n",
    "    layer1,\n",
    "    nn.ReLU(),\n",
    "    nn.Linear(20, 10),\n",
    "    nn.Softmax(dim=1)\n",
    ")"
   ]
  },
  {
   "cell_type": "code",
   "execution_count": 109,
   "metadata": {},
   "outputs": [],
   "source": [
    "logits_pred_prob = seq_modules(input_image)"
   ]
  },
  {
   "cell_type": "code",
   "execution_count": 104,
   "metadata": {},
   "outputs": [
    {
     "data": {
      "text/plain": [
       "tensor([[ 0.0900, -0.0867, -0.1786, -0.0289,  0.1144,  0.2024, -0.0613,  0.2840,\n",
       "          0.1078, -0.0157],\n",
       "        [ 0.0997, -0.1531, -0.2072, -0.0981,  0.1355,  0.2345,  0.0905,  0.1312,\n",
       "         -0.0257, -0.0912],\n",
       "        [-0.0190, -0.0955, -0.1406,  0.0561,  0.1879,  0.2539,  0.0438, -0.0611,\n",
       "          0.0421, -0.1605]], grad_fn=<AddmmBackward0>)"
      ]
     },
     "execution_count": 104,
     "metadata": {},
     "output_type": "execute_result"
    }
   ],
   "source": [
    "logits"
   ]
  },
  {
   "cell_type": "code",
   "execution_count": 105,
   "metadata": {},
   "outputs": [],
   "source": [
    "softmax = nn.Softmax(dim=1)"
   ]
  },
  {
   "cell_type": "code",
   "execution_count": 106,
   "metadata": {},
   "outputs": [],
   "source": [
    "pred_probab = softmax(logits)"
   ]
  },
  {
   "cell_type": "code",
   "execution_count": 107,
   "metadata": {},
   "outputs": [
    {
     "data": {
      "text/plain": [
       "tensor([[0.1039, 0.0871, 0.0794, 0.0922, 0.1065, 0.1162, 0.0893, 0.1261, 0.1058,\n",
       "         0.0935],\n",
       "        [0.1082, 0.0840, 0.0796, 0.0888, 0.1121, 0.1238, 0.1072, 0.1116, 0.0954,\n",
       "         0.0894],\n",
       "        [0.0963, 0.0892, 0.0852, 0.1038, 0.1184, 0.1265, 0.1025, 0.0923, 0.1023,\n",
       "         0.0836]], grad_fn=<SoftmaxBackward0>)"
      ]
     },
     "execution_count": 107,
     "metadata": {},
     "output_type": "execute_result"
    }
   ],
   "source": [
    "pred_probab"
   ]
  },
  {
   "cell_type": "code",
   "execution_count": 111,
   "metadata": {},
   "outputs": [
    {
     "data": {
      "text/plain": [
       "tensor([7, 5, 5])"
      ]
     },
     "execution_count": 111,
     "metadata": {},
     "output_type": "execute_result"
    }
   ],
   "source": [
    "# pred_probab.sum()\n",
    "pred_probab.argmax(1)"
   ]
  },
  {
   "cell_type": "code",
   "execution_count": 110,
   "metadata": {},
   "outputs": [
    {
     "data": {
      "text/plain": [
       "tensor([[0.1246, 0.1128, 0.0974, 0.0844, 0.1250, 0.0893, 0.1072, 0.0729, 0.0875,\n",
       "         0.0987],\n",
       "        [0.1172, 0.1144, 0.0964, 0.0882, 0.1182, 0.0899, 0.1088, 0.0759, 0.0953,\n",
       "         0.0958],\n",
       "        [0.1139, 0.1174, 0.0917, 0.0829, 0.1226, 0.0824, 0.1127, 0.0750, 0.0967,\n",
       "         0.1046]], grad_fn=<SoftmaxBackward0>)"
      ]
     },
     "execution_count": 110,
     "metadata": {},
     "output_type": "execute_result"
    }
   ],
   "source": [
    "logits_pred_prob"
   ]
  },
  {
   "cell_type": "code",
   "execution_count": 112,
   "metadata": {},
   "outputs": [
    {
     "data": {
      "text/plain": [
       "tensor([4, 4, 4])"
      ]
     },
     "execution_count": 112,
     "metadata": {},
     "output_type": "execute_result"
    }
   ],
   "source": [
    "logits_pred_prob.argmax(1)"
   ]
  },
  {
   "cell_type": "code",
   "execution_count": 113,
   "metadata": {},
   "outputs": [
    {
     "name": "stdout",
     "output_type": "stream",
     "text": [
      "Model structure: NeuralNetwork(\n",
      "  (flatten): Flatten(start_dim=1, end_dim=-1)\n",
      "  (linear_relu_stack): Sequential(\n",
      "    (0): Linear(in_features=784, out_features=512, bias=True)\n",
      "    (1): ReLU()\n",
      "    (2): Linear(in_features=512, out_features=512, bias=True)\n",
      "    (3): ReLU()\n",
      "    (4): Linear(in_features=512, out_features=10, bias=True)\n",
      "  )\n",
      ")\n",
      "\n",
      "\n"
     ]
    }
   ],
   "source": [
    "print(f\"Model structure: {model}\\n\\n\")"
   ]
  },
  {
   "cell_type": "code",
   "execution_count": 128,
   "metadata": {},
   "outputs": [
    {
     "name": "stdout",
     "output_type": "stream",
     "text": [
      "669706\n",
      "<class 'int'>\n"
     ]
    }
   ],
   "source": [
    "# for name, param in model.named_para\n",
    "count = 0\n",
    "for x in model.parameters():\n",
    "#     print(x.detach().size())\n",
    "    count += np.size(x.detach().numpy())\n",
    "#     break\n",
    "print(count)\n",
    "print(type(count))"
   ]
  },
  {
   "cell_type": "code",
   "execution_count": 130,
   "metadata": {},
   "outputs": [
    {
     "name": "stdout",
     "output_type": "stream",
     "text": [
      "<class 'int'>\n"
     ]
    },
    {
     "data": {
      "text/plain": [
       "10"
      ]
     },
     "execution_count": 130,
     "metadata": {},
     "output_type": "execute_result"
    }
   ],
   "source": [
    "print(type(np.size(np.arange(10))))\n",
    "np.size(np.arange(10))"
   ]
  },
  {
   "cell_type": "code",
   "execution_count": 141,
   "metadata": {},
   "outputs": [
    {
     "name": "stdout",
     "output_type": "stream",
     "text": [
      "Model structure: NeuralNetwork(\n",
      "  (flatten): Flatten(start_dim=1, end_dim=-1)\n",
      "  (linear_relu_stack): Sequential(\n",
      "    (0): Linear(in_features=784, out_features=512, bias=True)\n",
      "    (1): ReLU()\n",
      "    (2): Linear(in_features=512, out_features=512, bias=True)\n",
      "    (3): ReLU()\n",
      "    (4): Linear(in_features=512, out_features=10, bias=True)\n",
      "  )\n",
      ")\n",
      "\n",
      "\n"
     ]
    }
   ],
   "source": [
    "print(f\"Model structure: {model}\\n\\n\")"
   ]
  },
  {
   "cell_type": "code",
   "execution_count": 142,
   "metadata": {
    "scrolled": true
   },
   "outputs": [
    {
     "name": "stdout",
     "output_type": "stream",
     "text": [
      "Layer: linear_relu_stack.0.weight | size: torch.Size([512, 784]) | values: tensor([[ 0.0166, -0.0166, -0.0233,  ..., -0.0357, -0.0063, -0.0205],\n",
      "        [ 0.0219,  0.0316,  0.0141,  ...,  0.0282, -0.0215,  0.0313]],\n",
      "       grad_fn=<SliceBackward0>) \n",
      "\n",
      "Layer: linear_relu_stack.0.bias | size: torch.Size([512]) | values: tensor([-0.0343,  0.0356], grad_fn=<SliceBackward0>) \n",
      "\n",
      "Layer: linear_relu_stack.2.weight | size: torch.Size([512, 512]) | values: tensor([[ 0.0099, -0.0206,  0.0243,  ...,  0.0016, -0.0005,  0.0117],\n",
      "        [-0.0412, -0.0043,  0.0129,  ...,  0.0233, -0.0384,  0.0377]],\n",
      "       grad_fn=<SliceBackward0>) \n",
      "\n",
      "Layer: linear_relu_stack.2.bias | size: torch.Size([512]) | values: tensor([0.0044, 0.0206], grad_fn=<SliceBackward0>) \n",
      "\n",
      "Layer: linear_relu_stack.4.weight | size: torch.Size([10, 512]) | values: tensor([[ 0.0417, -0.0268, -0.0175,  ...,  0.0322,  0.0350,  0.0039],\n",
      "        [ 0.0102, -0.0389,  0.0117,  ..., -0.0179, -0.0188,  0.0393]],\n",
      "       grad_fn=<SliceBackward0>) \n",
      "\n",
      "Layer: linear_relu_stack.4.bias | size: torch.Size([10]) | values: tensor([-0.0408,  0.0375], grad_fn=<SliceBackward0>) \n",
      "\n"
     ]
    }
   ],
   "source": [
    "for name, param in model.named_parameters():\n",
    "    print(f\"Layer: {name} | size: {param.size()} | values: {param[:2]} \\n\")"
   ]
  },
  {
   "cell_type": "code",
   "execution_count": 133,
   "metadata": {},
   "outputs": [
    {
     "data": {
      "text/plain": [
       "Parameter containing:\n",
       "tensor([-0.0235, -0.0035,  0.0218,  0.0157, -0.0312, -0.0141,  0.0009,  0.0031,\n",
       "        -0.0260, -0.0206], requires_grad=True)"
      ]
     },
     "execution_count": 133,
     "metadata": {},
     "output_type": "execute_result"
    }
   ],
   "source": [
    "param"
   ]
  },
  {
   "cell_type": "code",
   "execution_count": 134,
   "metadata": {},
   "outputs": [
    {
     "data": {
      "text/plain": [
       "tensor([-0.0235, -0.0035], grad_fn=<SliceBackward0>)"
      ]
     },
     "execution_count": 134,
     "metadata": {},
     "output_type": "execute_result"
    }
   ],
   "source": [
    "param[:2]"
   ]
  },
  {
   "cell_type": "markdown",
   "metadata": {},
   "source": [
    "# Optimizing the Model Parameters"
   ]
  },
  {
   "cell_type": "code",
   "execution_count": 143,
   "metadata": {},
   "outputs": [],
   "source": [
    "loss_fn = nn.CrossEntropyLoss()\n",
    "optimizer = torch.optim.SGD(model.parameters(), lr=1e-3)"
   ]
  },
  {
   "cell_type": "code",
   "execution_count": 136,
   "metadata": {},
   "outputs": [],
   "source": [
    "def train(dataloader, model, loss_fn, optimizer):\n",
    "    size = len(dataloader.dataset)\n",
    "    model.train()\n",
    "    for batch, (X, y) in enumerate(dataloader):\n",
    "        X, y = X.to(device), y.to(device)\n",
    "        \n",
    "        #Compute prediction error\n",
    "        pred = model(X)\n",
    "        loss = loss_fn(pred, y)\n",
    "        \n",
    "        #backpropagation\n",
    "        optimizer.zero_grad()\n",
    "        loss.backward()\n",
    "        optimizer.step()\n",
    "        \n",
    "        \n",
    "        if batch%100 == 0:\n",
    "            loss, current = loss.item(), batch*len(X)\n",
    "            print(f\"loss: {loss:>7f} [{current:>5d}/{size:>5d}]\")"
   ]
  },
  {
   "cell_type": "code",
   "execution_count": 137,
   "metadata": {},
   "outputs": [],
   "source": [
    "def test(dataloader, model, loss_fn):\n",
    "    size = len(dataloader.dataset)\n",
    "    num_batches = len(dataloader)\n",
    "    model.eval()\n",
    "    test_loss, correct = 0, 0\n",
    "    with torch.no_grad():\n",
    "        for X, y in dataloader:\n",
    "            X, y = X.to(device), y.to(device)\n",
    "            pred = model(X)\n",
    "            test_loss += loss_fn(pred, y).item()\n",
    "            correct += (pred.argmax(1)==y).type(torch.float).sum().item()\n",
    "    test_loss /= num_batches\n",
    "    correct /= size\n",
    "    print(f\"Test Error: \\n Accuracy: {(100*correct):>0.1f}%, Avg loss: {test_loss:>8f} \\n\")"
   ]
  },
  {
   "cell_type": "code",
   "execution_count": 144,
   "metadata": {
    "scrolled": true
   },
   "outputs": [
    {
     "name": "stdout",
     "output_type": "stream",
     "text": [
      "Epoch 1\n",
      "-------------------------------\n",
      "loss: 2.307557 [    0/60000]\n",
      "loss: 2.301203 [ 6400/60000]\n",
      "loss: 2.277381 [12800/60000]\n",
      "loss: 2.271333 [19200/60000]\n",
      "loss: 2.256761 [25600/60000]\n",
      "loss: 2.213912 [32000/60000]\n",
      "loss: 2.229381 [38400/60000]\n",
      "loss: 2.182137 [44800/60000]\n",
      "loss: 2.186615 [51200/60000]\n",
      "loss: 2.156079 [57600/60000]\n",
      "Test Error: \n",
      " Accuracy: 44.9%, Avg loss: 2.148908 \n",
      "\n",
      "Epoch 2\n",
      "-------------------------------\n",
      "loss: 2.156856 [    0/60000]\n",
      "loss: 2.148435 [ 6400/60000]\n",
      "loss: 2.084613 [12800/60000]\n",
      "loss: 2.110542 [19200/60000]\n",
      "loss: 2.051774 [25600/60000]\n",
      "loss: 1.981811 [32000/60000]\n",
      "loss: 2.020570 [38400/60000]\n",
      "loss: 1.923584 [44800/60000]\n",
      "loss: 1.939658 [51200/60000]\n",
      "loss: 1.875477 [57600/60000]\n",
      "Test Error: \n",
      " Accuracy: 55.5%, Avg loss: 1.866222 \n",
      "\n",
      "Epoch 3\n",
      "-------------------------------\n",
      "loss: 1.890666 [    0/60000]\n",
      "loss: 1.864120 [ 6400/60000]\n",
      "loss: 1.740201 [12800/60000]\n",
      "loss: 1.802247 [19200/60000]\n",
      "loss: 1.679184 [25600/60000]\n",
      "loss: 1.629179 [32000/60000]\n",
      "loss: 1.660403 [38400/60000]\n",
      "loss: 1.552027 [44800/60000]\n",
      "loss: 1.589131 [51200/60000]\n",
      "loss: 1.487507 [57600/60000]\n",
      "Test Error: \n",
      " Accuracy: 61.2%, Avg loss: 1.503178 \n",
      "\n",
      "Epoch 4\n",
      "-------------------------------\n",
      "loss: 1.561442 [    0/60000]\n",
      "loss: 1.534305 [ 6400/60000]\n",
      "loss: 1.382009 [12800/60000]\n",
      "loss: 1.469009 [19200/60000]\n",
      "loss: 1.342345 [25600/60000]\n",
      "loss: 1.338471 [32000/60000]\n",
      "loss: 1.351050 [38400/60000]\n",
      "loss: 1.276496 [44800/60000]\n",
      "loss: 1.321990 [51200/60000]\n",
      "loss: 1.214445 [57600/60000]\n",
      "Test Error: \n",
      " Accuracy: 62.8%, Avg loss: 1.245292 \n",
      "\n",
      "Epoch 5\n",
      "-------------------------------\n",
      "loss: 1.317395 [    0/60000]\n",
      "loss: 1.304637 [ 6400/60000]\n",
      "loss: 1.138994 [12800/60000]\n",
      "loss: 1.252008 [19200/60000]\n",
      "loss: 1.124259 [25600/60000]\n",
      "loss: 1.148819 [32000/60000]\n",
      "loss: 1.162732 [38400/60000]\n",
      "loss: 1.105237 [44800/60000]\n",
      "loss: 1.156091 [51200/60000]\n",
      "loss: 1.056933 [57600/60000]\n",
      "Test Error: \n",
      " Accuracy: 64.2%, Avg loss: 1.084713 \n",
      "\n",
      "Epoch 6\n",
      "-------------------------------\n",
      "loss: 1.153257 [    0/60000]\n",
      "loss: 1.158256 [ 6400/60000]\n",
      "loss: 0.977814 [12800/60000]\n",
      "loss: 1.115508 [19200/60000]\n",
      "loss: 0.989095 [25600/60000]\n",
      "loss: 1.020256 [32000/60000]\n",
      "loss: 1.047530 [38400/60000]\n",
      "loss: 0.996898 [44800/60000]\n",
      "loss: 1.047511 [51200/60000]\n",
      "loss: 0.958947 [57600/60000]\n",
      "Test Error: \n",
      " Accuracy: 65.7%, Avg loss: 0.980729 \n",
      "\n",
      "Epoch 7\n",
      "-------------------------------\n",
      "loss: 1.037706 [    0/60000]\n",
      "loss: 1.062404 [ 6400/60000]\n",
      "loss: 0.867233 [12800/60000]\n",
      "loss: 1.024881 [19200/60000]\n",
      "loss: 0.903198 [25600/60000]\n",
      "loss: 0.929699 [32000/60000]\n",
      "loss: 0.972694 [38400/60000]\n",
      "loss: 0.927105 [44800/60000]\n",
      "loss: 0.972086 [51200/60000]\n",
      "loss: 0.893017 [57600/60000]\n",
      "Test Error: \n",
      " Accuracy: 66.9%, Avg loss: 0.909667 \n",
      "\n",
      "Epoch 8\n",
      "-------------------------------\n",
      "loss: 0.952069 [    0/60000]\n",
      "loss: 0.995390 [ 6400/60000]\n",
      "loss: 0.787990 [12800/60000]\n",
      "loss: 0.960105 [19200/60000]\n",
      "loss: 0.845330 [25600/60000]\n",
      "loss: 0.862787 [32000/60000]\n",
      "loss: 0.920041 [38400/60000]\n",
      "loss: 0.880552 [44800/60000]\n",
      "loss: 0.916527 [51200/60000]\n",
      "loss: 0.844862 [57600/60000]\n",
      "Test Error: \n",
      " Accuracy: 68.2%, Avg loss: 0.857945 \n",
      "\n",
      "Epoch 9\n",
      "-------------------------------\n",
      "loss: 0.885474 [    0/60000]\n",
      "loss: 0.944597 [ 6400/60000]\n",
      "loss: 0.728215 [12800/60000]\n",
      "loss: 0.911049 [19200/60000]\n",
      "loss: 0.804066 [25600/60000]\n",
      "loss: 0.811717 [32000/60000]\n",
      "loss: 0.879850 [38400/60000]\n",
      "loss: 0.847856 [44800/60000]\n",
      "loss: 0.874220 [51200/60000]\n",
      "loss: 0.807666 [57600/60000]\n",
      "Test Error: \n",
      " Accuracy: 69.3%, Avg loss: 0.818387 \n",
      "\n",
      "Epoch 10\n",
      "-------------------------------\n",
      "loss: 0.831800 [    0/60000]\n",
      "loss: 0.903579 [ 6400/60000]\n",
      "loss: 0.681270 [12800/60000]\n",
      "loss: 0.872770 [19200/60000]\n",
      "loss: 0.772752 [25600/60000]\n",
      "loss: 0.771971 [32000/60000]\n",
      "loss: 0.847326 [38400/60000]\n",
      "loss: 0.823515 [44800/60000]\n",
      "loss: 0.840750 [51200/60000]\n",
      "loss: 0.777381 [57600/60000]\n",
      "Test Error: \n",
      " Accuracy: 70.9%, Avg loss: 0.786727 \n",
      "\n",
      "Done!\n"
     ]
    }
   ],
   "source": [
    "epochs = 10\n",
    "for t in range(epochs):\n",
    "    print(f\"Epoch {t+1}\\n-------------------------------\")\n",
    "    train(train_dataloader, model, loss_fn, optimizer)\n",
    "    test(test_dataloader, model, loss_fn)\n",
    "print(\"Done!\")"
   ]
  },
  {
   "cell_type": "code",
   "execution_count": null,
   "metadata": {},
   "outputs": [],
   "source": []
  }
 ],
 "metadata": {
  "kernelspec": {
   "display_name": "rl",
   "language": "python",
   "name": "rl"
  },
  "language_info": {
   "codemirror_mode": {
    "name": "ipython",
    "version": 3
   },
   "file_extension": ".py",
   "mimetype": "text/x-python",
   "name": "python",
   "nbconvert_exporter": "python",
   "pygments_lexer": "ipython3",
   "version": "3.8.10"
  }
 },
 "nbformat": 4,
 "nbformat_minor": 4
}
