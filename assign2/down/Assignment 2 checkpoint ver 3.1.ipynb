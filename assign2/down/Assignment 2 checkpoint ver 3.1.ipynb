{
 "cells": [
  {
   "cell_type": "markdown",
   "metadata": {},
   "source": [
    "We certify that the code and data in this assignment were generated independently, using only the tools and resources defined in the course and that I/we did not receive any external help, coaching or contributions during the production of this work."
   ]
  },
  {
   "cell_type": "code",
   "execution_count": null,
   "metadata": {},
   "outputs": [],
   "source": []
  },
  {
   "cell_type": "markdown",
   "metadata": {},
   "source": [
    "# Assignment 2 - Team 16\n",
    "---"
   ]
  },
  {
   "cell_type": "markdown",
   "metadata": {},
   "source": [
    "## Part I - Exploring OpenAI Gym Environments"
   ]
  },
  {
   "cell_type": "code",
   "execution_count": null,
   "metadata": {},
   "outputs": [],
   "source": [
    "!pip install gym"
   ]
  },
  {
   "cell_type": "code",
   "execution_count": null,
   "metadata": {},
   "outputs": [],
   "source": [
    "!apt-get install python-opengl -y\n",
    "!apt install xvfb -y\n",
    "!pip install pyvirtualdisplay\n",
    "!pip install piglet"
   ]
  },
  {
   "cell_type": "code",
   "execution_count": null,
   "metadata": {},
   "outputs": [],
   "source": [
    "import gym\n",
    "import matplotlib.pyplot as plt\n",
    "from gym import wrappers\n",
    "%matplotlib inline"
   ]
  },
  {
   "cell_type": "code",
   "execution_count": null,
   "metadata": {},
   "outputs": [],
   "source": [
    "all_env = list(gym.envs.registry.all())\n",
    "for env in list(all_env):\n",
    "    print(env)"
   ]
  },
  {
   "cell_type": "code",
   "execution_count": null,
   "metadata": {},
   "outputs": [],
   "source": [
    "print(len(all_env))"
   ]
  },
  {
   "cell_type": "markdown",
   "metadata": {},
   "source": [
    "### The main details of 'CartPole-v1'"
   ]
  },
  {
   "cell_type": "code",
   "execution_count": null,
   "metadata": {},
   "outputs": [],
   "source": [
    "# This task involves copying the symbols\n",
    "# from the input tape to the output tape.\n",
    "env = gym.make('CartPole-v1')"
   ]
  },
  {
   "cell_type": "code",
   "execution_count": null,
   "metadata": {},
   "outputs": [],
   "source": [
    "help(env.unwrapped)"
   ]
  },
  {
   "cell_type": "markdown",
   "metadata": {},
   "source": [
    "According to the description above..\n",
    "1. The objective of this game\n",
    "- to prevent a pole which is attached to a cart from falling over an episode whose length is greater than 200.\n",
    "- by `controlling the cart's velocity`\n",
    "\n",
    "\n",
    "2. A CartPole-v1's state consists of 4 continuous elements.\n",
    "- Cart `Position` [-4.8, 4.8]\n",
    "- Cart `Velocity` (-Inf, Inf)\n",
    "- Pole `Angle` [-0.418 rad, 0.418 rad] or [-24 degrees, 24 degrees]\n",
    "- Pole `Angular Velocity` (-Inf, Inf)\n",
    "- All observations are assigned a uniform random value in [-0.05, 0.05].\n",
    "\n",
    "\n",
    "3. Actions\n",
    "- `0`: Push cart to the `left`.\n",
    "- `1`: Push cart to the `right`.\n",
    "\n",
    "\n",
    "4. Rewards\n",
    "- `0`: if the game is `over`\n",
    "- `1`: if the game is `not over`\n",
    "\n",
    "\n",
    "5. The termination conditions\n",
    "- The game is over if the pole's angle is more than 12 degrees or \n",
    "- the cart's position is more than 2.4 (center of the cart reaches the edge of the display.\n",
    "\n",
    "\n",
    "6. The mission is accomplished once\n",
    "- the average return is greater than or equal to 195.0 over 100 consecutive trials."
   ]
  },
  {
   "cell_type": "code",
   "execution_count": null,
   "metadata": {},
   "outputs": [],
   "source": [
    "import pyglet\n",
    "\n",
    "env.reset()\n",
    "plt.imshow(env.render('rgb_array'))\n",
    "# the number of actions and their property\n",
    "print(env.action_space)\n",
    "# the 4 elements' ranges that each state can be located\n",
    "print(env.observation_space)"
   ]
  },
  {
   "cell_type": "code",
   "execution_count": null,
   "metadata": {},
   "outputs": [],
   "source": [
    "# Push a cart to the left.\n",
    "# You can find that the velocity of the cart has been decreased\n",
    "# compared to its previous one every time you execute this cell.\n",
    "# See the second element of the observed state below.\n",
    "obs, reward, done, info = env.step(0)\n",
    "plt.imshow(env.render('rgb_array'))\n",
    "print(obs) # the next state details after an action has been taken\n",
    "print(reward) # It is 1.0 as long as the game is not over.\n",
    "print(done) # if the game has finished\n",
    "print(info)"
   ]
  },
  {
   "cell_type": "code",
   "execution_count": null,
   "metadata": {},
   "outputs": [],
   "source": [
    "# Push a cart to the right.\n",
    "# You can see the increased velocity every time you execute this cell.\n",
    "obs, reward, done, info = env.step(1)\n",
    "plt.imshow(env.render('rgb_array'))\n",
    "print(obs)\n",
    "print(reward)\n",
    "print(done)\n",
    "print(info)"
   ]
  },
  {
   "cell_type": "markdown",
   "metadata": {},
   "source": [
    "### The main details of FrozenLake-v1"
   ]
  },
  {
   "cell_type": "code",
   "execution_count": null,
   "metadata": {},
   "outputs": [],
   "source": []
  },
  {
   "cell_type": "code",
   "execution_count": null,
   "metadata": {},
   "outputs": [],
   "source": []
  },
  {
   "cell_type": "code",
   "execution_count": null,
   "metadata": {},
   "outputs": [],
   "source": []
  },
  {
   "cell_type": "markdown",
   "metadata": {},
   "source": [
    "## Part II - Implementing DQN & Solving grid-wolrd environment"
   ]
  },
  {
   "cell_type": "markdown",
   "metadata": {},
   "source": [
    "### The envrionment created in the Assignment 1\n",
    "The answer for the following questions:\n",
    "\n",
    "**2. Briefly describe the grid-world environment that you used (e.g. possible actions, states, agent, goal,\n",
    "rewards, etc). You can reuse related parts from your Assignment 1 report.**"
   ]
  },
  {
   "cell_type": "code",
   "execution_count": 1,
   "metadata": {},
   "outputs": [],
   "source": [
    "import gym\n",
    "import gym.spaces as spaces\n",
    "import numpy as np"
   ]
  },
  {
   "cell_type": "code",
   "execution_count": 3,
   "metadata": {},
   "outputs": [],
   "source": [
    "class GridEnvironment(gym.Env):\n",
    "    metadata = { 'render.modes': []}\n",
    "\n",
    "  #mode=0 (deterministic); mode=1 (stochastic)\n",
    "    def __init__(self, mode=0, rows=4, cols=4):\n",
    "        self.rows = int(rows);  self.cols = int(cols)\n",
    "        self.observation_space = spaces.Discrete(self.rows*self.cols)\n",
    "        self.action_space = spaces.Discrete(4)\n",
    "        self.max_timesteps = 4* self.rows* self.cols\n",
    "        self.qa_table = self.set_q_table()\n",
    "        self.mode = mode\n",
    "        # self.qa_table = np.zeros((16,4))\n",
    "\n",
    "    def set_q_table(self):\n",
    "        qa_table = {}\n",
    "        for i in range(self.rows):\n",
    "            for j in range(self.cols):\n",
    "                qa_table[(i,j)] = np.zeros(4)\n",
    "        return qa_table\n",
    "\n",
    "    def reset(self):\n",
    "        self.timestep = 0\n",
    "        self.agent_pos = [0, 0]\n",
    "        self.goal_pos = [3, 3]\n",
    "        #rewards update\n",
    "        self.reward = np.array([0,1,2,3,1,2,3,4,2,3,4,5,3,4,5,150]).reshape(4,4)\n",
    "        self.state = np.zeros((4, 4))\n",
    "        self.state[tuple(self.agent_pos)] = 1\n",
    "        self.state[tuple(self.goal_pos)] = 0.5\n",
    "        # self.qa_table = np.zeros((4,4))\n",
    "        observation = self.state.flatten()\n",
    "        return observation\n",
    "\n",
    "    def get_action(self, eps):\n",
    "        num = np.random.random()\n",
    "        if num > eps:\n",
    "            #best action\n",
    "            action = (self.qa_table[tuple(self.agent_pos)]).argmax()\n",
    "        else:\n",
    "            #random action\n",
    "            action = np.random.choice([0,1,2,3])\n",
    "        return action\n",
    "\n",
    "    def step(self, action):\n",
    "        prob = np.random.random()\n",
    "        # prob = 0.05\n",
    "        # (self.agent_pos[0] == self.agent_pos[1]) and \n",
    "        if self.mode==1 and prob<0.05:\n",
    "            pass\n",
    "        else:\n",
    "            if action == 0:\n",
    "                self.agent_pos[0] += 1\n",
    "            if action == 1:\n",
    "                self.agent_pos[0] -= 1\n",
    "            if action == 2:\n",
    "                self.agent_pos[1] += 1\n",
    "            if action == 3:\n",
    "                self.agent_pos[1] -= 1        \n",
    "    \n",
    "        self.agent_pos = np.clip(self.agent_pos, 0, self.rows-1)\n",
    "        self.state = np.zeros((self.rows,self.cols))\n",
    "        self.state[tuple(self.agent_pos)] = 1\n",
    "        self.state[tuple(self.goal_pos)] = 0.5\n",
    "        observation = self.state.flatten()\n",
    "\n",
    "        # reward = np.random.choice(self.reward)\n",
    "        reward = self.reward[tuple(self.agent_pos)]\n",
    "        self.reward[tuple(self.agent_pos)]=0\n",
    "        # print(reward)\n",
    "\n",
    "        self.timestep += 1\n",
    "        done = True if self.timestep >= self.max_timesteps or (self.agent_pos == self.goal_pos).all() else False\n",
    "        info = {}\n",
    "\n",
    "        return observation, reward, done, info\n",
    "\n",
    "    def render(self):\n",
    "        plt.imshow(self.state)"
   ]
  },
  {
   "cell_type": "code",
   "execution_count": null,
   "metadata": {},
   "outputs": [],
   "source": []
  },
  {
   "cell_type": "code",
   "execution_count": null,
   "metadata": {},
   "outputs": [],
   "source": []
  },
  {
   "cell_type": "markdown",
   "metadata": {},
   "source": [
    "### Deep Q-network"
   ]
  },
  {
   "cell_type": "markdown",
   "metadata": {},
   "source": [
    "#### Step 1: Construct a 'Replay Buffer' for 'Experience Replay'.\n",
    "\n",
    "\n",
    "`Replay Buffer`: We can store an agent's experiences at each step's tuple like (state, action, reward, next state, done) in a data set and sample the memory randomly from the 'Replay Buffer' for a minibatch of these experiences for off-policy learning. By applying this method, the problem of autocorrelation which leads to unstable training can be alleviated."
   ]
  },
  {
   "cell_type": "code",
   "execution_count": 4,
   "metadata": {},
   "outputs": [],
   "source": [
    "from random import sample"
   ]
  },
  {
   "cell_type": "code",
   "execution_count": 5,
   "metadata": {},
   "outputs": [],
   "source": [
    "# Store the transition sample and\n",
    "# return the part of it by random sampling.\n",
    "class ReplayBuffer:\n",
    "    def __init__(self, max_size):\n",
    "        # [None, None, ..., None]\n",
    "        self.buffer = [None] * max_size\n",
    "        # max_size: the maximum number of experiences that\n",
    "        # the ReplayBuffer can possess\n",
    "        self.max_size = max_size\n",
    "        # to track how many spaces are filled in the buffer\n",
    "        self.index = 0\n",
    "        self.size = 0\n",
    "        \n",
    "    def push(self, experience):\n",
    "        # experience = (state, action, reward, next_state, done)\n",
    "        self.buffer[self.index] = experience\n",
    "        self.size = min(self.size + 1, self.max_size)\n",
    "        # Refresh the next 'self.index'\n",
    "        # once the number of experiences in the RepalyBuffer\n",
    "        # reaches the size of the buffer. \n",
    "        self.index = (self.index + 1) % self.max_size\n",
    "        \n",
    "    def sample(self, batch_size):\n",
    "        indices = sample(range(self.size), batch_size)\n",
    "        return [self.buffer[index] for index in indices]\n",
    "        \n",
    "    def __len__(self):\n",
    "        return self.size"
   ]
  },
  {
   "cell_type": "code",
   "execution_count": 6,
   "metadata": {},
   "outputs": [],
   "source": [
    "import torch"
   ]
  },
  {
   "cell_type": "code",
   "execution_count": 7,
   "metadata": {},
   "outputs": [],
   "source": [
    "# If we were to use gpu resources...\n",
    "def to_device_cpu(sample, device = 'cpu'):\n",
    "    states = []\n",
    "    actions = []\n",
    "    rewards = []\n",
    "    next_states = []\n",
    "    dones = []\n",
    "    \n",
    "    for i in sample:\n",
    "        states.append(i[0])\n",
    "        actions.append(i[1])\n",
    "        rewards.append(i[2])\n",
    "        next_states.append(i[3])\n",
    "        dones.append(i[4])\n",
    "    \n",
    "    # allocate states, actions, rewards, next_states, and dones\n",
    "    # for using gpu, device = 'cuda'\n",
    "    states = torch.cat(states, dim = 0).float().to(device)\n",
    "    actions = torch.cat(actions, dim = 0).float().to(device)\n",
    "    rewards = torch.cat(rewards, dim = 0).float().to(device)\n",
    "    next_states = torch.cat(next_states, dim = 0).float().to(device)\n",
    "    dones = torch.cat(dones, dim = 0).float().to(device)\n",
    "    \n",
    "    return states, actions, rewards, next_states, dones"
   ]
  },
  {
   "cell_type": "markdown",
   "metadata": {},
   "source": [
    "#### Step 2: Instantiate DQN which employs a target network.\n",
    "\n",
    "DQN's loss function:\n",
    "$$ \\mathcal{L}(s_i, a_i, r_i, s_i^{'}) = |r_i+\\gamma \\max_{a'} Q_\\theta(s_i^{'},a')-Q_\\theta(s_i, a_i)|_2$$\n",
    "\n",
    "$$(s_i, a_i, r_i, s_i^{'}) \\sim \\mathcal{D}$$\n",
    "\n",
    "$s_i$: state at '$i$'\n",
    "\n",
    "$a_i$: action at '$i$'\n",
    "\n",
    "$r_i$: reward for $s_i$ & $a_i$\n",
    "\n",
    "$s_i^{'}$: state at '$i + 1$'\n",
    "\n",
    "$r_i+\\gamma \\max_{a'} Q_\\theta(s_i^{'},a')$: Q Target (Not that $\\max_{a'} Q_\\theta(s_i^{'},a')$ from the target network.)\n",
    "\n",
    "$\\mathcal{D}$: 'Replay Buffer'\n",
    "<br>\n",
    "<br>\n",
    "<br>\n",
    "<br>\n",
    "Gradient Descent for Losses on average:\n",
    "$$\\theta \\leftarrow \\theta + \\eta \\frac{\\partial \\frac{1}{m}\\sum_{i=1}^{m}\\mathcal{L}(s_i, a_i, r_i, s_i^{'})}{\\partial \\theta}$$\n",
    "\n",
    "$\\theta$: parameters\n",
    "\n",
    "$\\eta$: learning rate\n",
    "\n",
    "$m$: the number of experiences randomly sampled from the 'Replay Buffer'"
   ]
  },
  {
   "cell_type": "code",
   "execution_count": 8,
   "metadata": {},
   "outputs": [],
   "source": [
    "import torch.nn as nn"
   ]
  },
  {
   "cell_type": "code",
   "execution_count": 9,
   "metadata": {},
   "outputs": [],
   "source": [
    "class DQN(nn.Module):\n",
    "    def __init__(self,\n",
    "                 state_space: int,\n",
    "                 action_space: int,\n",
    "                 q_network: nn.Module,\n",
    "                 target_network: nn.Module,\n",
    "                 lr: float,\n",
    "                 gamma: float,\n",
    "                 eps: float):\n",
    "        \"\"\"\n",
    "        state_space: input state dimension\n",
    "        action_space: input action dimension\n",
    "        q_network: main Q-network\n",
    "        target_network: Target Q-network\n",
    "        lr: learning rate\n",
    "        gamma: discount factor\n",
    "        eps: epsilon-greedy factor\n",
    "        \"\"\"\n",
    "        \n",
    "        super(DQN, self).__init__()\n",
    "        self.state_space = state_space\n",
    "        self.action_space = action_space\n",
    "        self.q_network = q_network\n",
    "        self.lr = lr\n",
    "        self.gamma = gamma\n",
    "        self.eps = eps\n",
    "        # We need to choose which optimizer to use..\n",
    "        self.optimizer = torch.optim.Adam(\n",
    "            params = self.q_network.parameters(), lr = lr)\n",
    "        # to track epsilon values\n",
    "        self.register_buffer('epsilon', torch.ones(1) * eps)\n",
    "        # for the target network\n",
    "        self.target_network = target_network\n",
    "        self.criteria = nn.MSELoss()\n",
    "        \n",
    "    def get_action(self, state):\n",
    "        prob = np.random.uniform(0.0, 1.0, 1)\n",
    "        # when a random action selected\n",
    "        if torch.from_numpy(prob).float() <= self.eps:\n",
    "            return np.random.choice(range(self.action_space))\n",
    "        # when the greedy action selected\n",
    "        else:\n",
    "            # self.q_network(state): predicted Q value via forward process\n",
    "            return self.q_network(state).argmax(dim = -1)\n",
    "    \n",
    "    # training via the QLearner instance which is defined below\n",
    "    # for every input mini-batch\n",
    "    def update(self, state, action, reward, next_state, done):\n",
    "        # not need to compute gradients for the target network parameters\n",
    "        with torch.no_grad():\n",
    "            # Only state values required for our DQN\n",
    "            # unlike Naive DQNs which requires states and actions\n",
    "            # for inputs\n",
    "            max_q = self.target_network(next_state)\n",
    "            q_target = reward + self.gamma * max_q * (1 - done)\n",
    "#        print(state+\"\\n\"+type(state))\n",
    "        q_val = self.q_network(state)\n",
    "        # Compute errors using the given criterion.\n",
    "        loss = self.criteria(q_val, q_target)\n",
    "        # Zero the gradient buffers of all parameters.\n",
    "        self.optimizer.zero_grad()\n",
    "        # Compute partial derivatives via back propagation.\n",
    "        loss.backward()\n",
    "        # Improve our estimates using the given gradient descent algorithm.\n",
    "        self.optimizer.step()"
   ]
  },
  {
   "cell_type": "markdown",
   "metadata": {},
   "source": [
    "#### Step 3: Target Network"
   ]
  },
  {
   "cell_type": "code",
   "execution_count": 10,
   "metadata": {},
   "outputs": [],
   "source": [
    "# Instantiate a multi-layter perceptron to approximate Q function.\n",
    "class QLearner(nn.Module):\n",
    "    # 3 hidden layers\n",
    "    # Use ReLU for the activation fcn in hidden layers.\n",
    "    # Use Identity for the activation in the output layer.\n",
    "    def __init__(self,\n",
    "                 input_dim: int,\n",
    "                 output_dim: int,\n",
    "                 num_neurons: list = [128, 64, 32],\n",
    "                 hidden_activation: str = 'ReLU',\n",
    "                 out_activation: str = 'Identity'):\n",
    "        super(QLearner, self).__init__()\n",
    "        # 3 layers\n",
    "        self.input_dim = input_dim\n",
    "        self.output_dim = output_dim\n",
    "        self.num_neurons = num_neurons\n",
    "        self.hidden_activation = getattr(nn, hidden_activation)()\n",
    "        self.out_activation = getattr(nn, out_activation)()\n",
    "        \n",
    "        input_dims = [input_dim] + num_neurons\n",
    "        output_dims = num_neurons + [output_dim]\n",
    "\n",
    "        self.layers = nn.ModuleList()\n",
    "        for i, (in_dim, out_dim) in enumerate(zip(input_dims, output_dims)):\n",
    "            is_last = True if i == len(input_dims) - 1 else False\n",
    "            self.layers.append(nn.Linear(in_dim, out_dim))\n",
    "            if is_last:\n",
    "                self.layers.append(self.out_activation)\n",
    "            else:\n",
    "                self.layers.append(self.hidden_activation)\n",
    "        \n",
    "    def forward(self, x):\n",
    "#        print(len(self.layers))\n",
    "        for layer in self.layers:\n",
    "#            print(layer,\"\\nP1\")\n",
    "#            print(x,\"\\nP2\")\n",
    "            x = layer(x)\n",
    "        return x"
   ]
  },
  {
   "cell_type": "code",
   "execution_count": 11,
   "metadata": {},
   "outputs": [],
   "source": [
    "q_network = QLearner(input_dim = 1,\n",
    "                     output_dim = 1,\n",
    "                     num_neurons = [128, 64, 32])\n",
    "# The target network has the same parameters and structure as 'q_network'.\n",
    "target_network = QLearner(input_dim = 1,\n",
    "                          output_dim = 1,\n",
    "                          num_neurons = [128, 64, 32])"
   ]
  },
  {
   "cell_type": "markdown",
   "metadata": {},
   "source": [
    "#### Step 4: Setting Hyperparameters"
   ]
  },
  {
   "cell_type": "code",
   "execution_count": 12,
   "metadata": {},
   "outputs": [],
   "source": [
    "state_space = 16\n",
    "action_space = 4\n",
    "\n",
    "# the number of episodes\n",
    "num_epsiodes = 3000\n",
    "\n",
    "# Hyperparameters\n",
    "lr = 1e-3\n",
    "gamma = 0.99\n",
    "eps = 1.0\n",
    "eps_decaying = 0.99847 # epsilon-decaying factor\n",
    "                       # decay factor = (Final eps / Initial eps)^(1 / number of episodes)\n",
    "interval = 50 # the parameter for the interval \n",
    "              # For example, we update the target network for every 'interval'.\n",
    "# and hyperparameters for the ReplayBuffer instance..\n",
    "memory_size = 50000\n",
    "batch_size = 256"
   ]
  },
  {
   "cell_type": "markdown",
   "metadata": {},
   "source": [
    "#### Step 5: Set Instantiate the DQN, our environment, and the Replay Buffer."
   ]
  },
  {
   "cell_type": "code",
   "execution_count": 13,
   "metadata": {},
   "outputs": [],
   "source": [
    "dqn = DQN(state_space,\n",
    "          action_space,\n",
    "          q_network = q_network,\n",
    "          target_network = target_network,\n",
    "          lr = lr,\n",
    "          gamma = gamma,\n",
    "          eps = eps)\n",
    "env = GridEnvironment(gym.Env)\n",
    "memory = ReplayBuffer(memory_size)"
   ]
  },
  {
   "cell_type": "markdown",
   "metadata": {},
   "source": [
    "#### Step 6: Training using an episode"
   ]
  },
  {
   "cell_type": "code",
   "execution_count": 14,
   "metadata": {},
   "outputs": [],
   "source": [
    "def to_tensor(np_array: np.array, size = None) -> torch.tensor:\n",
    "    torch_tensor = torch.from_numpy(np_array).float()\n",
    "#     torch_tensor = torch.from_numpy(np_array)\n",
    "#     torch_tensor = torch.tensor(torch_tensor, dtype=torch.float32)\n",
    "    if size is not None:\n",
    "        torch_tensor = torch_tensor.view(size)\n",
    "    return torch_tensor"
   ]
  },
  {
   "cell_type": "code",
   "execution_count": 16,
   "metadata": {},
   "outputs": [
    {
     "name": "stderr",
     "output_type": "stream",
     "text": [
      "C:\\Users\\1suof\\AppData\\Local\\Temp\\ipykernel_3596\\1867466065.py:32: UserWarning: To copy construct from a tensor, it is recommended to use sourceTensor.clone().detach() or sourceTensor.clone().detach().requires_grad_(True), rather than torch.tensor(sourceTensor).\n",
      "  torch.tensor(action).view(1, 1),\n"
     ]
    },
    {
     "name": "stdout",
     "output_type": "stream",
     "text": [
      "Episode:    0 |Total Reward:   18 |Epsilon: 0.997\n",
      "Episode:  500 |Total Reward:  165 |Epsilon: 0.464\n",
      "Episode: 1000 |Total Reward:   22 |Epsilon: 0.216\n",
      "Episode: 1500 |Total Reward:   13 |Epsilon: 0.100\n",
      "Episode: 2000 |Total Reward:   13 |Epsilon: 0.047\n",
      "Episode: 2500 |Total Reward:    6 |Epsilon: 0.022\n"
     ]
    }
   ],
   "source": [
    "total_rewards = []\n",
    "epsilon = []\n",
    "print_every = 500\n",
    "\n",
    "for ep in range(num_epsiodes):\n",
    "    eps = eps * eps_decaying\n",
    "    dqn.eps = torch.tensor(eps)\n",
    "    env.reset()\n",
    "#    count = 0\n",
    "    total_reward = 0\n",
    "    state = env.agent_pos[0] * 4 + env.agent_pos[1]\n",
    "    # for an episode..\n",
    "    while True:\n",
    "#        count += 1\n",
    "        \n",
    "#         state = torch.from_numpy(np.array(env.agent_pos[0] * 4 + env.agent_pos[1]))\n",
    "        \n",
    "#         if count == 1:\n",
    "#             state = to_tensor(state, size = (1, 1))\n",
    "              \n",
    "        state = env.agent_pos[0] * 4 + env.agent_pos[1]\n",
    "        action = dqn.get_action(torch.tensor(float(state)).view(1, 1))\n",
    "        _, reward, done, _ = env.step(action)\n",
    "        next_state = env.agent_pos[0] * 4 + env.agent_pos[1]\n",
    "#        next_state = torch.tensor(next_state).view(1)\n",
    "#        reward = torch.tensor(reward).view(1, 1)\n",
    "#        done = torch.tensor(done).view(1, 1)\n",
    "#        total_reward += reward\n",
    "\n",
    "        # Create a tuple for an experience and push it into the Replay Buffer.\n",
    "        experience = (torch.tensor(state).view(1, 1),\n",
    "                      torch.tensor(action).view(1, 1),\n",
    "                      torch.tensor(reward).view(1, 1),\n",
    "                      torch.tensor(next_state).view(1, 1),\n",
    "                      torch.tensor(done).view(1, 1))\n",
    "        memory.push(experience)\n",
    "\n",
    "        state = next_state\n",
    "        total_reward += reward\n",
    "\n",
    "        if done: # Terminate the loop once an episode ends.\n",
    "            break\n",
    "\n",
    "    total_rewards.append(total_reward)\n",
    "    epsilon.append(eps)\n",
    "        \n",
    "    if len(memory) >= batch_size:\n",
    "        sampled = memory.sample(batch_size)\n",
    "        sampled = to_device_cpu(sampled)\n",
    "        dqn.update(*sampled)\n",
    "\n",
    "    # Overwrite the estimates of 'q_network' in the target network.\n",
    "    if ep % interval == 0:\n",
    "        target_network.load_state_dict(q_network.state_dict())\n",
    "\n",
    "#        state = next_state\n",
    "    \n",
    "    if ep % print_every == 0:\n",
    "        print(f\"Episode: {ep:4.0f} |\"\n",
    "              + f\"Total Reward: {total_reward:4.0f} |\"\n",
    "              + f\"Epsilon: {eps:.3f}\")"
   ]
  },
  {
   "cell_type": "markdown",
   "metadata": {},
   "source": [
    "The answer for the following question:\n",
    "\n",
    "**3. Show and discuss your results after applying your DQN implementation on the environment. Plots\n",
    "should include epsilon decay and the reward per episode.**"
   ]
  },
  {
   "cell_type": "code",
   "execution_count": 17,
   "metadata": {},
   "outputs": [],
   "source": [
    "import matplotlib.pyplot as plt"
   ]
  },
  {
   "cell_type": "code",
   "execution_count": 18,
   "metadata": {},
   "outputs": [
    {
     "data": {
      "image/png": "[encoded data removed]",
      "text/plain": [
       "<Figure size 432x288 with 1 Axes>"
      ]
     },
     "metadata": {
      "needs_background": "light"
     },
     "output_type": "display_data"
    }
   ],
   "source": [
    "# the plot for epsilons\n",
    "fig, ax = plt.subplots()\n",
    "# gamma = 0.99, factor = 0.955\n",
    "ax.plot(epsilon, color = \"dodgerblue\")\n",
    "ax.set_xlabel(\"Episodes\", fontsize = 14)\n",
    "ax.set_ylabel(\"Epsilon\", color = \"black\", fontsize = 14)\n",
    "plt.title('Decaying Epsilon', color = \"darkgrey\", fontsize = 20)\n",
    "plt.show()"
   ]
  },
  {
   "cell_type": "code",
   "execution_count": 19,
   "metadata": {},
   "outputs": [
    {
     "data": {
      "image/png": "[encoded data removed]",
      "text/plain": [
       "<Figure size 432x288 with 1 Axes>"
      ]
     },
     "metadata": {
      "needs_background": "light"
     },
     "output_type": "display_data"
    }
   ],
   "source": [
    "# the plot for rewards\n",
    "fig, ax = plt.subplots()\n",
    "# gamma = 0.99, factor = 0.955\n",
    "ax.plot(total_rewards, color = \"dodgerblue\")\n",
    "ax.set_xlabel(\"Episodes\", fontsize = 14)\n",
    "ax.set_ylabel(\"Total Rewards\", color = \"black\", fontsize = 14)\n",
    "plt.title('Total Rewards', color = \"darkgrey\", fontsize = 20)\n",
    "plt.show()"
   ]
  },
  {
   "cell_type": "markdown",
   "metadata": {},
   "source": [
    "#### Step 7: Training through multiple episodes"
   ]
  },
  {
   "cell_type": "code",
   "execution_count": 27,
   "metadata": {},
   "outputs": [],
   "source": [
    "# Instantiate new networks. \n",
    "q_network_2 = QLearner(input_dim = 1,\n",
    "                       output_dim = 1,\n",
    "                       num_neurons = [128, 64, 32])\n",
    "target_network_2 = QLearner(input_dim = 1,\n",
    "                            output_dim = 1,\n",
    "                            num_neurons = [128, 64, 32])\n",
    "\n",
    "# Instance for a new DQN\n",
    "eps = 1.0\n",
    "dqn_2 = DQN(state_space,\n",
    "            action_space,\n",
    "            q_network = q_network_2,\n",
    "            target_network = target_network_2,\n",
    "            lr = lr,\n",
    "            gamma = gamma,\n",
    "            eps = eps)\n",
    "\n",
    "# Instantiate a new replay memeory.\n",
    "memory_2 = ReplayBuffer(memory_size)"
   ]
  },
  {
   "cell_type": "markdown",
   "metadata": {},
   "source": [
    "The agent chooses only greedy actions from the learnt policy.\n",
    "Not need to improve the network and to store data for 'Experience Replay'. We just carry out evaluating the greedy policy."
   ]
  },
  {
   "cell_type": "code",
   "execution_count": 28,
   "metadata": {},
   "outputs": [
    {
     "name": "stderr",
     "output_type": "stream",
     "text": [
      "C:\\Users\\1suof\\AppData\\Local\\Temp\\ipykernel_3596\\2650900925.py:19: UserWarning: To copy construct from a tensor, it is recommended to use sourceTensor.clone().detach() or sourceTensor.clone().detach().requires_grad_(True), rather than torch.tensor(sourceTensor).\n",
      "  torch.tensor(action).view(1, 1),\n"
     ]
    },
    {
     "name": "stdout",
     "output_type": "stream",
     "text": [
      "Episode:    0 |Total Reward:    6\n",
      "Episode:  500 |Total Reward:    6\n",
      "Episode: 1000 |Total Reward:    6\n",
      "Episode: 1500 |Total Reward:    6\n",
      "Episode: 2000 |Total Reward:    6\n",
      "Episode: 2500 |Total Reward:    6\n"
     ]
    }
   ],
   "source": [
    "total_rewards_greedy = []\n",
    "print_every = 500\n",
    "\n",
    "for ep in range(num_epsiodes):\n",
    "    env.reset()\n",
    "    total_reward = 0\n",
    "    state = env.agent_pos[0] * 4 + env.agent_pos[1]\n",
    "    # for an episode..\n",
    "    while True:\n",
    "              \n",
    "        state = env.agent_pos[0] * 4 + env.agent_pos[1]\n",
    "        # The agent chooses actions only in terms of greedy policy.\n",
    "        action = dqn.q_network(torch.tensor(float(state)).view(1, 1)).argmax(dim = -1)\n",
    "        _, reward, done, _ = env.step(action)\n",
    "        next_state = env.agent_pos[0] * 4 + env.agent_pos[1]\n",
    "\n",
    "        # Create a tuple for an experience and push it into the Replay Buffer.\n",
    "        experience = (torch.tensor(state).view(1, 1),\n",
    "                      torch.tensor(action).view(1, 1),\n",
    "                      torch.tensor(reward).view(1, 1),\n",
    "                      torch.tensor(next_state).view(1, 1),\n",
    "                      torch.tensor(done).view(1, 1))\n",
    "        memory_2.push(experience)\n",
    "\n",
    "        state = next_state\n",
    "        total_reward += reward\n",
    "\n",
    "        if done: # Terminate the loop once an episode ends.\n",
    "            break\n",
    "\n",
    "    total_rewards_greedy.append(total_reward)\n",
    "        \n",
    "    if len(memory_2) >= batch_size:\n",
    "        sampled = memory_2.sample(batch_size)\n",
    "        sampled = to_device_cpu(sampled)\n",
    "        dqn_2.update(*sampled)\n",
    "\n",
    "    # Overwrite the estimates of 'q_network' in the target network.\n",
    "    if ep % interval == 0:\n",
    "        target_network_2.load_state_dict(q_network_2.state_dict())\n",
    "    \n",
    "    if ep % print_every == 0:\n",
    "        print(f\"Episode: {ep:4.0f} |\"\n",
    "              + f\"Total Reward: {total_reward:4.0f}\")"
   ]
  },
  {
   "cell_type": "markdown",
   "metadata": {},
   "source": [
    "The answer for the following question:\n",
    "\n",
    "**4. Provide the evaluation results. Run your environment for at least 5 episodes, where the agent chooses\n",
    "only greedy actions from the learnt policy. Plot should include the total reward per episode.**"
   ]
  },
  {
   "cell_type": "code",
   "execution_count": 29,
   "metadata": {},
   "outputs": [
    {
     "data": {
      "image/png": "[encoded data removed]",
      "text/plain": [
       "<Figure size 432x288 with 1 Axes>"
      ]
     },
     "metadata": {
      "needs_background": "light"
     },
     "output_type": "display_data"
    }
   ],
   "source": [
    "# the plot for total rewards of the greedy policy\n",
    "fig, ax = plt.subplots()\n",
    "# gamma = 0.99, factor = 0.955\n",
    "ax.plot(total_rewards_greedy, color = \"dodgerblue\")\n",
    "ax.set_xlabel(\"Episodes\", fontsize = 14)\n",
    "ax.set_ylabel(\"Total Rewards\", color = \"black\", fontsize = 14)\n",
    "plt.title('Total Rewards (Greedy Policy)', color = \"darkgrey\", fontsize = 20)\n",
    "plt.show()"
   ]
  },
  {
   "cell_type": "code",
   "execution_count": null,
   "metadata": {},
   "outputs": [],
   "source": []
  }
 ],
 "metadata": {
  "kernelspec": {
   "display_name": "Python 3",
   "language": "python",
   "name": "python3"
  },
  "language_info": {
   "codemirror_mode": {
    "name": "ipython",
    "version": 3
   },
   "file_extension": ".py",
   "mimetype": "text/x-python",
   "name": "python",
   "nbconvert_exporter": "python",
   "pygments_lexer": "ipython3",
   "version": "3.8.10"
  }
 },
 "nbformat": 4,
 "nbformat_minor": 5
}
