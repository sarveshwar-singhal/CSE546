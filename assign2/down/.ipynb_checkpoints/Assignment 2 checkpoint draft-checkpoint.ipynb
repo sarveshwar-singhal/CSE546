{
 "cells": [
  {
   "cell_type": "markdown",
   "metadata": {},
   "source": [
    "# Assignment 2 - Team 16\n",
    "---"
   ]
  },
  {
   "cell_type": "markdown",
   "metadata": {},
   "source": [
    "## Part I - Exploring OpenAI Gym Environments"
   ]
  },
  {
   "cell_type": "code",
   "execution_count": 1,
   "metadata": {},
   "outputs": [
    {
     "name": "stdout",
     "output_type": "stream",
     "text": [
      "Requirement already satisfied: gym in c:\\programdata\\miniconda3\\lib\\site-packages (0.21.0)\n",
      "Requirement already satisfied: cloudpickle>=1.2.0 in c:\\programdata\\miniconda3\\lib\\site-packages (from gym) (2.0.0)\n",
      "Requirement already satisfied: numpy>=1.18.0 in c:\\programdata\\miniconda3\\lib\\site-packages (from gym) (1.22.2)\n"
     ]
    }
   ],
   "source": [
    "!pip install gym"
   ]
  },
  {
   "cell_type": "code",
   "execution_count": 2,
   "metadata": {},
   "outputs": [
    {
     "name": "stderr",
     "output_type": "stream",
     "text": [
      "'apt-get' is not recognized as an internal or external command,\n",
      "operable program or batch file.\n",
      "'apt' is not recognized as an internal or external command,\n",
      "operable program or batch file.\n"
     ]
    },
    {
     "name": "stdout",
     "output_type": "stream",
     "text": [
      "Requirement already satisfied: pyvirtualdisplay in c:\\programdata\\miniconda3\\lib\\site-packages (3.0)\n",
      "Collecting piglet\n",
      "  Downloading piglet-1.0.0-py2.py3-none-any.whl (2.2 kB)\n",
      "Collecting piglet-templates\n",
      "  Downloading piglet_templates-1.2.0-py3-none-any.whl (67 kB)\n",
      "Requirement already satisfied: markupsafe in c:\\programdata\\miniconda3\\lib\\site-packages (from piglet-templates->piglet) (2.0.1)\n",
      "Requirement already satisfied: astunparse in c:\\programdata\\miniconda3\\lib\\site-packages (from piglet-templates->piglet) (1.6.3)\n",
      "Requirement already satisfied: pyparsing in c:\\programdata\\miniconda3\\lib\\site-packages (from piglet-templates->piglet) (3.0.7)\n",
      "Requirement already satisfied: attrs in c:\\programdata\\miniconda3\\lib\\site-packages (from piglet-templates->piglet) (21.4.0)\n",
      "Requirement already satisfied: six<2.0,>=1.6.1 in c:\\programdata\\miniconda3\\lib\\site-packages (from astunparse->piglet-templates->piglet) (1.16.0)\n",
      "Requirement already satisfied: wheel<1.0,>=0.23.0 in c:\\programdata\\miniconda3\\lib\\site-packages (from astunparse->piglet-templates->piglet) (0.36.2)\n",
      "Installing collected packages: piglet-templates, piglet\n",
      "Successfully installed piglet-1.0.0 piglet-templates-1.2.0\n"
     ]
    }
   ],
   "source": [
    "!apt-get install python-opengl -y\n",
    "!apt install xvfb -y\n",
    "!pip install pyvirtualdisplay\n",
    "!pip install piglet"
   ]
  },
  {
   "cell_type": "code",
   "execution_count": 2,
   "metadata": {},
   "outputs": [],
   "source": [
    "import gym\n",
    "import matplotlib.pyplot as plt\n",
    "from gym import wrappers\n",
    "%matplotlib inline"
   ]
  },
  {
   "cell_type": "code",
   "execution_count": 3,
   "metadata": {},
   "outputs": [
    {
     "name": "stdout",
     "output_type": "stream",
     "text": [
      "EnvSpec(CartPole-v0)\n",
      "EnvSpec(CartPole-v1)\n",
      "EnvSpec(MountainCar-v0)\n",
      "EnvSpec(MountainCarContinuous-v0)\n",
      "EnvSpec(Pendulum-v1)\n",
      "EnvSpec(Acrobot-v1)\n",
      "EnvSpec(LunarLander-v2)\n",
      "EnvSpec(LunarLanderContinuous-v2)\n",
      "EnvSpec(BipedalWalker-v3)\n",
      "EnvSpec(BipedalWalkerHardcore-v3)\n",
      "EnvSpec(CarRacing-v0)\n",
      "EnvSpec(Blackjack-v1)\n",
      "EnvSpec(FrozenLake-v1)\n",
      "EnvSpec(FrozenLake8x8-v1)\n",
      "EnvSpec(CliffWalking-v0)\n",
      "EnvSpec(Taxi-v3)\n",
      "EnvSpec(Reacher-v2)\n",
      "EnvSpec(Pusher-v2)\n",
      "EnvSpec(Thrower-v2)\n",
      "EnvSpec(Striker-v2)\n",
      "EnvSpec(InvertedPendulum-v2)\n",
      "EnvSpec(InvertedDoublePendulum-v2)\n",
      "EnvSpec(HalfCheetah-v2)\n",
      "EnvSpec(HalfCheetah-v3)\n",
      "EnvSpec(Hopper-v2)\n",
      "EnvSpec(Hopper-v3)\n",
      "EnvSpec(Swimmer-v2)\n",
      "EnvSpec(Swimmer-v3)\n",
      "EnvSpec(Walker2d-v2)\n",
      "EnvSpec(Walker2d-v3)\n",
      "EnvSpec(Ant-v2)\n",
      "EnvSpec(Ant-v3)\n",
      "EnvSpec(Humanoid-v2)\n",
      "EnvSpec(Humanoid-v3)\n",
      "EnvSpec(HumanoidStandup-v2)\n",
      "EnvSpec(FetchSlide-v1)\n",
      "EnvSpec(FetchPickAndPlace-v1)\n",
      "EnvSpec(FetchReach-v1)\n",
      "EnvSpec(FetchPush-v1)\n",
      "EnvSpec(HandReach-v0)\n",
      "EnvSpec(HandManipulateBlockRotateZ-v0)\n",
      "EnvSpec(HandManipulateBlockRotateZTouchSensors-v0)\n",
      "EnvSpec(HandManipulateBlockRotateZTouchSensors-v1)\n",
      "EnvSpec(HandManipulateBlockRotateParallel-v0)\n",
      "EnvSpec(HandManipulateBlockRotateParallelTouchSensors-v0)\n",
      "EnvSpec(HandManipulateBlockRotateParallelTouchSensors-v1)\n",
      "EnvSpec(HandManipulateBlockRotateXYZ-v0)\n",
      "EnvSpec(HandManipulateBlockRotateXYZTouchSensors-v0)\n",
      "EnvSpec(HandManipulateBlockRotateXYZTouchSensors-v1)\n",
      "EnvSpec(HandManipulateBlockFull-v0)\n",
      "EnvSpec(HandManipulateBlock-v0)\n",
      "EnvSpec(HandManipulateBlockTouchSensors-v0)\n",
      "EnvSpec(HandManipulateBlockTouchSensors-v1)\n",
      "EnvSpec(HandManipulateEggRotate-v0)\n",
      "EnvSpec(HandManipulateEggRotateTouchSensors-v0)\n",
      "EnvSpec(HandManipulateEggRotateTouchSensors-v1)\n",
      "EnvSpec(HandManipulateEggFull-v0)\n",
      "EnvSpec(HandManipulateEgg-v0)\n",
      "EnvSpec(HandManipulateEggTouchSensors-v0)\n",
      "EnvSpec(HandManipulateEggTouchSensors-v1)\n",
      "EnvSpec(HandManipulatePenRotate-v0)\n",
      "EnvSpec(HandManipulatePenRotateTouchSensors-v0)\n",
      "EnvSpec(HandManipulatePenRotateTouchSensors-v1)\n",
      "EnvSpec(HandManipulatePenFull-v0)\n",
      "EnvSpec(HandManipulatePen-v0)\n",
      "EnvSpec(HandManipulatePenTouchSensors-v0)\n",
      "EnvSpec(HandManipulatePenTouchSensors-v1)\n",
      "EnvSpec(FetchSlideDense-v1)\n",
      "EnvSpec(FetchPickAndPlaceDense-v1)\n",
      "EnvSpec(FetchReachDense-v1)\n",
      "EnvSpec(FetchPushDense-v1)\n",
      "EnvSpec(HandReachDense-v0)\n",
      "EnvSpec(HandManipulateBlockRotateZDense-v0)\n",
      "EnvSpec(HandManipulateBlockRotateZTouchSensorsDense-v0)\n",
      "EnvSpec(HandManipulateBlockRotateZTouchSensorsDense-v1)\n",
      "EnvSpec(HandManipulateBlockRotateParallelDense-v0)\n",
      "EnvSpec(HandManipulateBlockRotateParallelTouchSensorsDense-v0)\n",
      "EnvSpec(HandManipulateBlockRotateParallelTouchSensorsDense-v1)\n",
      "EnvSpec(HandManipulateBlockRotateXYZDense-v0)\n",
      "EnvSpec(HandManipulateBlockRotateXYZTouchSensorsDense-v0)\n",
      "EnvSpec(HandManipulateBlockRotateXYZTouchSensorsDense-v1)\n",
      "EnvSpec(HandManipulateBlockFullDense-v0)\n",
      "EnvSpec(HandManipulateBlockDense-v0)\n",
      "EnvSpec(HandManipulateBlockTouchSensorsDense-v0)\n",
      "EnvSpec(HandManipulateBlockTouchSensorsDense-v1)\n",
      "EnvSpec(HandManipulateEggRotateDense-v0)\n",
      "EnvSpec(HandManipulateEggRotateTouchSensorsDense-v0)\n",
      "EnvSpec(HandManipulateEggRotateTouchSensorsDense-v1)\n",
      "EnvSpec(HandManipulateEggFullDense-v0)\n",
      "EnvSpec(HandManipulateEggDense-v0)\n",
      "EnvSpec(HandManipulateEggTouchSensorsDense-v0)\n",
      "EnvSpec(HandManipulateEggTouchSensorsDense-v1)\n",
      "EnvSpec(HandManipulatePenRotateDense-v0)\n",
      "EnvSpec(HandManipulatePenRotateTouchSensorsDense-v0)\n",
      "EnvSpec(HandManipulatePenRotateTouchSensorsDense-v1)\n",
      "EnvSpec(HandManipulatePenFullDense-v0)\n",
      "EnvSpec(HandManipulatePenDense-v0)\n",
      "EnvSpec(HandManipulatePenTouchSensorsDense-v0)\n",
      "EnvSpec(HandManipulatePenTouchSensorsDense-v1)\n",
      "EnvSpec(CubeCrash-v0)\n",
      "EnvSpec(CubeCrashSparse-v0)\n",
      "EnvSpec(CubeCrashScreenBecomesBlack-v0)\n",
      "EnvSpec(MemorizeDigits-v0)\n"
     ]
    }
   ],
   "source": [
    "all_env = list(gym.envs.registry.all())\n",
    "for env in list(all_env):\n",
    "    print(env)"
   ]
  },
  {
   "cell_type": "markdown",
   "metadata": {},
   "source": [
    "### The main details of 'CartPole-v1'"
   ]
  },
  {
   "cell_type": "code",
   "execution_count": 42,
   "metadata": {},
   "outputs": [],
   "source": [
    "# This task involves copying the symbols\n",
    "# from the input tape to the output tape.\n",
    "env = gym.make('CartPole-v1')"
   ]
  },
  {
   "cell_type": "code",
   "execution_count": 41,
   "metadata": {},
   "outputs": [
    {
     "name": "stdout",
     "output_type": "stream",
     "text": [
      "Help on CartPoleEnv in module gym.envs.classic_control.cartpole object:\n",
      "\n",
      "class CartPoleEnv(gym.core.Env)\n",
      " |  Description:\n",
      " |      A pole is attached by an un-actuated joint to a cart, which moves along\n",
      " |      a frictionless track. The pendulum starts upright, and the goal is to\n",
      " |      prevent it from falling over by increasing and reducing the cart's\n",
      " |      velocity.\n",
      " |  \n",
      " |  Source:\n",
      " |      This environment corresponds to the version of the cart-pole problem\n",
      " |      described by Barto, Sutton, and Anderson\n",
      " |  \n",
      " |  Observation:\n",
      " |      Type: Box(4)\n",
      " |      Num     Observation               Min                     Max\n",
      " |      0       Cart Position             -4.8                    4.8\n",
      " |      1       Cart Velocity             -Inf                    Inf\n",
      " |      2       Pole Angle                -0.418 rad (-24 deg)    0.418 rad (24 deg)\n",
      " |      3       Pole Angular Velocity     -Inf                    Inf\n",
      " |  \n",
      " |  Actions:\n",
      " |      Type: Discrete(2)\n",
      " |      Num   Action\n",
      " |      0     Push cart to the left\n",
      " |      1     Push cart to the right\n",
      " |  \n",
      " |      Note: The amount the velocity that is reduced or increased is not\n",
      " |      fixed; it depends on the angle the pole is pointing. This is because\n",
      " |      the center of gravity of the pole increases the amount of energy needed\n",
      " |      to move the cart underneath it\n",
      " |  \n",
      " |  Reward:\n",
      " |      Reward is 1 for every step taken, including the termination step\n",
      " |  \n",
      " |  Starting State:\n",
      " |      All observations are assigned a uniform random value in [-0.05..0.05]\n",
      " |  \n",
      " |  Episode Termination:\n",
      " |      Pole Angle is more than 12 degrees.\n",
      " |      Cart Position is more than 2.4 (center of the cart reaches the edge of\n",
      " |      the display).\n",
      " |      Episode length is greater than 200.\n",
      " |      Solved Requirements:\n",
      " |      Considered solved when the average return is greater than or equal to\n",
      " |      195.0 over 100 consecutive trials.\n",
      " |  \n",
      " |  Method resolution order:\n",
      " |      CartPoleEnv\n",
      " |      gym.core.Env\n",
      " |      builtins.object\n",
      " |  \n",
      " |  Methods defined here:\n",
      " |  \n",
      " |  __init__(self)\n",
      " |      Initialize self.  See help(type(self)) for accurate signature.\n",
      " |  \n",
      " |  close(self)\n",
      " |      Override close in your subclass to perform any necessary cleanup.\n",
      " |      \n",
      " |      Environments will automatically close() themselves when\n",
      " |      garbage collected or when the program exits.\n",
      " |  \n",
      " |  render(self, mode='human')\n",
      " |      Renders the environment.\n",
      " |      \n",
      " |      The set of supported modes varies per environment. (And some\n",
      " |      environments do not support rendering at all.) By convention,\n",
      " |      if mode is:\n",
      " |      \n",
      " |      - human: render to the current display or terminal and\n",
      " |        return nothing. Usually for human consumption.\n",
      " |      - rgb_array: Return an numpy.ndarray with shape (x, y, 3),\n",
      " |        representing RGB values for an x-by-y pixel image, suitable\n",
      " |        for turning into a video.\n",
      " |      - ansi: Return a string (str) or StringIO.StringIO containing a\n",
      " |        terminal-style text representation. The text can include newlines\n",
      " |        and ANSI escape sequences (e.g. for colors).\n",
      " |      \n",
      " |      Note:\n",
      " |          Make sure that your class's metadata 'render.modes' key includes\n",
      " |            the list of supported modes. It's recommended to call super()\n",
      " |            in implementations to use the functionality of this method.\n",
      " |      \n",
      " |      Args:\n",
      " |          mode (str): the mode to render with\n",
      " |      \n",
      " |      Example:\n",
      " |      \n",
      " |      class MyEnv(Env):\n",
      " |          metadata = {'render.modes': ['human', 'rgb_array']}\n",
      " |      \n",
      " |          def render(self, mode='human'):\n",
      " |              if mode == 'rgb_array':\n",
      " |                  return np.array(...) # return RGB frame suitable for video\n",
      " |              elif mode == 'human':\n",
      " |                  ... # pop up a window and render\n",
      " |              else:\n",
      " |                  super(MyEnv, self).render(mode=mode) # just raise an exception\n",
      " |  \n",
      " |  reset(self)\n",
      " |      Resets the environment to an initial state and returns an initial\n",
      " |      observation.\n",
      " |      \n",
      " |      Note that this function should not reset the environment's random\n",
      " |      number generator(s); random variables in the environment's state should\n",
      " |      be sampled independently between multiple calls to `reset()`. In other\n",
      " |      words, each call of `reset()` should yield an environment suitable for\n",
      " |      a new episode, independent of previous episodes.\n",
      " |      \n",
      " |      Returns:\n",
      " |          observation (object): the initial observation.\n",
      " |  \n",
      " |  seed(self, seed=None)\n",
      " |      Sets the seed for this env's random number generator(s).\n",
      " |      \n",
      " |      Note:\n",
      " |          Some environments use multiple pseudorandom number generators.\n",
      " |          We want to capture all such seeds used in order to ensure that\n",
      " |          there aren't accidental correlations between multiple generators.\n",
      " |      \n",
      " |      Returns:\n",
      " |          list<bigint>: Returns the list of seeds used in this env's random\n",
      " |            number generators. The first value in the list should be the\n",
      " |            \"main\" seed, or the value which a reproducer should pass to\n",
      " |            'seed'. Often, the main seed equals the provided 'seed', but\n",
      " |            this won't be true if seed=None, for example.\n",
      " |  \n",
      " |  step(self, action)\n",
      " |      Run one timestep of the environment's dynamics. When end of\n",
      " |      episode is reached, you are responsible for calling `reset()`\n",
      " |      to reset this environment's state.\n",
      " |      \n",
      " |      Accepts an action and returns a tuple (observation, reward, done, info).\n",
      " |      \n",
      " |      Args:\n",
      " |          action (object): an action provided by the agent\n",
      " |      \n",
      " |      Returns:\n",
      " |          observation (object): agent's observation of the current environment\n",
      " |          reward (float) : amount of reward returned after previous action\n",
      " |          done (bool): whether the episode has ended, in which case further step() calls will return undefined results\n",
      " |          info (dict): contains auxiliary diagnostic information (helpful for debugging, and sometimes learning)\n",
      " |  \n",
      " |  ----------------------------------------------------------------------\n",
      " |  Data and other attributes defined here:\n",
      " |  \n",
      " |  metadata = {'render.modes': ['human', 'rgb_array'], 'video.frames_per_...\n",
      " |  \n",
      " |  ----------------------------------------------------------------------\n",
      " |  Methods inherited from gym.core.Env:\n",
      " |  \n",
      " |  __enter__(self)\n",
      " |      Support with-statement for the environment.\n",
      " |  \n",
      " |  __exit__(self, *args)\n",
      " |      Support with-statement for the environment.\n",
      " |  \n",
      " |  __str__(self)\n",
      " |      Return str(self).\n",
      " |  \n",
      " |  ----------------------------------------------------------------------\n",
      " |  Readonly properties inherited from gym.core.Env:\n",
      " |  \n",
      " |  unwrapped\n",
      " |      Completely unwrap this env.\n",
      " |      \n",
      " |      Returns:\n",
      " |          gym.Env: The base non-wrapped gym.Env instance\n",
      " |  \n",
      " |  ----------------------------------------------------------------------\n",
      " |  Data descriptors inherited from gym.core.Env:\n",
      " |  \n",
      " |  __dict__\n",
      " |      dictionary for instance variables (if defined)\n",
      " |  \n",
      " |  __weakref__\n",
      " |      list of weak references to the object (if defined)\n",
      " |  \n",
      " |  ----------------------------------------------------------------------\n",
      " |  Data and other attributes inherited from gym.core.Env:\n",
      " |  \n",
      " |  action_space = None\n",
      " |  \n",
      " |  observation_space = None\n",
      " |  \n",
      " |  reward_range = (-inf, inf)\n",
      " |  \n",
      " |  spec = None\n",
      "\n"
     ]
    }
   ],
   "source": [
    "help(env.unwrapped)"
   ]
  },
  {
   "cell_type": "markdown",
   "metadata": {},
   "source": [
    "According to the description above..\n",
    "1. The objective of this game\n",
    "- to prevent a pole which is attached to a cart from falling over\n",
    "- by `controlling the cart's velocity`\n",
    "\n",
    "\n",
    "2. A CartPole-v1's state consists of 4 continuous elements.\n",
    "- Cart `Position` [-4.8, 4.8]\n",
    "- Cart `Velocity` (-Inf, Inf)\n",
    "- Pole `Angle` [-0.418 rad, 0.418 rad] or [-24 degrees, 24 degrees]\n",
    "- Pole `Angular Velocity` (-Inf, Inf)\n",
    "- All observations are assigned a uniform random value in [-0.05, 0.05].\n",
    "\n",
    "\n",
    "3. Actions\n",
    "- `0`: Push cart to the `left`.\n",
    "- `1`: Push cart to the `right`.\n",
    "\n",
    "\n",
    "4. Rewards\n",
    "- `0`: if the game is `over`\n",
    "- `1`: if the game is `not over`\n",
    "\n",
    "\n",
    "5. The termination conditions\n",
    "- The game is over if the pole's angle is more than 12 degrees or \n",
    "- the cart's position is more than 2.4 (center of the cart reaches the edge of the display or\n",
    "- an episode's length is greater than 200.\n",
    "\n",
    "\n",
    "6. The mission is accomplished once\n",
    "- the average return is greater than or equal to 195.0 over 100 consecutive trials."
   ]
  },
  {
   "cell_type": "code",
   "execution_count": 94,
   "metadata": {},
   "outputs": [
    {
     "name": "stdout",
     "output_type": "stream",
     "text": [
      "Discrete(2)\n",
      "Box([-4.8000002e+00 -3.4028235e+38 -4.1887903e-01 -3.4028235e+38], [4.8000002e+00 3.4028235e+38 4.1887903e-01 3.4028235e+38], (4,), float32)\n"
     ]
    },
    {
     "data": {
      "image/png": "[encoded data removed]",
      "text/plain": [
       "<Figure size 432x288 with 1 Axes>"
      ]
     },
     "metadata": {
      "needs_background": "light"
     },
     "output_type": "display_data"
    }
   ],
   "source": [
    "import pyglet\n",
    "\n",
    "env.reset()\n",
    "plt.imshow(env.render('rgb_array'))\n",
    "# the number of actions and their property\n",
    "print(env.action_space)\n",
    "# the 4 elements' ranges that each state can be located\n",
    "print(env.observation_space)"
   ]
  },
  {
   "cell_type": "code",
   "execution_count": 76,
   "metadata": {},
   "outputs": [
    {
     "name": "stdout",
     "output_type": "stream",
     "text": [
      "[-0.01967128 -0.829618    0.02747899  1.1323338 ]\n",
      "1.0\n",
      "False\n",
      "{}\n"
     ]
    }
   ],
   "source": [
    "# Push a cart to the left.\n",
    "# You can find that the velocity of the cart has been decreased\n",
    "# compared to its previous one every time you execute this cell.\n",
    "# See the second element of the observed state below.\n",
    "obs, reward, done, info = env.step(0)\n",
    "plt.imshow(env.render('rgb_array'))\n",
    "print(obs) # the next state details after an action has been taken\n",
    "print(reward) # It is 1.0 as long as the game is not over.\n",
    "print(done) # if the game has finished\n",
    "print(info)"
   ]
  },
  {
   "cell_type": "code",
   "execution_count": 91,
   "metadata": {},
   "outputs": [
    {
     "name": "stdout",
     "output_type": "stream",
     "text": [
      "[ 0.13946626  2.089818   -0.21007124 -3.1458645 ]\n",
      "1.0\n",
      "True\n",
      "{}\n"
     ]
    }
   ],
   "source": [
    "# Push a cart to the right.\n",
    "# You can see the increased velocity every time you execute this cell.\n",
    "obs, reward, done, info = env.step(1)\n",
    "plt.imshow(env.render('rgb_array'))\n",
    "print(obs)\n",
    "print(reward)\n",
    "print(done)\n",
    "print(info)"
   ]
  },
  {
   "cell_type": "markdown",
   "metadata": {},
   "source": [
    "### The main details of ??"
   ]
  },
  {
   "cell_type": "code",
   "execution_count": null,
   "metadata": {},
   "outputs": [],
   "source": []
  },
  {
   "cell_type": "code",
   "execution_count": null,
   "metadata": {},
   "outputs": [],
   "source": []
  },
  {
   "cell_type": "code",
   "execution_count": null,
   "metadata": {},
   "outputs": [],
   "source": []
  },
  {
   "cell_type": "markdown",
   "metadata": {},
   "source": [
    "## Part II - Implementing DQN & Solving grid-wolrd environment"
   ]
  },
  {
   "cell_type": "markdown",
   "metadata": {},
   "source": [
    "### The envrionment created in assignment 1"
   ]
  },
  {
   "cell_type": "code",
   "execution_count": null,
   "metadata": {},
   "outputs": [],
   "source": []
  },
  {
   "cell_type": "code",
   "execution_count": null,
   "metadata": {},
   "outputs": [],
   "source": []
  },
  {
   "cell_type": "code",
   "execution_count": null,
   "metadata": {},
   "outputs": [],
   "source": []
  },
  {
   "cell_type": "markdown",
   "metadata": {},
   "source": [
    "### Target Network"
   ]
  },
  {
   "cell_type": "code",
   "execution_count": null,
   "metadata": {},
   "outputs": [],
   "source": []
  },
  {
   "cell_type": "code",
   "execution_count": null,
   "metadata": {},
   "outputs": [],
   "source": []
  },
  {
   "cell_type": "code",
   "execution_count": null,
   "metadata": {},
   "outputs": [],
   "source": []
  },
  {
   "cell_type": "code",
   "execution_count": null,
   "metadata": {},
   "outputs": [],
   "source": []
  }
 ],
 "metadata": {
  "kernelspec": {
   "display_name": "Python 3",
   "language": "python",
   "name": "python3"
  },
  "language_info": {
   "codemirror_mode": {
    "name": "ipython",
    "version": 3
   },
   "file_extension": ".py",
   "mimetype": "text/x-python",
   "name": "python",
   "nbconvert_exporter": "python",
   "pygments_lexer": "ipython3",
   "version": "3.8.10"
  }
 },
 "nbformat": 4,
 "nbformat_minor": 5
}
