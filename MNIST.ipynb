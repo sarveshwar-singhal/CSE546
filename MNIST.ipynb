{
 "cells": [
  {
   "cell_type": "code",
   "execution_count": 1,
   "metadata": {},
   "outputs": [
    {
     "name": "stderr",
     "output_type": "stream",
     "text": [
      "2022-03-23 16:15:02.906085: W tensorflow/stream_executor/platform/default/dso_loader.cc:64] Could not load dynamic library 'libcudart.so.11.0'; dlerror: libcudart.so.11.0: cannot open shared object file: No such file or directory\n",
      "2022-03-23 16:15:02.906114: I tensorflow/stream_executor/cuda/cudart_stub.cc:29] Ignore above cudart dlerror if you do not have a GPU set up on your machine.\n"
     ]
    }
   ],
   "source": [
    "import numpy as np\n",
    "from tensorflow import keras\n",
    "from tensorflow.keras import layers"
   ]
  },
  {
   "cell_type": "code",
   "execution_count": 2,
   "metadata": {},
   "outputs": [
    {
     "name": "stdout",
     "output_type": "stream",
     "text": [
      "x_train shape: (60000, 28, 28, 1)\n",
      "60000 train samples\n",
      "10000 test samples\n"
     ]
    }
   ],
   "source": [
    "# Model / data parameters\n",
    "num_classes = 10\n",
    "input_shape = (28, 28, 1)\n",
    "\n",
    "# the data, split between train and test sets\n",
    "(x_train, y_train), (x_test, y_test) = keras.datasets.mnist.load_data()\n",
    "\n",
    "# Scale images to the [0, 1] range\n",
    "x_train = x_train.astype(\"float32\") / 255\n",
    "x_test = x_test.astype(\"float32\") / 255\n",
    "# Make sure images have shape (28, 28, 1)\n",
    "x_train = np.expand_dims(x_train, -1)\n",
    "x_test = np.expand_dims(x_test, -1)\n",
    "print(\"x_train shape:\", x_train.shape)\n",
    "print(x_train.shape[0], \"train samples\")\n",
    "print(x_test.shape[0], \"test samples\")\n",
    "\n",
    "\n",
    "# convert class vectors to binary class matrices\n",
    "y_train = keras.utils.to_categorical(y_train, num_classes)\n",
    "y_test = keras.utils.to_categorical(y_test, num_classes)\n"
   ]
  },
  {
   "cell_type": "code",
   "execution_count": 3,
   "metadata": {},
   "outputs": [
    {
     "name": "stdout",
     "output_type": "stream",
     "text": [
      "Model: \"sequential\"\n",
      "_________________________________________________________________\n",
      " Layer (type)                Output Shape              Param #   \n",
      "=================================================================\n",
      " conv2d (Conv2D)             (None, 26, 26, 32)        320       \n",
      "                                                                 \n",
      " max_pooling2d (MaxPooling2D  (None, 13, 13, 32)       0         \n",
      " )                                                               \n",
      "                                                                 \n",
      " conv2d_1 (Conv2D)           (None, 11, 11, 64)        18496     \n",
      "                                                                 \n",
      " max_pooling2d_1 (MaxPooling  (None, 5, 5, 64)         0         \n",
      " 2D)                                                             \n",
      "                                                                 \n",
      " flatten (Flatten)           (None, 1600)              0         \n",
      "                                                                 \n",
      " dropout (Dropout)           (None, 1600)              0         \n",
      "                                                                 \n",
      " dense (Dense)               (None, 10)                16010     \n",
      "                                                                 \n",
      "=================================================================\n",
      "Total params: 34,826\n",
      "Trainable params: 34,826\n",
      "Non-trainable params: 0\n",
      "_________________________________________________________________\n"
     ]
    },
    {
     "name": "stderr",
     "output_type": "stream",
     "text": [
      "2022-03-23 16:15:04.869124: W tensorflow/stream_executor/platform/default/dso_loader.cc:64] Could not load dynamic library 'libcuda.so.1'; dlerror: libcuda.so.1: cannot open shared object file: No such file or directory\n",
      "2022-03-23 16:15:04.869149: W tensorflow/stream_executor/cuda/cuda_driver.cc:269] failed call to cuInit: UNKNOWN ERROR (303)\n",
      "2022-03-23 16:15:04.869162: I tensorflow/stream_executor/cuda/cuda_diagnostics.cc:156] kernel driver does not appear to be running on this host (mag01): /proc/driver/nvidia/version does not exist\n",
      "2022-03-23 16:15:04.869340: I tensorflow/core/platform/cpu_feature_guard.cc:151] This TensorFlow binary is optimized with oneAPI Deep Neural Network Library (oneDNN) to use the following CPU instructions in performance-critical operations:  AVX2 FMA\n",
      "To enable them in other operations, rebuild TensorFlow with the appropriate compiler flags.\n"
     ]
    }
   ],
   "source": [
    "model = keras.Sequential(\n",
    "    [\n",
    "        keras.Input(shape=input_shape),\n",
    "        layers.Conv2D(32, kernel_size=(3, 3), activation=\"relu\"),\n",
    "        layers.MaxPooling2D(pool_size=(2, 2)),\n",
    "        layers.Conv2D(64, kernel_size=(3, 3), activation=\"relu\"),\n",
    "        layers.MaxPooling2D(pool_size=(2, 2)),\n",
    "        layers.Flatten(),\n",
    "        layers.Dropout(0.5),\n",
    "        layers.Dense(num_classes, activation=\"softmax\"),\n",
    "    ]\n",
    ")\n",
    "\n",
    "model.summary()\n"
   ]
  },
  {
   "cell_type": "code",
   "execution_count": 4,
   "metadata": {},
   "outputs": [
    {
     "name": "stdout",
     "output_type": "stream",
     "text": [
      "Epoch 1/50\n"
     ]
    },
    {
     "name": "stderr",
     "output_type": "stream",
     "text": [
      "2022-03-23 16:15:04.919563: W tensorflow/core/framework/cpu_allocator_impl.cc:82] Allocation of 169344000 exceeds 10% of free system memory.\n"
     ]
    },
    {
     "name": "stdout",
     "output_type": "stream",
     "text": [
      "422/422 [==============================] - 17s 40ms/step - loss: 0.3559 - accuracy: 0.8913 - val_loss: 0.0823 - val_accuracy: 0.9768\n",
      "Epoch 2/50\n",
      "422/422 [==============================] - 17s 40ms/step - loss: 0.1153 - accuracy: 0.9648 - val_loss: 0.0590 - val_accuracy: 0.9838\n",
      "Epoch 3/50\n",
      "422/422 [==============================] - 17s 39ms/step - loss: 0.0858 - accuracy: 0.9733 - val_loss: 0.0467 - val_accuracy: 0.9875\n",
      "Epoch 4/50\n",
      "422/422 [==============================] - 17s 40ms/step - loss: 0.0719 - accuracy: 0.9778 - val_loss: 0.0420 - val_accuracy: 0.9885\n",
      "Epoch 5/50\n",
      "422/422 [==============================] - 19s 44ms/step - loss: 0.0632 - accuracy: 0.9807 - val_loss: 0.0427 - val_accuracy: 0.9878\n",
      "Epoch 6/50\n",
      "422/422 [==============================] - 18s 43ms/step - loss: 0.0555 - accuracy: 0.9826 - val_loss: 0.0356 - val_accuracy: 0.9893\n",
      "Epoch 7/50\n",
      "422/422 [==============================] - 18s 43ms/step - loss: 0.0500 - accuracy: 0.9838 - val_loss: 0.0332 - val_accuracy: 0.9917\n",
      "Epoch 8/50\n",
      "422/422 [==============================] - 18s 42ms/step - loss: 0.0482 - accuracy: 0.9849 - val_loss: 0.0351 - val_accuracy: 0.9895\n",
      "Epoch 9/50\n",
      "422/422 [==============================] - 18s 43ms/step - loss: 0.0434 - accuracy: 0.9863 - val_loss: 0.0313 - val_accuracy: 0.9930\n",
      "Epoch 10/50\n",
      "422/422 [==============================] - 18s 42ms/step - loss: 0.0427 - accuracy: 0.9864 - val_loss: 0.0340 - val_accuracy: 0.9910\n",
      "Epoch 11/50\n",
      "422/422 [==============================] - 18s 43ms/step - loss: 0.0396 - accuracy: 0.9874 - val_loss: 0.0302 - val_accuracy: 0.9922\n",
      "Epoch 12/50\n",
      "422/422 [==============================] - 18s 42ms/step - loss: 0.0371 - accuracy: 0.9879 - val_loss: 0.0288 - val_accuracy: 0.9913\n",
      "Epoch 13/50\n",
      "422/422 [==============================] - 18s 44ms/step - loss: 0.0349 - accuracy: 0.9883 - val_loss: 0.0319 - val_accuracy: 0.9910\n",
      "Epoch 14/50\n",
      "422/422 [==============================] - 18s 43ms/step - loss: 0.0327 - accuracy: 0.9889 - val_loss: 0.0297 - val_accuracy: 0.9917\n",
      "Epoch 15/50\n",
      "422/422 [==============================] - 18s 42ms/step - loss: 0.0335 - accuracy: 0.9893 - val_loss: 0.0312 - val_accuracy: 0.9908\n",
      "Epoch 16/50\n",
      "422/422 [==============================] - 18s 43ms/step - loss: 0.0299 - accuracy: 0.9900 - val_loss: 0.0311 - val_accuracy: 0.9923\n",
      "Epoch 17/50\n",
      "422/422 [==============================] - 18s 43ms/step - loss: 0.0307 - accuracy: 0.9899 - val_loss: 0.0301 - val_accuracy: 0.9917\n",
      "Epoch 18/50\n",
      "422/422 [==============================] - 18s 42ms/step - loss: 0.0284 - accuracy: 0.9906 - val_loss: 0.0311 - val_accuracy: 0.9920\n",
      "Epoch 19/50\n",
      "422/422 [==============================] - 18s 42ms/step - loss: 0.0267 - accuracy: 0.9910 - val_loss: 0.0304 - val_accuracy: 0.9918\n",
      "Epoch 20/50\n",
      "422/422 [==============================] - 18s 43ms/step - loss: 0.0268 - accuracy: 0.9913 - val_loss: 0.0299 - val_accuracy: 0.9923\n",
      "Epoch 21/50\n",
      "422/422 [==============================] - 18s 42ms/step - loss: 0.0240 - accuracy: 0.9919 - val_loss: 0.0302 - val_accuracy: 0.9927\n",
      "Epoch 22/50\n",
      "422/422 [==============================] - 18s 43ms/step - loss: 0.0248 - accuracy: 0.9917 - val_loss: 0.0281 - val_accuracy: 0.9938\n",
      "Epoch 23/50\n",
      "422/422 [==============================] - 18s 44ms/step - loss: 0.0240 - accuracy: 0.9922 - val_loss: 0.0309 - val_accuracy: 0.9920\n",
      "Epoch 24/50\n",
      "422/422 [==============================] - 18s 42ms/step - loss: 0.0227 - accuracy: 0.9929 - val_loss: 0.0287 - val_accuracy: 0.9927\n",
      "Epoch 25/50\n",
      "422/422 [==============================] - 18s 43ms/step - loss: 0.0233 - accuracy: 0.9922 - val_loss: 0.0301 - val_accuracy: 0.9922\n",
      "Epoch 26/50\n",
      "422/422 [==============================] - 17s 41ms/step - loss: 0.0207 - accuracy: 0.9933 - val_loss: 0.0289 - val_accuracy: 0.9933\n",
      "Epoch 27/50\n",
      "422/422 [==============================] - 17s 40ms/step - loss: 0.0215 - accuracy: 0.9925 - val_loss: 0.0321 - val_accuracy: 0.9913\n",
      "Epoch 28/50\n",
      "422/422 [==============================] - 17s 41ms/step - loss: 0.0217 - accuracy: 0.9927 - val_loss: 0.0301 - val_accuracy: 0.9925\n",
      "Epoch 29/50\n",
      "422/422 [==============================] - 17s 40ms/step - loss: 0.0201 - accuracy: 0.9932 - val_loss: 0.0306 - val_accuracy: 0.9927\n",
      "Epoch 30/50\n",
      "422/422 [==============================] - 17s 40ms/step - loss: 0.0196 - accuracy: 0.9936 - val_loss: 0.0311 - val_accuracy: 0.9925\n",
      "Epoch 31/50\n",
      "422/422 [==============================] - 16s 39ms/step - loss: 0.0182 - accuracy: 0.9939 - val_loss: 0.0313 - val_accuracy: 0.9923\n",
      "Epoch 32/50\n",
      "422/422 [==============================] - 17s 39ms/step - loss: 0.0194 - accuracy: 0.9933 - val_loss: 0.0310 - val_accuracy: 0.9922\n",
      "Epoch 33/50\n",
      "422/422 [==============================] - 11s 25ms/step - loss: 0.0190 - accuracy: 0.9939 - val_loss: 0.0301 - val_accuracy: 0.9928\n",
      "Epoch 34/50\n",
      "422/422 [==============================] - 11s 25ms/step - loss: 0.0175 - accuracy: 0.9940 - val_loss: 0.0289 - val_accuracy: 0.9933\n",
      "Epoch 35/50\n",
      "422/422 [==============================] - 11s 25ms/step - loss: 0.0176 - accuracy: 0.9938 - val_loss: 0.0320 - val_accuracy: 0.9930\n",
      "Epoch 36/50\n",
      "422/422 [==============================] - 11s 25ms/step - loss: 0.0178 - accuracy: 0.9937 - val_loss: 0.0333 - val_accuracy: 0.9928\n",
      "Epoch 37/50\n",
      "422/422 [==============================] - 10s 25ms/step - loss: 0.0170 - accuracy: 0.9942 - val_loss: 0.0299 - val_accuracy: 0.9930\n",
      "Epoch 38/50\n",
      "422/422 [==============================] - 10s 25ms/step - loss: 0.0177 - accuracy: 0.9937 - val_loss: 0.0303 - val_accuracy: 0.9937\n",
      "Epoch 39/50\n",
      "422/422 [==============================] - 11s 25ms/step - loss: 0.0171 - accuracy: 0.9942 - val_loss: 0.0328 - val_accuracy: 0.9927\n",
      "Epoch 40/50\n",
      "422/422 [==============================] - 11s 25ms/step - loss: 0.0168 - accuracy: 0.9940 - val_loss: 0.0329 - val_accuracy: 0.9927\n",
      "Epoch 41/50\n",
      "422/422 [==============================] - 10s 25ms/step - loss: 0.0168 - accuracy: 0.9941 - val_loss: 0.0297 - val_accuracy: 0.9923\n",
      "Epoch 42/50\n",
      "422/422 [==============================] - 11s 25ms/step - loss: 0.0158 - accuracy: 0.9945 - val_loss: 0.0333 - val_accuracy: 0.9930\n",
      "Epoch 43/50\n",
      "422/422 [==============================] - 11s 25ms/step - loss: 0.0150 - accuracy: 0.9948 - val_loss: 0.0337 - val_accuracy: 0.9935\n",
      "Epoch 44/50\n",
      "422/422 [==============================] - 11s 25ms/step - loss: 0.0161 - accuracy: 0.9944 - val_loss: 0.0303 - val_accuracy: 0.9923\n",
      "Epoch 45/50\n",
      "422/422 [==============================] - 11s 25ms/step - loss: 0.0139 - accuracy: 0.9954 - val_loss: 0.0277 - val_accuracy: 0.9930\n",
      "Epoch 46/50\n",
      "422/422 [==============================] - 11s 25ms/step - loss: 0.0140 - accuracy: 0.9955 - val_loss: 0.0339 - val_accuracy: 0.9920\n",
      "Epoch 47/50\n",
      "422/422 [==============================] - 11s 25ms/step - loss: 0.0141 - accuracy: 0.9953 - val_loss: 0.0329 - val_accuracy: 0.9923\n",
      "Epoch 48/50\n",
      "422/422 [==============================] - 10s 25ms/step - loss: 0.0147 - accuracy: 0.9950 - val_loss: 0.0352 - val_accuracy: 0.9932\n",
      "Epoch 49/50\n",
      "422/422 [==============================] - 11s 25ms/step - loss: 0.0150 - accuracy: 0.9944 - val_loss: 0.0320 - val_accuracy: 0.9923\n",
      "Epoch 50/50\n",
      "422/422 [==============================] - 10s 25ms/step - loss: 0.0148 - accuracy: 0.9950 - val_loss: 0.0332 - val_accuracy: 0.9932\n"
     ]
    },
    {
     "data": {
      "text/plain": [
       "<keras.callbacks.History at 0x7f52810e8c10>"
      ]
     },
     "execution_count": 4,
     "metadata": {},
     "output_type": "execute_result"
    }
   ],
   "source": [
    "batch_size = 128\n",
    "epochs = 50\n",
    "\n",
    "model.compile(loss=\"categorical_crossentropy\", optimizer=\"adam\", metrics=[\"accuracy\"])\n",
    "\n",
    "model.fit(x_train, y_train, batch_size=batch_size, epochs=epochs, validation_split=0.1)"
   ]
  },
  {
   "cell_type": "code",
   "execution_count": 5,
   "metadata": {},
   "outputs": [
    {
     "name": "stdout",
     "output_type": "stream",
     "text": [
      "Test loss: 0.023781653493642807\n",
      "Test accuracy: 0.9922999739646912\n"
     ]
    }
   ],
   "source": [
    "score = model.evaluate(x_test, y_test, verbose=0)\n",
    "print(\"Test loss:\", score[0])\n",
    "print(\"Test accuracy:\", score[1])"
   ]
  },
  {
   "cell_type": "code",
   "execution_count": 6,
   "metadata": {},
   "outputs": [
    {
     "name": "stdout",
     "output_type": "stream",
     "text": [
      "Test loss: 0.023781653493642807\n",
      "Test accuracy: 0.9922999739646912\n"
     ]
    }
   ],
   "source": [
    "score = model.evaluate(x_test, y_test, verbose=0)\n",
    "print(\"Test loss:\", score[0])\n",
    "print(\"Test accuracy:\", score[1])"
   ]
  },
  {
   "cell_type": "code",
   "execution_count": null,
   "metadata": {},
   "outputs": [],
   "source": []
  }
 ],
 "metadata": {
  "kernelspec": {
   "display_name": "rl",
   "language": "python",
   "name": "rl"
  },
  "language_info": {
   "codemirror_mode": {
    "name": "ipython",
    "version": 3
   },
   "file_extension": ".py",
   "mimetype": "text/x-python",
   "name": "python",
   "nbconvert_exporter": "python",
   "pygments_lexer": "ipython3",
   "version": "3.8.10"
  }
 },
 "nbformat": 4,
 "nbformat_minor": 4
}
