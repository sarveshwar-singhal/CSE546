{
 "cells": [
  {
   "cell_type": "markdown",
   "metadata": {
    "id": "Wzpk--EY_gl_"
   },
   "source": [
    "\"\"\"I/we certify that the code and data in this assignment were generated independently, using only the\n",
    "tools and resources defined in the course and that I/we did not receive any external help, coaching or\n",
    "contributions during the production of this work.\"\"\""
   ]
  },
  {
   "cell_type": "code",
   "execution_count": 1,
   "metadata": {
    "id": "_u_R2EevlMA_"
   },
   "outputs": [],
   "source": [
    "import numpy as np\n",
    "import time"
   ]
  },
  {
   "cell_type": "code",
   "execution_count": 2,
   "metadata": {
    "id": "1qJ8JQC9lMBC"
   },
   "outputs": [
    {
     "name": "stderr",
     "output_type": "stream",
     "text": [
      "\n"
     ]
    }
   ],
   "source": [
    "import gym"
   ]
  },
  {
   "cell_type": "code",
   "execution_count": 3,
   "metadata": {
    "id": "DvjMxhkalMBD"
   },
   "outputs": [],
   "source": [
    "import torch\n",
    "from torch import nn"
   ]
  },
  {
   "cell_type": "code",
   "execution_count": 4,
   "metadata": {
    "id": "5lUHVvyElMBD"
   },
   "outputs": [],
   "source": [
    "env = gym.make('CartPole-v1')"
   ]
  },
  {
   "cell_type": "code",
   "execution_count": null,
   "metadata": {
    "id": "XNEZ1CF-lMBD"
   },
   "outputs": [],
   "source": [
    "help(env.unwrapped)"
   ]
  },
  {
   "cell_type": "code",
   "execution_count": null,
   "metadata": {
    "id": "Ib3-Ecl5lMBE"
   },
   "outputs": [],
   "source": [
    "for _ in range(5):\n",
    "    obs = env.reset()\n",
    "    for _ in range(80):\n",
    "        action = env.action_space.sample()\n",
    "        obs, reward, done, info = env.step(action)\n",
    "        env.render()\n",
    "        time.sleep(0.05)\n",
    "\n",
    "env.close()"
   ]
  },
  {
   "cell_type": "code",
   "execution_count": null,
   "metadata": {
    "id": "fOm3Tu9zlMBE"
   },
   "outputs": [],
   "source": [
    "env.observation_space"
   ]
  },
  {
   "cell_type": "code",
   "execution_count": null,
   "metadata": {
    "id": "VGsnMgK5lMBE"
   },
   "outputs": [],
   "source": [
    "env.observation_space"
   ]
  },
  {
   "cell_type": "code",
   "execution_count": null,
   "metadata": {
    "id": "lU2cSdDOlMBE"
   },
   "outputs": [],
   "source": [
    "episodes = 500"
   ]
  },
  {
   "cell_type": "code",
   "execution_count": null,
   "metadata": {
    "id": "7tR1aNEDlMBF"
   },
   "outputs": [],
   "source": [
    "reward_arr = []\n",
    "for _ in range(episodes):\n",
    "    obs = env.reset()\n",
    "    rew=0\n",
    "    while True:\n",
    "        action = np.random.choice(env.action_space.n)\n",
    "        obs, reward, done, info = env.step(action)\n",
    "        rew+= reward\n",
    "        if done:\n",
    "            break\n",
    "    reward_arr.append(rew)\n",
    "print(f\"avg reward: {sum(reward_arr)/episodes}\")"
   ]
  },
  {
   "cell_type": "code",
   "execution_count": null,
   "metadata": {
    "id": "CTvgSFBYlMBF"
   },
   "outputs": [],
   "source": [
    "\n",
    "from torch import randint"
   ]
  },
  {
   "cell_type": "code",
   "execution_count": null,
   "metadata": {
    "id": "PXhkl1BMlMBG"
   },
   "outputs": [],
   "source": [
    "rew_arr = []\n",
    "episode_count = 100\n",
    "env = gym.make('CartPole-v0')\n",
    "for i in range(episode_count):\n",
    "    obs, done, rew = env.reset(), False, 0\n",
    "    while (done != True) :\n",
    "        A =  randint(0,env.action_space.n,(1,))\n",
    "        obs, reward, done, info = env.step(A.item())\n",
    "        rew += reward\n",
    "    rew_arr.append(rew)\n",
    "    \n",
    "print(\"average reward per episode :\",sum(rew_arr)/ len(rew_arr))"
   ]
  },
  {
   "cell_type": "code",
   "execution_count": null,
   "metadata": {
    "id": "Fd1U-DFvlMBG"
   },
   "outputs": [],
   "source": [
    "randint(0,env.action_space.n,(1,))"
   ]
  },
  {
   "cell_type": "code",
   "execution_count": 5,
   "metadata": {
    "id": "HS8hMUxmlMBG"
   },
   "outputs": [],
   "source": [
    "import numpy as np\n",
    "import torch\n",
    "from torch import nn\n",
    "import gym\n",
    "import random\n",
    "from collections import deque\n",
    "import matplotlib.pyplot as plt\n",
    "import itertools"
   ]
  },
  {
   "cell_type": "code",
   "execution_count": 6,
   "metadata": {
    "colab": {
     "base_uri": "https://localhost:8080/"
    },
    "id": "m3sZx7EGlMBG",
    "outputId": "b2288961-c424-4cfe-b016-5e56b2953069"
   },
   "outputs": [
    {
     "data": {
      "text/plain": [
       "[0]"
      ]
     },
     "execution_count": 6,
     "metadata": {},
     "output_type": "execute_result"
    }
   ],
   "source": [
    "env = gym.make('CartPole-v1')\n",
    "env.seed(0)"
   ]
  },
  {
   "cell_type": "code",
   "execution_count": 7,
   "metadata": {
    "colab": {
     "base_uri": "https://localhost:8080/"
    },
    "id": "kiSRoZKolMBH",
    "outputId": "ea3ad751-185e-443f-b983-78868501f2c4"
   },
   "outputs": [
    {
     "data": {
      "text/plain": [
       "Box([-4.8000002e+00 -3.4028235e+38 -4.1887903e-01 -3.4028235e+38], [4.8000002e+00 3.4028235e+38 4.1887903e-01 3.4028235e+38], (4,), float32)"
      ]
     },
     "execution_count": 7,
     "metadata": {},
     "output_type": "execute_result"
    }
   ],
   "source": [
    "env.observation_space"
   ]
  },
  {
   "cell_type": "code",
   "execution_count": 8,
   "metadata": {
    "id": "WLv-vQU_lMBH"
   },
   "outputs": [],
   "source": [
    "device = 'cuda' if torch.cuda.is_available() else 'cpu'"
   ]
  },
  {
   "cell_type": "code",
   "execution_count": 9,
   "metadata": {
    "id": "RrsMmeV3lMBH"
   },
   "outputs": [],
   "source": [
    "class NeuralNetwork(nn.Module):\n",
    "    def __init__(self, env):\n",
    "        super(NeuralNetwork, self).__init__()\n",
    "        in_features = 4\n",
    "        self.linear_stack = nn.Sequential(\n",
    "                            nn.Linear(in_features, 64),\n",
    "                            nn.ReLU(),\n",
    "                            nn.Linear(64, 64),\n",
    "                            nn.ReLU(),\n",
    "                            nn.Linear(64, env.action_space.n),\n",
    "                            nn.Identity())\n",
    "        self.env = env\n",
    "    \n",
    "    def forward(self, x):\n",
    "        return self.linear_stack(x)\n",
    "    \n",
    "    \n",
    "    def get_action(self, obs, val = 100, eps=0):\n",
    "        if val < eps:\n",
    "            return self.env.action_space.sample()\n",
    "        else:\n",
    "#             return self(torch.as_tensor(obs).to(device)).argmax().item()\n",
    "            return self(obs.to(device)).argmax(dim=-1).item()\n",
    "#             obs_t = torch.as_tensor(obs, dtype=torch.float32)\n",
    "#             q_value = self(obs_t.unsqueeze(0))\n",
    "#             print(q_value)\n",
    "#             max_q = torch.argmax(q_value, dim=1)[0]\n",
    "#             action = max_q.detach().item()\n",
    "#             return action\n"
   ]
  },
  {
   "cell_type": "code",
   "execution_count": 10,
   "metadata": {
    "id": "FnpAX8sDlMBH"
   },
   "outputs": [],
   "source": [
    "def to_tensor(np_array: np.array, size = None) -> torch.tensor:\n",
    "    torch_tensor = torch.from_numpy(np_array).float()\n",
    "    if size is not None:\n",
    "        torch_tensor = torch_tensor.view(size)\n",
    "    return torch_tensor"
   ]
  },
  {
   "cell_type": "code",
   "execution_count": 11,
   "metadata": {
    "id": "E33O_KoilMBI"
   },
   "outputs": [],
   "source": [
    "BATCH_SIZE = 64\n",
    "BUFFER_SIZE = 50000\n",
    "MIN_REPLY_SIZE=1000\n",
    "TARGET_UPDATE_FREQ = 1000\n",
    "\n",
    "gama = 0.99\n",
    "eps = 1.0\n",
    "num_episodes = 5000\n",
    "max_steps = 500\n",
    "eps_decay = (0.01/eps) ** (1/num_episodes)\n",
    "interval = 1000"
   ]
  },
  {
   "cell_type": "code",
   "execution_count": 12,
   "metadata": {
    "colab": {
     "base_uri": "https://localhost:8080/"
    },
    "id": "z-xXPSgSlMBI",
    "outputId": "6516f29f-b2c0-41e0-8916-c654a6f16b52"
   },
   "outputs": [
    {
     "data": {
      "text/plain": [
       "<All keys matched successfully>"
      ]
     },
     "execution_count": 12,
     "metadata": {},
     "output_type": "execute_result"
    }
   ],
   "source": [
    "pred_net = NeuralNetwork(env).to(device)\n",
    "target_net = NeuralNetwork(env).to(device)\n",
    "replay_buffer = deque(maxlen=BUFFER_SIZE)\n",
    "target_net.load_state_dict(pred_net.state_dict())"
   ]
  },
  {
   "cell_type": "code",
   "execution_count": 13,
   "metadata": {
    "id": "74S76hF2lMBI"
   },
   "outputs": [],
   "source": [
    "optimizer = torch.optim.Adam(pred_net.parameters(), 5e-4)"
   ]
  },
  {
   "cell_type": "code",
   "execution_count": 14,
   "metadata": {
    "id": "rlo6C7FtlMBI"
   },
   "outputs": [],
   "source": [
    "#initialize reply buffer\n",
    "state = env.reset()\n",
    "for _ in range(MIN_REPLY_SIZE):\n",
    "    action = env.action_space.sample()\n",
    "    state = to_tensor(state, (1, 4))\n",
    "    next_state, reward, done, info = env.step(action)\n",
    "#     new_obs, reward, done, info = env.step(2)\n",
    "    transition = (state, torch.tensor(action).view(1,1),torch.tensor(reward).view(1,1),torch.tensor(done).view(1,1),torch.tensor(next_state).view(1,4))\n",
    "    replay_buffer.append(transition)\n",
    "    state = next_state\n",
    "    \n",
    "    if done:\n",
    "        state = env.reset()"
   ]
  },
  {
   "cell_type": "code",
   "execution_count": 15,
   "metadata": {
    "colab": {
     "base_uri": "https://localhost:8080/"
    },
    "id": "l57VpgJ1lMBJ",
    "outputId": "a222452f-1918-4621-dd58-fa6399bbb1f8",
    "scrolled": true
   },
   "outputs": [
    {
     "name": "stdout",
     "output_type": "stream",
     "text": [
      "Episode:  100\t| Score: 23.00\t| Avg Score: 21.69\t| Eps: 0.913\n",
      "\n",
      "Episode:  200\t| Score: 13.00\t| Avg Score: 19.64\t| Eps: 0.833\n",
      "\n",
      "Episode:  300\t| Score: 26.00\t| Avg Score: 18.56\t| Eps: 0.759\n",
      "\n",
      "Episode:  400\t| Score: 27.00\t| Avg Score: 17.72\t| Eps: 0.692\n",
      "\n",
      "Episode:  500\t| Score: 18.00\t| Avg Score: 17.29\t| Eps: 0.632\n",
      "\n",
      "Episode:  600\t| Score: 16.00\t| Avg Score: 15.85\t| Eps: 0.576\n",
      "\n",
      "Episode:  700\t| Score: 10.00\t| Avg Score: 14.28\t| Eps: 0.525\n",
      "\n",
      "Episode:  800\t| Score: 14.00\t| Avg Score: 13.76\t| Eps: 0.479\n",
      "\n",
      "Episode:  900\t| Score: 12.00\t| Avg Score: 13.93\t| Eps: 0.437\n",
      "\n",
      "Episode: 1000\t| Score: 16.00\t| Avg Score: 12.49\t| Eps: 0.398\n",
      "\n",
      "Episode: 1100\t| Score: 19.00\t| Avg Score: 12.50\t| Eps: 0.363\n",
      "\n",
      "Episode: 1200\t| Score: 10.00\t| Avg Score: 12.88\t| Eps: 0.331\n",
      "\n",
      "Episode: 1300\t| Score: 10.00\t| Avg Score: 12.11\t| Eps: 0.302\n",
      "\n",
      "Episode: 1400\t| Score: 13.00\t| Avg Score: 14.17\t| Eps: 0.276\n",
      "\n",
      "Episode: 1500\t| Score: 15.00\t| Avg Score: 12.74\t| Eps: 0.251\n",
      "\n",
      "Episode: 1600\t| Score: 14.00\t| Avg Score: 13.66\t| Eps: 0.229\n",
      "\n",
      "Episode: 1700\t| Score: 13.00\t| Avg Score: 14.01\t| Eps: 0.209\n",
      "\n",
      "Episode: 1800\t| Score: 9.00\t| Avg Score: 14.03\t| Eps: 0.191\n",
      "\n",
      "Episode: 1900\t| Score: 11.00\t| Avg Score: 14.49\t| Eps: 0.174\n",
      "\n",
      "Episode: 2000\t| Score: 38.00\t| Avg Score: 16.23\t| Eps: 0.159\n",
      "\n",
      "Episode: 2100\t| Score: 15.00\t| Avg Score: 25.69\t| Eps: 0.145\n",
      "\n",
      "Episode: 2200\t| Score: 149.00\t| Avg Score: 29.38\t| Eps: 0.132\n",
      "\n",
      "Episode: 2300\t| Score: 131.00\t| Avg Score: 91.98\t| Eps: 0.120\n",
      "\n",
      "Episode: 2400\t| Score: 103.00\t| Avg Score: 94.95\t| Eps: 0.110\n",
      "\n",
      "Episode: 2500\t| Score: 94.00\t| Avg Score: 124.16\t| Eps: 0.100\n",
      "\n",
      "Episode: 2600\t| Score: 142.00\t| Avg Score: 131.03\t| Eps: 0.091\n",
      "\n",
      "Episode: 2700\t| Score: 176.00\t| Avg Score: 136.67\t| Eps: 0.083\n",
      "\n",
      "Episode: 2800\t| Score: 14.00\t| Avg Score: 134.20\t| Eps: 0.076\n",
      "\n",
      "Episode: 2900\t| Score: 134.00\t| Avg Score: 130.81\t| Eps: 0.069\n",
      "\n",
      "Episode: 3000\t| Score: 165.00\t| Avg Score: 125.40\t| Eps: 0.063\n",
      "\n",
      "Episode: 3100\t| Score: 168.00\t| Avg Score: 125.88\t| Eps: 0.058\n",
      "\n",
      "Episode: 3200\t| Score: 140.00\t| Avg Score: 139.79\t| Eps: 0.053\n",
      "\n",
      "Episode: 3300\t| Score: 147.00\t| Avg Score: 152.16\t| Eps: 0.048\n",
      "\n",
      "Episode: 3400\t| Score: 139.00\t| Avg Score: 140.48\t| Eps: 0.044\n",
      "\n",
      "Episode: 3500\t| Score: 162.00\t| Avg Score: 151.34\t| Eps: 0.040\n",
      "\n",
      "Episode: 3600\t| Score: 13.00\t| Avg Score: 155.38\t| Eps: 0.036\n",
      "\n",
      "Episode: 3700\t| Score: 144.00\t| Avg Score: 148.62\t| Eps: 0.033\n",
      "\n",
      "Episode: 3800\t| Score: 170.00\t| Avg Score: 151.67\t| Eps: 0.030\n",
      "\n",
      "Episode: 3900\t| Score: 163.00\t| Avg Score: 157.71\t| Eps: 0.028\n",
      "\n",
      "Episode: 4000\t| Score: 249.00\t| Avg Score: 159.02\t| Eps: 0.025\n",
      "\n",
      "Episode: 4100\t| Score: 15.00\t| Avg Score: 150.62\t| Eps: 0.023\n",
      "\n",
      "Episode: 4200\t| Score: 172.00\t| Avg Score: 160.01\t| Eps: 0.021\n",
      "\n",
      "Episode: 4300\t| Score: 173.00\t| Avg Score: 162.45\t| Eps: 0.019\n",
      "\n",
      "Episode: 4400\t| Score: 13.00\t| Avg Score: 155.37\t| Eps: 0.017\n",
      "\n",
      "Episode: 4500\t| Score: 154.00\t| Avg Score: 159.01\t| Eps: 0.016\n",
      "\n",
      "Episode: 4600\t| Score: 168.00\t| Avg Score: 157.72\t| Eps: 0.014\n",
      "\n",
      "Episode: 4700\t| Score: 152.00\t| Avg Score: 162.64\t| Eps: 0.013\n",
      "\n",
      "Episode: 4800\t| Score: 162.00\t| Avg Score: 155.38\t| Eps: 0.012\n",
      "\n",
      "Episode: 4900\t| Score: 160.00\t| Avg Score: 163.80\t| Eps: 0.011\n",
      "\n",
      "Episode: 5000\t| Score: 154.00\t| Avg Score: 166.15\t| Eps: 0.010\n",
      "\n",
      "The time of execution of the DQN algorithm is:  51.36328482627869\n"
     ]
    }
   ],
   "source": [
    "#MAIN ACTION\n",
    "total_reward = []\n",
    "print_every = 100\n",
    "tau = 1e-3\n",
    "reward_window = deque(maxlen=100)\n",
    "epsilon=[]\n",
    "t1 = time.time()\n",
    "count = 0\n",
    "# for epi in itertools.count():\n",
    "for epi in range(num_episodes):\n",
    "    count+=1\n",
    "    state = env.reset()\n",
    "    epsilon.append(eps)\n",
    "    epi_reward = 0\n",
    "    for step in range(max_steps):\n",
    "        count += 1\n",
    "        val=np.random.random()\n",
    "        state = to_tensor(state, (1, 4))\n",
    "        action = pred_net.get_action(state, val, eps)\n",
    "        next_state, reward, done, info = env.step(action)\n",
    "        \n",
    "        transition = (state, torch.tensor(action).view(1,1),torch.tensor(reward).view(1,1),torch.tensor(done).view(1,1),torch.tensor(next_state).view(1,4))\n",
    "        replay_buffer.append(transition)\n",
    "        state = next_state\n",
    "        epi_reward += reward\n",
    "        \n",
    "        states = []\n",
    "        actions = []\n",
    "        rewards = []\n",
    "        dones = []\n",
    "        next_states = []\n",
    "        \n",
    "        if step % interval == 0:\n",
    "#             if len(replay_buffer) >= BATCH_SIZE:\n",
    "            sample = [replay_buffer[i] for i in random.sample(range(len(replay_buffer)), BATCH_SIZE)]\n",
    "            for i in sample:\n",
    "                states.append(i[0])\n",
    "                actions.append(i[1])\n",
    "                rewards.append(i[2])\n",
    "                dones.append(i[3])\n",
    "                next_states.append(i[4])\n",
    "            states = torch.cat(states, dim=0).float().to(device)\n",
    "            actions = torch.cat(actions, dim=0).to(device)\n",
    "            rewards = torch.cat(rewards, dim=0).float().to(device)\n",
    "            dones = torch.cat(dones, dim=0).float().to(device)\n",
    "            next_states = torch.cat(next_states, dim=0).float().to(device)\n",
    "            with torch.no_grad():\n",
    "                max_q, _ = target_net(next_states).max(dim=-1, keepdims=True)\n",
    "                q_target = rewards + gama * max_q * (1-dones)\n",
    "            q_val = pred_net(states).gather(1, actions)\n",
    "#             loss = nn.MSELoss(q_val, q_target)\n",
    "            loss = nn.functional.smooth_l1_loss(q_val, q_target)\n",
    "            optimizer.zero_grad()\n",
    "            loss.backward()\n",
    "            optimizer.step()\n",
    "\n",
    "            for target_params, q_params in zip(target_net.parameters(),pred_net.parameters()):\n",
    "                target_params.data.copy_(tau * q_params.data + (1.0 - tau) * target_params.data)\n",
    "        if done:\n",
    "            break\n",
    "    total_reward.append(epi_reward)\n",
    "    reward_window.append(epi_reward)\n",
    "    \n",
    "    if epi % print_every == (print_every - 1):\n",
    "        print(f\"Episode: {epi + 1:4.0f}\\t| \" \n",
    "              + f\"Score: {epi_reward:3.2f}\\t| \"\n",
    "              + f\"Avg Score: {np.mean(reward_window):3.2f}\\t| \"\n",
    "              +f\"Eps: {eps:.3f}\\n\")\n",
    "    eps *= eps_decay\n",
    "    if np.mean(reward_window) >= 450.0:\n",
    "        print(f\"CartPole-v1 solved in the {epi + 1}th episode.\" +f\"\\tAvg Score: {np.mean(reward_window):3.2f}\")\n",
    "        # Save the model.\n",
    "        torch.save(pred_net.state_dict(), \"dqn_for_cp-v1.pth\")\n",
    "        break\n",
    "\n",
    "t2 = time.time()\n",
    "print(\"The time of execution of the DQN algorithm is: \", t2 - t1)"
   ]
  },
  {
   "cell_type": "code",
   "execution_count": 81,
   "metadata": {
    "id": "T9dtw3sKuAmR"
   },
   "outputs": [],
   "source": [
    "torch.save(pred_net.state_dict(), \"dqn_for_cp-v1.pth\")"
   ]
  },
  {
   "cell_type": "code",
   "execution_count": null,
   "metadata": {
    "id": "U09IxE0y0IWB"
   },
   "outputs": [],
   "source": []
  },
  {
   "cell_type": "code",
   "execution_count": 62,
   "metadata": {
    "colab": {
     "base_uri": "https://localhost:8080/",
     "height": 304
    },
    "id": "c2VP4BielMBK",
    "outputId": "56d62c30-5a9d-400b-bef5-6e64cc091170"
   },
   "outputs": [
    {
     "data": {
      "image/png": "[encoded data removed]",
      "text/plain": [
       "<Figure size 432x288 with 1 Axes>"
      ]
     },
     "metadata": {
      "needs_background": "light"
     },
     "output_type": "display_data"
    }
   ],
   "source": [
    "# the plot for epsilons\n",
    "fig, ax = plt.subplots()\n",
    "ax.plot(epsilon)\n",
    "ax.set_xlabel(\"Episodes\", fontsize = 14)\n",
    "ax.set_ylabel(\"Epsilon\", color = \"black\", fontsize = 14)\n",
    "plt.title('Decaying Epsilon', color = \"darkgrey\", fontsize = 20)\n",
    "plt.show()"
   ]
  },
  {
   "cell_type": "code",
   "execution_count": 68,
   "metadata": {
    "colab": {
     "base_uri": "https://localhost:8080/",
     "height": 304
    },
    "id": "CXwQK22ftpAR",
    "outputId": "6ff81875-9fe8-44bf-abf1-85cf1f346562"
   },
   "outputs": [
    {
     "data": {
      "image/png": "[encoded data removed]",
      "text/plain": [
       "<Figure size 432x288 with 1 Axes>"
      ]
     },
     "metadata": {
      "needs_background": "light"
     },
     "output_type": "display_data"
    }
   ],
   "source": [
    "# the plot for rewards\n",
    "x = np.arange(num_episodes) + 1\n",
    "y = np.array(total_reward)\n",
    "z = np.polyfit(x, y, 3)\n",
    "p = np.poly1d(z)\n",
    "\n",
    "fig, ax = plt.subplots(figsize = (6, 4))\n",
    "ax.plot(total_reward)\n",
    "ax.plot(x, p(x), 'r--')\n",
    "ax.set_xlabel(\"Episodes\", fontsize = 14)\n",
    "ax.set_ylabel(\"Scores\", color = \"black\", fontsize = 14)\n",
    "plt.title('DQN Scores', color = \"darkgrey\", fontsize = 20)\n",
    "plt.legend(['Scores', 'Trend'])\n",
    "plt.show()"
   ]
  },
  {
   "cell_type": "markdown",
   "metadata": {
    "id": "rXe9l6ac0rlk"
   },
   "source": [
    "For video encoding and playing, we refer to the following online manual.\n",
    "\n",
    "IPython Documentation: https://ipython.readthedocs.io/en/stable/index.html"
   ]
  },
  {
   "cell_type": "code",
   "execution_count": 95,
   "metadata": {
    "id": "8y500YSC2vUk"
   },
   "outputs": [],
   "source": [
    "!pip install pyvirtualdisplay > /dev/null 2>&1\n",
    "!apt-get install -y xvfb python-opengl ffmpeg > /dev/null 2>&1"
   ]
  },
  {
   "cell_type": "code",
   "execution_count": null,
   "metadata": {
    "id": "ryNKVCmT25OJ"
   },
   "outputs": [],
   "source": []
  },
  {
   "cell_type": "code",
   "execution_count": null,
   "metadata": {
    "id": "Zf2yIulQ2vrd"
   },
   "outputs": [],
   "source": []
  },
  {
   "cell_type": "code",
   "execution_count": 118,
   "metadata": {
    "id": "ySl1UbuuvsQJ"
   },
   "outputs": [],
   "source": [
    "from gym import logger as gymlogger\n",
    "from gym.wrappers import Monitor\n",
    "gymlogger.set_level(40)\n",
    "from gym.wrappers.monitoring.video_recorder import VideoRecorder\n",
    "import glob\n",
    "import base64\n",
    "from base64 import b64encode\n",
    "import io\n",
    "from IPython.display import display\n",
    "from IPython.display import HTML\n",
    "import math\n",
    "from IPython import display as ipythondisplay"
   ]
  },
  {
   "cell_type": "code",
   "execution_count": 102,
   "metadata": {
    "colab": {
     "base_uri": "https://localhost:8080/"
    },
    "id": "wLRwoVZz2ntv",
    "outputId": "3caefceb-8813-4209-a0e2-0ce0b3a1c607"
   },
   "outputs": [
    {
     "data": {
      "text/plain": [
       "<pyvirtualdisplay.display.Display at 0x7f2d1c7b86d0>"
      ]
     },
     "execution_count": 102,
     "metadata": {},
     "output_type": "execute_result"
    }
   ],
   "source": [
    "import pyglet\n",
    "from pyvirtualdisplay import Display\n",
    "display = Display(visible=0, size=(1400,900))\n",
    "display.start()"
   ]
  },
  {
   "cell_type": "code",
   "execution_count": 103,
   "metadata": {
    "id": "poYuoni_2oEi"
   },
   "outputs": [],
   "source": [
    "def wrap_env(env):\n",
    "  env = Monitor(env, './video', force=True)\n",
    "  return env"
   ]
  },
  {
   "cell_type": "code",
   "execution_count": 104,
   "metadata": {
    "id": "j9VhtUtk3B_d"
   },
   "outputs": [],
   "source": [
    "import os\n",
    "if type(os.environ.get(\"DISPLAY\")) is not str or len(os.environ.get(\"DISPLAY\"))==0:\n",
    "    !bash ../xvfb start\n",
    "    %env DISPLAY=:1"
   ]
  },
  {
   "cell_type": "code",
   "execution_count": 106,
   "metadata": {
    "colab": {
     "base_uri": "https://localhost:8080/"
    },
    "id": "Yz2W2iLb3Dph",
    "outputId": "e398c775-fb9d-44c5-d88c-3dbe088768c8"
   },
   "outputs": [
    {
     "data": {
      "text/plain": [
       "[0]"
      ]
     },
     "execution_count": 106,
     "metadata": {},
     "output_type": "execute_result"
    }
   ],
   "source": [
    "rec_env = wrap_env(gym.make('CartPole-v1'))\n",
    "rec_env.seed(0)"
   ]
  },
  {
   "cell_type": "code",
   "execution_count": 132,
   "metadata": {
    "id": "1CKHO10x3GiN"
   },
   "outputs": [],
   "source": [
    "env = gym.make('CartPole-v1')"
   ]
  },
  {
   "cell_type": "code",
   "execution_count": 133,
   "metadata": {
    "id": "GHJP2Vcr0tlE"
   },
   "outputs": [],
   "source": [
    "def record_mp4(successful_case, env, set_seed, video_name):\n",
    "    env.seed(set_seed) # the same seed as the one for which out model has been trained\n",
    "    path = f\"video/{video_name}.mp4\"\n",
    "    video = VideoRecorder(env, path)\n",
    "    state = env.reset()\n",
    "    epi_reward = 0\n",
    "    while True:\n",
    "        frame = env.render(mode = 'rgb_array')\n",
    "        video.capture_frame()\n",
    "        state = to_tensor(state, size = (1, 4))\n",
    "        action = successful_case.get_action(state)\n",
    "        state, reward, done, _ = env.step(action)\n",
    "        epi_reward += reward\n",
    "        if done:\n",
    "            video.close()\n",
    "            break\n",
    "    env.close()\n",
    "    return epi_reward\n",
    "\n",
    "def render_mp4(video_name):\n",
    "    mp4list = glob.glob('video/*.mp4')\n",
    "    if len(mp4list) > 0:\n",
    "        mp4_path = f\"video/{video_name}.mp4\"\n",
    "        mp4 = io.open(mp4_path, 'r+b').read()\n",
    "        base64_encoded_mp4 = b64encode(mp4).decode('ascii')\n",
    "        display(HTML(data = f'<video alt=\"test\" autoplay loop' \\\n",
    "                            f'controls style=\"height: 400px;\">' \\\n",
    "                            f'<source src=\"data:video/mp4;base64,' \\\n",
    "                            f'{base64_encoded_mp4}\" ' \\\n",
    "                            f'type=\"video/mp4\"></video>'))\n",
    "    else:\n",
    "        print(\"No video available\")"
   ]
  },
  {
   "cell_type": "code",
   "execution_count": 134,
   "metadata": {
    "id": "ew9NV0Kq5jVf"
   },
   "outputs": [],
   "source": [
    "def show_video():\n",
    "  mp4list = glob.glob('video/*.mp4')\n",
    "  if len(mp4list) > 0:\n",
    "    mp4 = mp4list[0]\n",
    "    video = io.open(mp4, 'r+b').read()\n",
    "    encoded = base64.b64encode(video)\n",
    "    ipythondisplay.display(HTML(data='''<video alt=\"test\" autoplay \n",
    "                loop controls style=\"height: 400px;\">\n",
    "                <source src=\"data:video/mp4;base64,{0}\" type=\"video/mp4\" />\n",
    "             </video>'''.format(encoded.decode('ascii'))))\n",
    "  else: \n",
    "    print(\"Could not find video\")"
   ]
  },
  {
   "cell_type": "code",
   "execution_count": 135,
   "metadata": {
    "colab": {
     "base_uri": "https://localhost:8080/"
    },
    "id": "9qqT5giI1Nkg",
    "outputId": "2bd902d2-b1da-4156-cba1-aefe9876c956"
   },
   "outputs": [
    {
     "data": {
      "text/plain": [
       "<All keys matched successfully>"
      ]
     },
     "execution_count": 135,
     "metadata": {},
     "output_type": "execute_result"
    }
   ],
   "source": [
    "# Q-network for overwriting the successful model previously saved\n",
    "q_network_success = NeuralNetwork(env).to(device)\n",
    "q_network_success.load_state_dict(torch.load('dqn_for_cp-v1.pth'))"
   ]
  },
  {
   "cell_type": "code",
   "execution_count": 136,
   "metadata": {
    "id": "fy7H87xJ6Tzs"
   },
   "outputs": [],
   "source": [
    "eval_epi_reward = []\n",
    "for i in range(5):\n",
    "  eval_epi_reward.append(record_mp4(q_network_success, env, 0, f'cp_v1_dqn-{i+1}'))"
   ]
  },
  {
   "cell_type": "code",
   "execution_count": 139,
   "metadata": {
    "colab": {
     "base_uri": "https://localhost:8080/"
    },
    "id": "t-0M6Acq8KSK",
    "outputId": "c0b81cf8-bc98-45f7-c418-cc259b95db6a"
   },
   "outputs": [
    {
     "data": {
      "text/plain": [
       "[357.0, 357.0, 357.0, 357.0, 357.0]"
      ]
     },
     "execution_count": 139,
     "metadata": {},
     "output_type": "execute_result"
    }
   ],
   "source": [
    "eval_epi_reward"
   ]
  },
  {
   "cell_type": "code",
   "execution_count": 141,
   "metadata": {
    "colab": {
     "base_uri": "https://localhost:8080/",
     "height": 304
    },
    "id": "hegaf0XH7m83",
    "outputId": "693d17c7-ce55-48f8-dc5a-ad60d05fc549"
   },
   "outputs": [
    {
     "data": {
      "image/png": "[encoded data removed]",
      "text/plain": [
       "<Figure size 432x288 with 1 Axes>"
      ]
     },
     "metadata": {
      "needs_background": "light"
     },
     "output_type": "display_data"
    }
   ],
   "source": [
    "# the plot for epsilons\n",
    "fig, ax = plt.subplots()\n",
    "ax.plot(eval_epi_reward)\n",
    "ax.set_xlabel(\"Episodes\", fontsize = 14)\n",
    "ax.set_ylabel(\"Total_rewards\", color = \"black\", fontsize = 14)\n",
    "plt.title('Greedy actions', color = \"darkgrey\", fontsize = 20)\n",
    "plt.show()"
   ]
  },
  {
   "cell_type": "code",
   "execution_count": null,
   "metadata": {
    "id": "47Ka4MY_7wjg"
   },
   "outputs": [],
   "source": []
  },
  {
   "cell_type": "code",
   "execution_count": 125,
   "metadata": {
    "colab": {
     "base_uri": "https://localhost:8080/",
     "height": 421
    },
    "id": "f40xhuS26lDh",
    "outputId": "0ff4fc32-81e6-4bf0-dcdd-0f8686cc9f0d"
   },
   "outputs": [
    {
     "data": {
      "text/html": [
       "<video alt=\"test\" autoplay loopcontrols style=\"height: 400px;\"><source src=\"data:video/mp4;base64,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\" type=\"video/mp4\"></video>"
      ],
      "text/plain": [
       "<IPython.core.display.HTML object>"
      ]
     },
     "metadata": {},
     "output_type": "display_data"
    }
   ],
   "source": [
    "render_mp4('cp_v1_dqn')"
   ]
  },
  {
   "cell_type": "code",
   "execution_count": null,
   "metadata": {
    "id": "nxEcCQ1J6nuH"
   },
   "outputs": [],
   "source": []
  },
  {
   "cell_type": "code",
   "execution_count": 122,
   "metadata": {
    "colab": {
     "base_uri": "https://localhost:8080/",
     "height": 35
    },
    "id": "Tie4qCKQ2bFE",
    "outputId": "5f5b77d8-fa6e-4caf-ce2f-f6c6d20c0c16"
   },
   "outputs": [
    {
     "data": {
      "application/vnd.google.colaboratory.intrinsic+json": {
       "type": "string"
      },
      "text/plain": [
       "'0.17.3'"
      ]
     },
     "execution_count": 122,
     "metadata": {},
     "output_type": "execute_result"
    }
   ],
   "source": [
    "gym.__version__"
   ]
  },
  {
   "cell_type": "code",
   "execution_count": 123,
   "metadata": {
    "colab": {
     "base_uri": "https://localhost:8080/",
     "height": 421
    },
    "id": "llwZcWiv1TPR",
    "outputId": "4f415a77-93eb-414d-9e2c-61d8d819eedf"
   },
   "outputs": [
    {
     "data": {
      "text/html": [
       "<video alt=\"test\" autoplay \n",
       "                loop controls style=\"height: 400px;\">\n",
       "                <source src=\"data:video/mp4;base64,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\" type=\"video/mp4\" />\n",
       "             </video>"
      ],
      "text/plain": [
       "<IPython.core.display.HTML object>"
      ]
     },
     "metadata": {},
     "output_type": "display_data"
    }
   ],
   "source": [
    "# eps = 0.0\n",
    "state = rec_env.reset()\n",
    "rec_env.render()\n",
    "while True:\n",
    "  state = to_tensor(state, size=(1, 4))\n",
    "  action = q_network_success.get_action(state)\n",
    "  state, reward, done, _ = rec_env.step(action)\n",
    "  rec_env.render()\n",
    "  if done:\n",
    "    break\n",
    "env.close()\n",
    "show_video()"
   ]
  },
  {
   "cell_type": "code",
   "execution_count": null,
   "metadata": {
    "id": "nowSzFFZ1qk7"
   },
   "outputs": [],
   "source": []
  },
  {
   "cell_type": "markdown",
   "metadata": {
    "id": "Jcu87KjNlMBK",
    "scrolled": true
   },
   "source": [
    "# Double DQN"
   ]
  },
  {
   "cell_type": "code",
   "execution_count": null,
   "metadata": {
    "id": "emwgSANBlMBL"
   },
   "outputs": [],
   "source": [
    "!nvidia-smi"
   ]
  },
  {
   "cell_type": "code",
   "execution_count": 146,
   "metadata": {
    "id": "7g5g1favm4lD"
   },
   "outputs": [],
   "source": [
    "class DoubleNeuralNetwork(nn.Module):\n",
    "    def __init__(self, env):\n",
    "        super(DoubleNeuralNetwork, self).__init__()\n",
    "        in_features = 4\n",
    "        self.linear_stack = nn.Sequential(\n",
    "                            nn.Linear(in_features, 64),\n",
    "                            nn.ReLU(),\n",
    "                            nn.Linear(64, 64),\n",
    "                            nn.ReLU(),\n",
    "                            nn.Linear(64, env.action_space.n),\n",
    "                            nn.Identity())\n",
    "        self.env = env\n",
    "    \n",
    "    def forward(self, x):\n",
    "        return self.linear_stack(x)\n",
    "    \n",
    "    \n",
    "    def get_action(self, obs, val=100, eps=0):\n",
    "        if val < eps:\n",
    "            return self.env.action_space.sample()\n",
    "        else:\n",
    "#             return self(torch.as_tensor(obs).to(device)).argmax().item()\n",
    "            return self(obs.to(device)).argmax(dim=-1).item()\n",
    "#             obs_t = torch.as_tensor(obs, dtype=torch.float32)\n",
    "#             q_value = self(obs_t.unsqueeze(0))\n",
    "#             print(q_value)\n",
    "#             max_q = torch.argmax(q_value, dim=1)[0]\n",
    "#             action = max_q.detach().item()\n",
    "#             return action\n"
   ]
  },
  {
   "cell_type": "code",
   "execution_count": 73,
   "metadata": {
    "colab": {
     "base_uri": "https://localhost:8080/"
    },
    "id": "asfq_NuEnU6i",
    "outputId": "fb0c4cf7-d7d2-4ada-ebe9-16ab45736b49"
   },
   "outputs": [
    {
     "data": {
      "text/plain": [
       "[0]"
      ]
     },
     "execution_count": 73,
     "metadata": {},
     "output_type": "execute_result"
    }
   ],
   "source": [
    "env_double = gym.make('CartPole-v1')\n",
    "env_double.seed(0)"
   ]
  },
  {
   "cell_type": "code",
   "execution_count": 74,
   "metadata": {
    "id": "kdZzH0vvlMBM",
    "scrolled": true
   },
   "outputs": [],
   "source": [
    "BATCH_SIZE = 64\n",
    "BUFFER_SIZE = 50000\n",
    "MIN_REPLY_SIZE=1000\n",
    "TARGET_UPDATE_FREQ = 1000\n",
    "\n",
    "gama = 0.99\n",
    "eps = 1.0\n",
    "num_episodes = 5000\n",
    "max_steps_double = 500\n",
    "eps_decay = (0.01/eps) ** (1/num_episodes)\n",
    "interval = 1000"
   ]
  },
  {
   "cell_type": "code",
   "execution_count": 75,
   "metadata": {
    "colab": {
     "base_uri": "https://localhost:8080/"
    },
    "id": "DuGFHWKVlMBM",
    "outputId": "b59b4f20-ea95-4449-a6fa-2055c7ef2e9c"
   },
   "outputs": [
    {
     "data": {
      "text/plain": [
       "<All keys matched successfully>"
      ]
     },
     "execution_count": 75,
     "metadata": {},
     "output_type": "execute_result"
    }
   ],
   "source": [
    "double_pred_net = DoubleNeuralNetwork(env_double).to(device)\n",
    "double_target_net = DoubleNeuralNetwork(env_double).to(device)\n",
    "\n",
    "double_replay_buffer = deque(maxlen=BUFFER_SIZE)\n",
    "double_target_net.load_state_dict(double_pred_net.state_dict())"
   ]
  },
  {
   "cell_type": "code",
   "execution_count": 76,
   "metadata": {
    "id": "mzKNiMpglMBM"
   },
   "outputs": [],
   "source": [
    "double_optimizer = torch.optim.Adam(double_pred_net.parameters(), 5e-4)"
   ]
  },
  {
   "cell_type": "code",
   "execution_count": 40,
   "metadata": {
    "id": "b5MHAz5nlMBM"
   },
   "outputs": [],
   "source": [
    "#double DQN\n",
    "#initialize reply buffer\n",
    "state = env_double.reset()\n",
    "for _ in range(MIN_REPLY_SIZE):\n",
    "    action = env_double.action_space.sample()\n",
    "    state = to_tensor(state, (1, 4))\n",
    "    next_state, reward, done, info = env_double.step(action)\n",
    "#     new_obs, reward, done, info = env_double.step(2)\n",
    "    transition = (state, torch.tensor(action).view(1,1),torch.tensor(reward).view(1,1),torch.tensor(done).view(1,1),torch.tensor(next_state).view(1,4))\n",
    "    double_replay_buffer.append(transition)\n",
    "    state = next_state\n",
    "    \n",
    "    if done:\n",
    "        state = env_double.reset()"
   ]
  },
  {
   "cell_type": "code",
   "execution_count": 77,
   "metadata": {
    "colab": {
     "base_uri": "https://localhost:8080/"
    },
    "id": "L7kHQb8ElMBM",
    "outputId": "67b89129-a492-43d6-e61a-e147b2e6da48"
   },
   "outputs": [
    {
     "name": "stdout",
     "output_type": "stream",
     "text": [
      "Episode:  100\t| Score: 37.00\t| Avg Score: 24.47\t| Eps: 0.913\n",
      "\n",
      "Episode:  200\t| Score: 45.00\t| Avg Score: 30.91\t| Eps: 0.833\n",
      "\n",
      "Episode:  300\t| Score: 47.00\t| Avg Score: 40.23\t| Eps: 0.759\n",
      "\n",
      "Episode:  400\t| Score: 54.00\t| Avg Score: 49.29\t| Eps: 0.692\n",
      "\n",
      "Episode:  500\t| Score: 32.00\t| Avg Score: 63.45\t| Eps: 0.632\n",
      "\n",
      "Episode:  600\t| Score: 98.00\t| Avg Score: 84.81\t| Eps: 0.576\n",
      "\n",
      "Episode:  700\t| Score: 62.00\t| Avg Score: 102.02\t| Eps: 0.525\n",
      "\n",
      "Episode:  800\t| Score: 210.00\t| Avg Score: 136.87\t| Eps: 0.479\n",
      "\n",
      "Episode:  900\t| Score: 309.00\t| Avg Score: 148.56\t| Eps: 0.437\n",
      "\n",
      "Episode: 1000\t| Score: 198.00\t| Avg Score: 178.06\t| Eps: 0.398\n",
      "\n",
      "Episode: 1100\t| Score: 20.00\t| Avg Score: 214.27\t| Eps: 0.363\n",
      "\n",
      "Episode: 1200\t| Score: 169.00\t| Avg Score: 247.47\t| Eps: 0.331\n",
      "\n",
      "Episode: 1300\t| Score: 267.00\t| Avg Score: 261.45\t| Eps: 0.302\n",
      "\n",
      "Episode: 1400\t| Score: 298.00\t| Avg Score: 286.17\t| Eps: 0.276\n",
      "\n",
      "Episode: 1500\t| Score: 266.00\t| Avg Score: 292.86\t| Eps: 0.251\n",
      "\n",
      "Episode: 1600\t| Score: 318.00\t| Avg Score: 304.32\t| Eps: 0.229\n",
      "\n",
      "Episode: 1700\t| Score: 330.00\t| Avg Score: 307.10\t| Eps: 0.209\n",
      "\n",
      "Episode: 1800\t| Score: 500.00\t| Avg Score: 316.04\t| Eps: 0.191\n",
      "\n",
      "Episode: 1900\t| Score: 286.00\t| Avg Score: 316.15\t| Eps: 0.174\n",
      "\n",
      "Episode: 2000\t| Score: 303.00\t| Avg Score: 317.09\t| Eps: 0.159\n",
      "\n",
      "Episode: 2100\t| Score: 500.00\t| Avg Score: 317.24\t| Eps: 0.145\n",
      "\n",
      "Episode: 2200\t| Score: 336.00\t| Avg Score: 319.92\t| Eps: 0.132\n",
      "\n",
      "Episode: 2300\t| Score: 331.00\t| Avg Score: 336.59\t| Eps: 0.120\n",
      "\n",
      "Episode: 2400\t| Score: 500.00\t| Avg Score: 318.74\t| Eps: 0.110\n",
      "\n",
      "Episode: 2500\t| Score: 287.00\t| Avg Score: 325.15\t| Eps: 0.100\n",
      "\n",
      "Episode: 2600\t| Score: 276.00\t| Avg Score: 329.66\t| Eps: 0.091\n",
      "\n",
      "Episode: 2700\t| Score: 312.00\t| Avg Score: 324.04\t| Eps: 0.083\n",
      "\n",
      "Episode: 2800\t| Score: 286.00\t| Avg Score: 333.38\t| Eps: 0.076\n",
      "\n",
      "Episode: 2900\t| Score: 289.00\t| Avg Score: 331.47\t| Eps: 0.069\n",
      "\n",
      "Episode: 3000\t| Score: 287.00\t| Avg Score: 343.03\t| Eps: 0.063\n",
      "\n",
      "Episode: 3100\t| Score: 285.00\t| Avg Score: 335.64\t| Eps: 0.058\n",
      "\n",
      "Episode: 3200\t| Score: 377.00\t| Avg Score: 332.96\t| Eps: 0.053\n",
      "\n",
      "Episode: 3300\t| Score: 303.00\t| Avg Score: 332.83\t| Eps: 0.048\n",
      "\n",
      "Episode: 3400\t| Score: 344.00\t| Avg Score: 341.57\t| Eps: 0.044\n",
      "\n",
      "Episode: 3500\t| Score: 299.00\t| Avg Score: 327.03\t| Eps: 0.040\n",
      "\n",
      "Episode: 3600\t| Score: 280.00\t| Avg Score: 337.20\t| Eps: 0.036\n",
      "\n",
      "Episode: 3700\t| Score: 266.00\t| Avg Score: 326.94\t| Eps: 0.033\n",
      "\n",
      "Episode: 3800\t| Score: 274.00\t| Avg Score: 343.74\t| Eps: 0.030\n",
      "\n",
      "Episode: 3900\t| Score: 320.00\t| Avg Score: 328.95\t| Eps: 0.028\n",
      "\n",
      "Episode: 4000\t| Score: 349.00\t| Avg Score: 337.14\t| Eps: 0.025\n",
      "\n",
      "Episode: 4100\t| Score: 360.00\t| Avg Score: 339.80\t| Eps: 0.023\n",
      "\n",
      "Episode: 4200\t| Score: 373.00\t| Avg Score: 350.12\t| Eps: 0.021\n",
      "\n",
      "Episode: 4300\t| Score: 293.00\t| Avg Score: 335.34\t| Eps: 0.019\n",
      "\n",
      "Episode: 4400\t| Score: 293.00\t| Avg Score: 341.22\t| Eps: 0.017\n",
      "\n",
      "Episode: 4500\t| Score: 339.00\t| Avg Score: 335.12\t| Eps: 0.016\n",
      "\n",
      "Episode: 4600\t| Score: 326.00\t| Avg Score: 338.77\t| Eps: 0.014\n",
      "\n",
      "Episode: 4700\t| Score: 271.00\t| Avg Score: 334.54\t| Eps: 0.013\n",
      "\n",
      "Episode: 4800\t| Score: 366.00\t| Avg Score: 347.56\t| Eps: 0.012\n",
      "\n",
      "Episode: 4900\t| Score: 353.00\t| Avg Score: 356.07\t| Eps: 0.011\n",
      "\n",
      "Episode: 5000\t| Score: 291.00\t| Avg Score: 343.86\t| Eps: 0.010\n",
      "\n",
      "The time of execution of the DQN algorithm is:  277.61530685424805\n"
     ]
    }
   ],
   "source": [
    "#MAIN ACTION\n",
    "double_total_reward = []\n",
    "print_every = 100\n",
    "tau = 1e-3\n",
    "double_reward_window = deque(maxlen=100)\n",
    "double_epsilon=[]\n",
    "t1 = time.time()\n",
    "count = 0\n",
    "# for epi in itertools.count():\n",
    "for epi in range(num_episodes):\n",
    "    count+=1\n",
    "    state = env_double.reset()\n",
    "    double_epi_reward = 0\n",
    "    double_epsilon.append(eps)\n",
    "    for step in range(max_steps_double):\n",
    "        count += 1\n",
    "        val=np.random.random()\n",
    "        state = to_tensor(state, (1, 4))\n",
    "        action = pred_net.get_action(state, val, eps)\n",
    "        next_state, reward, done, info = env_double.step(action)\n",
    "        \n",
    "        transition = (state, torch.tensor(action).view(1,1),torch.tensor(reward).view(1,1),torch.tensor(done).view(1,1),torch.tensor(next_state).view(1,4))\n",
    "        replay_buffer.append(transition)\n",
    "        state = next_state\n",
    "        double_epi_reward += reward\n",
    "        \n",
    "        states = []\n",
    "        actions = []\n",
    "        rewards = []\n",
    "        dones = []\n",
    "        next_states = []\n",
    "        \n",
    "        if step % interval == 0:\n",
    "            if len(replay_buffer) >= BATCH_SIZE:\n",
    "              sample = [replay_buffer[i] for i in random.sample(range(len(replay_buffer)), BATCH_SIZE)]\n",
    "              for i in sample:\n",
    "                  states.append(i[0])\n",
    "                  actions.append(i[1])\n",
    "                  rewards.append(i[2])\n",
    "                  dones.append(i[3])\n",
    "                  next_states.append(i[4])\n",
    "              states = torch.cat(states, dim=0).float().to(device)\n",
    "              actions = torch.cat(actions, dim=0).to(device)\n",
    "              rewards = torch.cat(rewards, dim=0).float().to(device)\n",
    "              dones = torch.cat(dones, dim=0).float().to(device)\n",
    "              next_states = torch.cat(next_states, dim=0).float().to(device)\n",
    "              with torch.no_grad():\n",
    "                  greedy_action = double_pred_net(next_states).argmax(dim=-1)\n",
    "                  greedy_action = greedy_action[:, None]\n",
    "                  double_q_max = double_target_net(next_states).gather(1, greedy_action)\n",
    "                  q_target = rewards + gama * double_q_max * (1 - dones)\n",
    "              q_val = double_pred_net(states).gather(1, actions)\n",
    "              loss = nn.functional.smooth_l1_loss(q_val, q_target)\n",
    "  #             loss = nn.MSELoss(q_val, q_target)\n",
    "              optimizer.zero_grad()\n",
    "              loss.backward()\n",
    "              optimizer.step()\n",
    "\n",
    "            for target_params, q_params in zip(target_net.parameters(),pred_net.parameters()):\n",
    "                target_params.data.copy_(tau * q_params.data + (1.0 - tau) * target_params.data)\n",
    "        if done:\n",
    "            break\n",
    "    double_total_reward.append(double_epi_reward)\n",
    "    double_reward_window.append(double_epi_reward)\n",
    "    \n",
    "    if epi % print_every == (print_every - 1):\n",
    "        print(f\"Episode: {epi + 1:4.0f}\\t| \" \n",
    "              + f\"Score: {double_epi_reward:3.2f}\\t| \"\n",
    "              + f\"Avg Score: {np.mean(double_reward_window):3.2f}\\t| \"\n",
    "              +f\"Eps: {eps:.3f}\\n\")\n",
    "    eps *= eps_decay\n",
    "    if np.mean(double_reward_window) >= 450.0:\n",
    "        print(f\"CartPole-v1 solved in the {epi + 1}th episode.\" +f\"\\tAvg Score: {np.mean(double_reward_window):3.2f}\")\n",
    "        # Save the model.\n",
    "        torch.save(pred_net.state_dict(), \"ddqn_for_cp-v1.pth\")\n",
    "        break\n",
    "\n",
    "t2 = time.time()\n",
    "print(\"The time of execution of the DQN algorithm is: \", t2 - t1)"
   ]
  },
  {
   "cell_type": "code",
   "execution_count": 142,
   "metadata": {
    "id": "GqJMZVQTCrdv"
   },
   "outputs": [],
   "source": [
    "torch.save(pred_net.state_dict(), \"ddqn_for_cp-v1.pth\")"
   ]
  },
  {
   "cell_type": "code",
   "execution_count": 78,
   "metadata": {
    "colab": {
     "base_uri": "https://localhost:8080/",
     "height": 304
    },
    "id": "FE6toqXnwadS",
    "outputId": "5d9f4e65-8d33-4fd8-85fc-9bb3eeaf2b41"
   },
   "outputs": [
    {
     "data": {
      "image/png": "[encoded data removed]",
      "text/plain": [
       "<Figure size 432x288 with 1 Axes>"
      ]
     },
     "metadata": {
      "needs_background": "light"
     },
     "output_type": "display_data"
    }
   ],
   "source": [
    "#DDQN\n",
    "# the plot for epsilons\n",
    "fig, ax = plt.subplots()\n",
    "ax.plot(double_epsilon)\n",
    "ax.set_xlabel(\"Episodes\", fontsize = 14)\n",
    "ax.set_ylabel(\"Epsilon\", color = \"black\", fontsize = 14)\n",
    "plt.title('Decaying Epsilon', color = \"darkgrey\", fontsize = 20)\n",
    "plt.show()"
   ]
  },
  {
   "cell_type": "code",
   "execution_count": 80,
   "metadata": {
    "colab": {
     "base_uri": "https://localhost:8080/",
     "height": 304
    },
    "id": "Zg-WijJ_wa8u",
    "outputId": "524c4fb1-dd0d-430e-f99d-62cc0be70db6"
   },
   "outputs": [
    {
     "data": {
      "image/png": "[encoded data removed]",
      "text/plain": [
       "<Figure size 432x288 with 1 Axes>"
      ]
     },
     "metadata": {
      "needs_background": "light"
     },
     "output_type": "display_data"
    }
   ],
   "source": [
    "# the plot for rewards\n",
    "x = np.arange(num_episodes) + 1\n",
    "y = np.array(double_total_reward)\n",
    "z = np.polyfit(x, y, 3)\n",
    "p = np.poly1d(z)\n",
    "\n",
    "fig, ax = plt.subplots(figsize = (6, 4))\n",
    "ax.plot(double_total_reward)\n",
    "ax.plot(x, p(x), 'r--')\n",
    "ax.set_xlabel(\"Episodes\", fontsize = 14)\n",
    "ax.set_ylabel(\"Scores\", color = \"black\", fontsize = 14)\n",
    "plt.title('DDQN Scores', color = \"darkgrey\", fontsize = 20)\n",
    "plt.legend(['Scores', 'Trend'])\n",
    "plt.show()"
   ]
  },
  {
   "cell_type": "code",
   "execution_count": null,
   "metadata": {
    "id": "Ry5u0lyJxJL-"
   },
   "outputs": [],
   "source": []
  },
  {
   "cell_type": "code",
   "execution_count": 129,
   "metadata": {
    "id": "yVkJWWk487Ny"
   },
   "outputs": [],
   "source": [
    "import pandas as pd"
   ]
  },
  {
   "cell_type": "code",
   "execution_count": 130,
   "metadata": {
    "colab": {
     "base_uri": "https://localhost:8080/",
     "height": 279
    },
    "id": "sjG-ue9P88Qi",
    "outputId": "3e6a8c1e-7cdd-4928-d368-2f2f4d79a2d0"
   },
   "outputs": [
    {
     "data": {
      "image/png": "[encoded data removed]",
      "text/plain": [
       "<Figure size 432x288 with 1 Axes>"
      ]
     },
     "metadata": {
      "needs_background": "light"
     },
     "output_type": "display_data"
    }
   ],
   "source": [
    "fig, ax = plt.subplots(1, 1)\n",
    "_ = pd.Series(total_reward[-100:], name = \"Score (DQN)\").plot(kind = \"kde\", ax = ax, label = \"DQN\")\n",
    "_ = pd.Series(double_total_reward[-100:], name = \"Score (Double DQN)\").plot(kind = \"kde\", ax = ax, label = \"Double DQN\")\n",
    "_ = ax.set_xlabel(\"Scores\")\n",
    "_ = ax.legend()"
   ]
  },
  {
   "cell_type": "code",
   "execution_count": 147,
   "metadata": {
    "colab": {
     "base_uri": "https://localhost:8080/"
    },
    "id": "3DcoX4_x9UPD",
    "outputId": "0250bb59-9765-42b7-aae9-8c46fbbf9399"
   },
   "outputs": [
    {
     "data": {
      "text/plain": [
       "<All keys matched successfully>"
      ]
     },
     "execution_count": 147,
     "metadata": {},
     "output_type": "execute_result"
    }
   ],
   "source": [
    "# Q-network for overwriting the successful model previously saved\n",
    "double_q_network_success = DoubleNeuralNetwork(env).to(device)\n",
    "double_q_network_success.load_state_dict(torch.load('ddqn_for_cp-v1.pth'))"
   ]
  },
  {
   "cell_type": "code",
   "execution_count": 148,
   "metadata": {
    "id": "TaEKfx6uC6TQ"
   },
   "outputs": [],
   "source": [
    "double_eval_epi_reward = []\n",
    "for i in range(5):\n",
    "  double_eval_epi_reward.append(record_mp4(double_q_network_success, env, 0, f'cp_v1_ddqn-{i+1}'))"
   ]
  },
  {
   "cell_type": "code",
   "execution_count": 149,
   "metadata": {
    "colab": {
     "base_uri": "https://localhost:8080/",
     "height": 304
    },
    "id": "zYADGMyzDCuE",
    "outputId": "dd9140f8-9bce-4b5b-d342-c79b434ae49d"
   },
   "outputs": [
    {
     "data": {
      "image/png": "[encoded data removed]",
      "text/plain": [
       "<Figure size 432x288 with 1 Axes>"
      ]
     },
     "metadata": {
      "needs_background": "light"
     },
     "output_type": "display_data"
    }
   ],
   "source": [
    "# the plot for epsilons\n",
    "fig, ax = plt.subplots()\n",
    "ax.plot(eval_epi_reward)\n",
    "ax.set_xlabel(\"Episodes\", fontsize = 14)\n",
    "ax.set_ylabel(\"Total_rewards\", color = \"black\", fontsize = 14)\n",
    "plt.title('Greedy actions', color = \"darkgrey\", fontsize = 20)\n",
    "plt.show()"
   ]
  },
  {
   "cell_type": "code",
   "execution_count": null,
   "metadata": {
    "id": "NYE1QLrGDZNY"
   },
   "outputs": [],
   "source": []
  }
 ],
 "metadata": {
  "colab": {
   "collapsed_sections": [],
   "name": "sarveshw_spark55_assignment2_part3.1_CartPole-v1.ipynb",
   "provenance": []
  },
  "kernelspec": {
   "display_name": "rl",
   "language": "python",
   "name": "rl"
  },
  "language_info": {
   "codemirror_mode": {
    "name": "ipython",
    "version": 3
   },
   "file_extension": ".py",
   "mimetype": "text/x-python",
   "name": "python",
   "nbconvert_exporter": "python",
   "pygments_lexer": "ipython3",
   "version": "3.8.10"
  }
 },
 "nbformat": 4,
 "nbformat_minor": 1
}
